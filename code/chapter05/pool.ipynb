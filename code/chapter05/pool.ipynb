{
 "cells": [
  {
   "cell_type": "code",
   "execution_count": 1,
   "metadata": {},
   "outputs": [
    {
     "data": {
      "text/plain": [
       "'2.0.0-rc2'"
      ]
     },
     "execution_count": 1,
     "metadata": {},
     "output_type": "execute_result"
    }
   ],
   "source": [
    "import tensorflow as tf\n",
    "tf.__version__"
   ]
  },
  {
   "cell_type": "markdown",
   "metadata": {},
   "source": [
    "### 池化层\n",
    "池化层的主要作用是减少数据对空间的敏感，主要有最大池化和平均池化"
   ]
  },
  {
   "cell_type": "code",
   "execution_count": 2,
   "metadata": {},
   "outputs": [],
   "source": [
    "def max_pool(X,pool_size,mode=\"max\"):\n",
    "    c_i,h,w = X.shape\n",
    "    p_h,p_w = pool_size\n",
    "    out = []\n",
    "    o_h,o_w = X.shape[1] - p_h + 1,X.shape[2] -p_w + 1\n",
    "    for c in range(c_i):\n",
    "        c_out = []\n",
    "        for i in range(o_h):\n",
    "            for j in range(o_w):\n",
    "                x = X[c,i:i+p_h,j:j+p_w]\n",
    "                c_out.append( (tf.reduce_max(x) if mode == \"max\" else tf.reduce_mean(x)) )\n",
    "        out.append(tf.reshape(tf.stack(c_out),shape=(o_h,o_w)))\n",
    "    return tf.stack(out)"
   ]
  },
  {
   "cell_type": "code",
   "execution_count": 3,
   "metadata": {},
   "outputs": [
    {
     "data": {
      "text/plain": [
       "<tf.Tensor: id=5, shape=(1, 5, 5), dtype=float32, numpy=\n",
       "array([[[-1.6190044 , -1.7472318 , -1.597117  ,  0.6069642 ,\n",
       "          0.6292278 ],\n",
       "        [-1.3054851 , -0.08884629, -0.02536662,  0.64657575,\n",
       "         -1.3497806 ],\n",
       "        [-0.64827347,  0.30910575,  1.5853575 , -1.8190321 ,\n",
       "         -0.583722  ],\n",
       "        [ 0.42387375,  1.5084459 ,  1.0241814 , -0.3987099 ,\n",
       "         -0.479944  ],\n",
       "        [ 1.0801529 , -0.28132275,  1.5214012 ,  0.79146785,\n",
       "         -0.932343  ]]], dtype=float32)>"
      ]
     },
     "execution_count": 3,
     "metadata": {},
     "output_type": "execute_result"
    }
   ],
   "source": [
    "x = tf.random.normal(shape=(1,5,5))\n",
    "x"
   ]
  },
  {
   "cell_type": "code",
   "execution_count": 4,
   "metadata": {},
   "outputs": [
    {
     "data": {
      "text/plain": [
       "<tf.Tensor: id=105, shape=(1, 4, 4), dtype=float32, numpy=\n",
       "array([[[-0.08884629, -0.02536662,  0.64657575,  0.64657575],\n",
       "        [ 0.30910575,  1.5853575 ,  1.5853575 ,  0.64657575],\n",
       "        [ 1.5084459 ,  1.5853575 ,  1.5853575 , -0.3987099 ],\n",
       "        [ 1.5084459 ,  1.5214012 ,  1.5214012 ,  0.79146785]]],\n",
       "      dtype=float32)>"
      ]
     },
     "execution_count": 4,
     "metadata": {},
     "output_type": "execute_result"
    }
   ],
   "source": [
    "max_pool(x,(2,2))"
   ]
  },
  {
   "cell_type": "code",
   "execution_count": 5,
   "metadata": {},
   "outputs": [
    {
     "data": {
      "text/plain": [
       "<tf.Tensor: id=205, shape=(1, 4, 4), dtype=float32, numpy=\n",
       "array([[[-1.1901419 , -0.8646405 , -0.09223591,  0.1332468 ],\n",
       "        [-0.4333748 ,  0.4450626 ,  0.09688365, -0.77648973],\n",
       "        [ 0.39828798,  1.1067727 ,  0.09794924, -0.82035196],\n",
       "        [ 0.6827874 ,  0.9431764 ,  0.73458517, -0.25488228]]],\n",
       "      dtype=float32)>"
      ]
     },
     "execution_count": 5,
     "metadata": {},
     "output_type": "execute_result"
    }
   ],
   "source": [
    "max_pool(x,(2,2),mode = \"avg\")"
   ]
  },
  {
   "cell_type": "markdown",
   "metadata": {},
   "source": [
    "### 填充和步幅\n",
    "\n",
    "池化层也可以设置填充和步幅，这里使用keras中的pool层"
   ]
  },
  {
   "cell_type": "code",
   "execution_count": 18,
   "metadata": {},
   "outputs": [],
   "source": [
    "with tf.device(\"/cpu:0\"):\n",
    "    pool = tf.keras.layers.MaxPooling2D(pool_size=(3,3),strides=3,padding=\"SAME\")\n",
    "    x = tf.random.normal(shape=(1,5,5,3))\n",
    "    out = pool(x)"
   ]
  },
  {
   "cell_type": "code",
   "execution_count": 19,
   "metadata": {},
   "outputs": [
    {
     "data": {
      "text/plain": [
       "<tf.Tensor: id=239, shape=(1, 2, 2, 3), dtype=float32, numpy=\n",
       "array([[[[1.5895929 , 1.1780937 , 2.143267  ],\n",
       "         [0.9174139 , 2.610871  , 1.6962621 ]],\n",
       "\n",
       "        [[0.04699831, 0.59916496, 1.2139673 ],\n",
       "         [1.0487039 , 0.35977775, 1.7876493 ]]]], dtype=float32)>"
      ]
     },
     "execution_count": 19,
     "metadata": {},
     "output_type": "execute_result"
    }
   ],
   "source": [
    "out"
   ]
  },
  {
   "cell_type": "code",
   "execution_count": 20,
   "metadata": {},
   "outputs": [],
   "source": [
    "with tf.device(\"/cpu:0\"):\n",
    "    pool = tf.keras.layers.AveragePooling2D(pool_size=(3,3),strides=3,padding=\"SAME\")\n",
    "    x = tf.random.normal(shape=(1,5,5,3))\n",
    "    out = pool(x)"
   ]
  },
  {
   "cell_type": "code",
   "execution_count": 21,
   "metadata": {},
   "outputs": [
    {
     "data": {
      "text/plain": [
       "<tf.Tensor: id=246, shape=(1, 2, 2, 3), dtype=float32, numpy=\n",
       "array([[[[ 0.34536174,  0.3740858 ,  0.12317541],\n",
       "         [-0.00785424,  0.42756078, -0.72562927]],\n",
       "\n",
       "        [[ 0.27400064, -0.15436958,  0.63357   ],\n",
       "         [ 0.11758621,  0.092325  , -0.13735373]]]], dtype=float32)>"
      ]
     },
     "execution_count": 21,
     "metadata": {},
     "output_type": "execute_result"
    }
   ],
   "source": [
    "out"
   ]
  },
  {
   "cell_type": "code",
   "execution_count": null,
   "metadata": {},
   "outputs": [],
   "source": []
  }
 ],
 "metadata": {
  "kernelspec": {
   "display_name": "tensorflow2.0",
   "language": "python",
   "name": "tensorflow2.0"
  },
  "language_info": {
   "codemirror_mode": {
    "name": "ipython",
    "version": 3
   },
   "file_extension": ".py",
   "mimetype": "text/x-python",
   "name": "python",
   "nbconvert_exporter": "python",
   "pygments_lexer": "ipython3",
   "version": "3.6.9"
  }
 },
 "nbformat": 4,
 "nbformat_minor": 4
}
