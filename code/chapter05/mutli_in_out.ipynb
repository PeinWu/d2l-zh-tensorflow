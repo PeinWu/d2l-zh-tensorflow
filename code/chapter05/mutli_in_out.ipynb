{
 "cells": [
  {
   "cell_type": "code",
   "execution_count": 1,
   "metadata": {},
   "outputs": [
    {
     "data": {
      "text/plain": [
       "'2.0.0-rc2'"
      ]
     },
     "execution_count": 1,
     "metadata": {},
     "output_type": "execute_result"
    }
   ],
   "source": [
    "import tensorflow as tf\n",
    "import tensorflow.keras as keras\n",
    "tf.__version__"
   ]
  },
  {
   "cell_type": "markdown",
   "metadata": {},
   "source": [
    "### 卷积\n",
    "卷积和互相关计算是等价的，所以使用互相关代替卷积计算"
   ]
  },
  {
   "cell_type": "code",
   "execution_count": 2,
   "metadata": {},
   "outputs": [],
   "source": [
    "def corr2D(X,K):\n",
    "    h,w = K.shape\n",
    "    out = []\n",
    "    for i in range(X.shape[0]-h+1):\n",
    "        for j in range(X.shape[1] - w +1):\n",
    "            out.append(tf.reduce_sum(tf.multiply(X[i:i+h,j:j+w],K)))\n",
    "    \n",
    "    return tf.reshape(tf.stack(out),shape=(X.shape[0]-h+1,X.shape[1] - w +1))"
   ]
  },
  {
   "cell_type": "code",
   "execution_count": 3,
   "metadata": {},
   "outputs": [
    {
     "data": {
      "text/plain": [
       "<tf.Tensor: id=5, shape=(5, 5), dtype=float32, numpy=\n",
       "array([[-0.67086244, -1.249338  , -0.8696687 , -0.8753675 ,  0.17212658],\n",
       "       [-0.48372144,  0.6710676 , -1.6753087 , -1.328354  ,  1.5116928 ],\n",
       "       [-0.1290347 ,  1.2543837 , -0.02874732, -0.8143559 , -0.30659676],\n",
       "       [-0.42957008,  1.2849354 , -0.25394708,  0.8172271 , -0.15696916],\n",
       "       [ 2.9322157 , -1.2894744 ,  1.079863  ,  0.5878853 ,  1.2958982 ]],\n",
       "      dtype=float32)>"
      ]
     },
     "execution_count": 3,
     "metadata": {},
     "output_type": "execute_result"
    }
   ],
   "source": [
    "x = tf.random.normal(shape=(5,5))\n",
    "x"
   ]
  },
  {
   "cell_type": "code",
   "execution_count": 4,
   "metadata": {},
   "outputs": [
    {
     "data": {
      "text/plain": [
       "<tf.Tensor: id=11, shape=(3, 3), dtype=float32, numpy=\n",
       "array([[-0.7105162 ,  0.7969053 ,  2.310464  ],\n",
       "       [-0.24110019,  1.441733  , -0.38343838],\n",
       "       [ 0.347125  , -0.07766689,  0.19343059]], dtype=float32)>"
      ]
     },
     "execution_count": 4,
     "metadata": {},
     "output_type": "execute_result"
    }
   ],
   "source": [
    "k = tf.random.normal(shape=(3,3))\n",
    "k"
   ]
  },
  {
   "cell_type": "code",
   "execution_count": 5,
   "metadata": {},
   "outputs": [
    {
     "data": {
      "text/plain": [
       "<tf.Tensor: id=77, shape=(3, 3), dtype=float32, numpy=\n",
       "array([[-0.9495561 , -3.6155348 , -1.7788702 ],\n",
       "       [-1.4396839 , -4.28877   ,  2.3928957 ],\n",
       "       [ 4.4052362 , -4.20275   ,  0.54257274]], dtype=float32)>"
      ]
     },
     "execution_count": 5,
     "metadata": {},
     "output_type": "execute_result"
    }
   ],
   "source": [
    "y = corr2D(x,k)\n",
    "y"
   ]
  },
  {
   "cell_type": "markdown",
   "metadata": {},
   "source": [
    "### 多通道输入\n",
    "多通道输入时建立和输入通道数相同的卷积核，输出是各个通道互相关计算后的和"
   ]
  },
  {
   "cell_type": "code",
   "execution_count": 6,
   "metadata": {},
   "outputs": [],
   "source": [
    "def corr2D_mutil_in(X,K):\n",
    "    out = []\n",
    "    for x,k in zip(X,K):\n",
    "        out.append(corr2D(x,k))\n",
    "    \n",
    "    y = tf.stack(out)\n",
    "    \n",
    "    return tf.reduce_sum(y,axis=0)"
   ]
  },
  {
   "cell_type": "code",
   "execution_count": 7,
   "metadata": {},
   "outputs": [
    {
     "data": {
      "text/plain": [
       "<tf.Tensor: id=83, shape=(3, 8, 8), dtype=float32, numpy=\n",
       "array([[[ 0.6702183 , -0.41185933, -0.41770554,  1.2909445 ,\n",
       "          0.30561313, -0.09082239, -0.01464035, -0.13954517],\n",
       "        [-0.63976413,  0.8535817 , -0.26961523,  0.25454444,\n",
       "         -0.9422396 ,  0.95343816, -0.09432691,  1.8358234 ],\n",
       "        [ 0.4477414 , -1.3823965 ,  0.98208606,  0.42875117,\n",
       "         -0.504145  , -1.7440288 ,  1.0240283 ,  0.8844639 ],\n",
       "        [ 0.5516646 , -0.21855839, -0.83118683, -2.1658611 ,\n",
       "         -0.93818784, -0.88073933,  0.7102285 , -0.41327748],\n",
       "        [ 0.28277463, -0.8142647 , -0.5995342 , -0.49852446,\n",
       "         -1.1570237 , -0.23572296,  0.18558708, -0.38288212],\n",
       "        [-1.2882795 , -0.6962568 ,  0.64279324,  0.2983431 ,\n",
       "          1.621172  ,  0.77016264,  0.23736979, -1.2105445 ],\n",
       "        [ 0.22032578,  0.02660481,  0.67669255, -1.6855978 ,\n",
       "          0.1242891 ,  0.77151567,  1.3915216 ,  0.77481794],\n",
       "        [-1.9619246 ,  1.3220599 , -2.4912717 , -0.02495448,\n",
       "         -0.9520941 , -1.3714763 ,  0.18927294, -0.71492517]],\n",
       "\n",
       "       [[-0.42801362, -0.6961166 ,  0.3759958 , -0.00650199,\n",
       "          1.1427608 , -1.2472615 , -1.1774964 , -0.53726363],\n",
       "        [-0.5167997 , -0.7201772 ,  0.12094595, -0.47331214,\n",
       "         -1.7809538 ,  0.9764213 , -0.56877875, -0.7383895 ],\n",
       "        [ 0.75538146,  0.7368811 , -1.5571394 , -1.3620923 ,\n",
       "          1.0086749 ,  0.44837013, -0.08362089,  1.6677256 ],\n",
       "        [-0.5317294 ,  0.04451203,  1.7996812 , -1.3207039 ,\n",
       "         -1.0362471 ,  0.21641214, -0.5332373 ,  0.31027436],\n",
       "        [ 0.07855001, -1.0975003 , -0.31562287, -0.5317373 ,\n",
       "         -1.7127482 , -1.6888139 ,  1.1432891 , -0.19584961],\n",
       "        [ 0.45167544,  1.1551347 , -0.5083876 , -0.12073144,\n",
       "          0.08509896, -0.0186372 , -0.5860283 , -0.6974445 ],\n",
       "        [-1.8705187 , -2.2647057 , -0.8391107 ,  0.3304705 ,\n",
       "          0.21015513, -0.7743607 ,  2.0968738 , -0.52185255],\n",
       "        [ 1.9832727 , -0.6167247 , -0.42689142, -0.8053268 ,\n",
       "         -0.71495146, -0.80872077,  0.8000585 , -1.1509395 ]],\n",
       "\n",
       "       [[ 0.67725587, -0.37373242,  0.8842722 , -0.44719747,\n",
       "          0.32823056,  0.43346766, -0.6704525 , -0.31789163],\n",
       "        [-1.2600102 , -0.83076096,  0.38216496,  0.39034697,\n",
       "          0.53135276, -1.7158229 , -0.25467932, -0.20133114],\n",
       "        [-0.13940254,  1.6014643 , -1.3282887 , -1.0494639 ,\n",
       "         -0.07598761, -1.4411132 , -1.2388885 , -0.4693264 ],\n",
       "        [ 1.4355443 ,  0.24981825,  0.9232032 ,  2.3939335 ,\n",
       "         -0.8794033 , -0.8508529 ,  1.0312716 , -0.36670578],\n",
       "        [ 0.57302475, -1.0593486 ,  0.12102283,  0.84329337,\n",
       "         -0.9283605 ,  1.9709098 , -0.01347888,  1.9788276 ],\n",
       "        [-0.8281378 ,  1.3417813 ,  2.493469  ,  0.21781075,\n",
       "         -0.6382275 , -0.7550464 ,  1.4827079 ,  0.9424578 ],\n",
       "        [ 0.8722928 ,  1.3049092 ,  0.3125716 ,  1.2367901 ,\n",
       "          0.7388913 ,  0.05166843, -1.0939069 , -1.565096  ],\n",
       "        [ 0.5902491 ,  0.82302964,  0.51945686,  1.6649821 ,\n",
       "         -0.7976029 ,  1.7316654 , -1.2511066 ,  0.18880025]]],\n",
       "      dtype=float32)>"
      ]
     },
     "execution_count": 7,
     "metadata": {},
     "output_type": "execute_result"
    }
   ],
   "source": [
    "x = tf.random.normal(shape=(3,8,8))\n",
    "x"
   ]
  },
  {
   "cell_type": "code",
   "execution_count": 8,
   "metadata": {},
   "outputs": [
    {
     "data": {
      "text/plain": [
       "<tf.Tensor: id=89, shape=(3, 3, 3), dtype=float32, numpy=\n",
       "array([[[ 0.37329087,  0.13370913,  0.4715222 ],\n",
       "        [-1.2173921 ,  1.2188172 ,  1.6774887 ],\n",
       "        [ 1.4478543 , -0.37743238, -0.14575428]],\n",
       "\n",
       "       [[-0.6869074 ,  0.7704096 ,  0.62822   ],\n",
       "        [-1.2913586 ,  0.6326922 ,  0.36846963],\n",
       "        [ 1.4176263 , -1.4780763 ,  0.17998028]],\n",
       "\n",
       "       [[-0.47253412, -0.4288232 , -1.145364  ],\n",
       "        [ 0.4810103 , -0.86370313, -0.08184679],\n",
       "        [-0.71141195, -0.86853373, -0.31018364]]], dtype=float32)>"
      ]
     },
     "execution_count": 8,
     "metadata": {},
     "output_type": "execute_result"
    }
   ],
   "source": [
    "k = tf.random.normal(shape=(3,3,3))\n",
    "k"
   ]
  },
  {
   "cell_type": "code",
   "execution_count": 9,
   "metadata": {},
   "outputs": [
    {
     "data": {
      "text/plain": [
       "<tf.Tensor: id=881, shape=(6, 6), dtype=float32, numpy=\n",
       "array([[ 0.37146318,  1.6084745 ,  0.96355605, -1.0064038 ,  6.8749285 ,\n",
       "        -0.45495248],\n",
       "       [-3.8867164 , -0.6051598 , -1.1538672 , -3.91329   ,  0.62210536,\n",
       "         5.530696  ],\n",
       "       [ 2.8170695 , -8.066082  , -7.30146   ,  7.3880024 ,  2.1140027 ,\n",
       "        -4.678872  ],\n",
       "       [-6.8061576 , -6.2954893 , -9.085506  , -2.014706  ,  3.573627  ,\n",
       "         3.9604692 ],\n",
       "       [-2.4378166 , -5.677442  ,  0.94711566, -5.01863   ,  0.3507282 ,\n",
       "        -8.934813  ],\n",
       "       [-2.836907  , -1.5936394 , -6.0352597 ,  3.9985266 ,  1.7300142 ,\n",
       "        -1.8911874 ]], dtype=float32)>"
      ]
     },
     "execution_count": 9,
     "metadata": {},
     "output_type": "execute_result"
    }
   ],
   "source": [
    "corr2D_mutil_in(x,k)"
   ]
  },
  {
   "cell_type": "markdown",
   "metadata": {},
   "source": [
    "### 多通道输出\n",
    "多通道输出时，建立和输出通道个数相同的卷积和，如果输入通道数是Ci，输出通道数是Co，卷积核大小是Kh，Kw，那么卷积和的参数有Ci × Co × Kh × Kw"
   ]
  },
  {
   "cell_type": "code",
   "execution_count": 10,
   "metadata": {},
   "outputs": [],
   "source": [
    "def mutil_in_out(X,K):\n",
    "    '''Co->Ci->Kh->Kw'''\n",
    "    arr_k = tf.unstack(k)\n",
    "    out = []\n",
    "    for i in arr_k:\n",
    "        out.append(corr2D_mutil_in(X,i))\n",
    "    return tf.stack(out)"
   ]
  },
  {
   "cell_type": "code",
   "execution_count": 11,
   "metadata": {},
   "outputs": [],
   "source": [
    "## 输入三个通道，大小是8x8\n",
    "x = tf.random.normal(shape=(3,8,8))"
   ]
  },
  {
   "cell_type": "code",
   "execution_count": 12,
   "metadata": {},
   "outputs": [],
   "source": [
    "#输出5个通道,输入三个通道，大小是3x3\n",
    "k = tf.random.normal(shape=(5,3,3,3))"
   ]
  },
  {
   "cell_type": "code",
   "execution_count": 13,
   "metadata": {},
   "outputs": [
    {
     "data": {
      "text/plain": [
       "<tf.Tensor: id=4859, shape=(5, 6, 6), dtype=float32, numpy=\n",
       "array([[[ -2.004843  ,  -5.893652  ,   3.174364  ,  -2.1334522 ,\n",
       "          -0.27104115,   5.4537454 ],\n",
       "        [ -3.276765  ,  -7.6365685 ,   3.662012  ,  -6.9354734 ,\n",
       "           2.3024287 ,  -4.8843727 ],\n",
       "        [  1.1619089 ,   3.1474032 ,  -2.8441525 ,  12.3779125 ,\n",
       "          -5.8827972 ,  -2.770535  ],\n",
       "        [  1.1584239 ,  -1.4732981 ,   2.6801019 ,   0.08984685,\n",
       "           2.9919417 ,   2.6620955 ],\n",
       "        [  3.6778421 ,  -3.9106898 ,  -1.2861643 ,   1.681752  ,\n",
       "           6.0077286 ,  -0.65976214],\n",
       "        [  1.97316   ,   0.8799169 ,  -2.5793993 ,  -2.3244622 ,\n",
       "           8.072494  ,  -2.9069693 ]],\n",
       "\n",
       "       [[  0.4698838 ,   0.07080626,  -5.6248217 ,   0.9822314 ,\n",
       "           2.3946815 ,   1.0716003 ],\n",
       "        [  0.7432442 ,   5.6763687 ,  10.595133  ,  -0.9425566 ,\n",
       "          -7.160106  ,   3.2300835 ],\n",
       "        [  0.5609729 ,   5.726545  ,   6.4722996 ,   5.25488   ,\n",
       "           0.52213705,  -6.951376  ],\n",
       "        [ -3.7406054 ,   3.9184155 ,   2.384643  ,   2.930022  ,\n",
       "          10.697524  ,  11.703502  ],\n",
       "        [ -1.9731753 ,   0.42920327,  -6.7736263 , -11.135415  ,\n",
       "          -9.619504  ,   0.4383943 ],\n",
       "        [ -6.783143  ,   8.791963  ,  -2.8804708 ,  -3.3806841 ,\n",
       "          -8.611026  ,  -3.699404  ]],\n",
       "\n",
       "       [[  1.7289219 ,  -2.3140514 ,  -2.5731702 ,  -1.7827022 ,\n",
       "          -2.3146615 ,  -3.2480378 ],\n",
       "        [ -4.9424124 ,   1.5915339 ,  -3.0293643 ,  -5.011299  ,\n",
       "           6.031272  ,   2.2096229 ],\n",
       "        [ -6.525097  ,  -3.3355048 ,  -3.306053  ,  -4.40675   ,\n",
       "          -0.05532622,   1.3815854 ],\n",
       "        [  2.8848839 ,  -0.8934303 ,   2.9791338 ,  12.223056  ,\n",
       "          -0.5142412 ,  -5.9930506 ],\n",
       "        [  6.664871  ,  -6.8386836 ,  -0.6110585 ,   1.9442937 ,\n",
       "           7.5019884 ,  -3.6086354 ],\n",
       "        [  5.108879  ,  -7.2133875 ,  -6.6929936 ,  -3.8961854 ,\n",
       "           3.382084  ,   1.6510751 ]],\n",
       "\n",
       "       [[ -5.142087  ,  -5.4903693 ,   4.0370717 ,  -3.1444242 ,\n",
       "           0.76978314,   1.5222467 ],\n",
       "        [  0.2714672 ,  -2.159295  ,  -5.852886  ,   0.49684468,\n",
       "           1.6526937 ,  -1.6294734 ],\n",
       "        [  4.1758914 ,  -1.9406054 ,  -6.5651093 ,   5.3703504 ,\n",
       "           1.1695004 ,  -0.447141  ],\n",
       "        [  6.83742   ,  -6.2061357 ,  -7.975893  ,  -1.7261485 ,\n",
       "           2.582334  ,  -7.339486  ],\n",
       "        [  2.3762448 ,   3.5958993 ,   1.0470157 ,  -8.730788  ,\n",
       "           3.2831018 ,   1.6561708 ],\n",
       "        [  4.373187  ,  -1.4291337 ,  -1.0996733 ,   2.3809962 ,\n",
       "           8.645478  ,   1.8896037 ]],\n",
       "\n",
       "       [[  3.4562612 ,  -3.1372166 ,  -3.0724869 ,  19.683992  ,\n",
       "         -13.519657  ,  -5.4909277 ],\n",
       "        [-19.114758  ,   6.2871385 ,  -5.594125  ,  -0.2166729 ,\n",
       "           0.91549015,   8.258964  ],\n",
       "        [ -8.783802  ,   7.919182  ,   5.3710303 ,  -0.8165739 ,\n",
       "           6.4000683 ,  -1.6829367 ],\n",
       "        [  0.6394975 ,  11.484908  , -10.635368  ,   8.813537  ,\n",
       "          -0.5700028 ,  -3.6825886 ],\n",
       "        [  0.97921324,  -8.556187  ,   2.4075408 ,  -5.040298  ,\n",
       "           4.5349054 , -11.406397  ],\n",
       "        [ 10.167304  ,   2.5367627 , -10.825681  ,   2.5529647 ,\n",
       "          -1.3692514 ,   3.148374  ]]], dtype=float32)>"
      ]
     },
     "execution_count": 13,
     "metadata": {},
     "output_type": "execute_result"
    }
   ],
   "source": [
    "mutil_in_out(x,k)"
   ]
  },
  {
   "cell_type": "markdown",
   "metadata": {},
   "source": [
    "### 1X1卷积核\n",
    "1X1卷积核的相当于全连接，它的主要作用是用来控制卷积的参数和输出的通道数"
   ]
  },
  {
   "cell_type": "code",
   "execution_count": 14,
   "metadata": {},
   "outputs": [],
   "source": [
    "def mutil_in_out_1x1(X,K):\n",
    "    c_i,h,w = X.shape\n",
    "    c_o = K.shape[0]\n",
    "    x = tf.reshape(X,shape=(c_i,h*w))\n",
    "    k = tf.reshape(K,shape=(c_o,c_i))\n",
    "    out = tf.matmul(k,x)\n",
    "    return tf.reshape(out,shape=(c_o,h,w))"
   ]
  },
  {
   "cell_type": "code",
   "execution_count": 15,
   "metadata": {},
   "outputs": [],
   "source": [
    "x = tf.random.normal(shape=(3,8,8))\n",
    "k = tf.random.normal(shape=(5,3,1,1))"
   ]
  },
  {
   "cell_type": "code",
   "execution_count": 22,
   "metadata": {},
   "outputs": [],
   "source": [
    "y1 = mutil_in_out_1x1(x,k)"
   ]
  },
  {
   "cell_type": "code",
   "execution_count": 23,
   "metadata": {},
   "outputs": [],
   "source": [
    "y2 = mutil_in_out(x,k)"
   ]
  },
  {
   "cell_type": "code",
   "execution_count": 24,
   "metadata": {},
   "outputs": [
    {
     "data": {
      "text/plain": [
       "<tf.Tensor: id=18699, shape=(5, 8, 8), dtype=bool, numpy=\n",
       "array([[[ True,  True,  True,  True,  True,  True,  True,  True],\n",
       "        [ True,  True,  True,  True,  True,  True,  True,  True],\n",
       "        [ True,  True,  True,  True,  True,  True,  True,  True],\n",
       "        [ True,  True,  True,  True,  True,  True,  True,  True],\n",
       "        [ True,  True,  True,  True,  True,  True,  True,  True],\n",
       "        [ True,  True,  True,  True,  True,  True,  True,  True],\n",
       "        [ True,  True,  True,  True,  True,  True,  True,  True],\n",
       "        [ True,  True,  True,  True,  True,  True,  True,  True]],\n",
       "\n",
       "       [[ True,  True,  True,  True,  True,  True,  True,  True],\n",
       "        [ True,  True,  True,  True,  True,  True,  True,  True],\n",
       "        [ True,  True,  True,  True,  True,  True,  True,  True],\n",
       "        [ True,  True,  True,  True,  True,  True,  True,  True],\n",
       "        [ True,  True,  True,  True,  True,  True,  True,  True],\n",
       "        [ True,  True,  True,  True,  True,  True,  True,  True],\n",
       "        [ True,  True,  True,  True,  True,  True,  True,  True],\n",
       "        [ True,  True,  True,  True,  True,  True,  True,  True]],\n",
       "\n",
       "       [[ True,  True,  True,  True,  True,  True,  True,  True],\n",
       "        [ True,  True,  True,  True,  True,  True,  True,  True],\n",
       "        [ True,  True,  True,  True,  True,  True,  True,  True],\n",
       "        [ True,  True,  True,  True,  True,  True,  True,  True],\n",
       "        [ True,  True,  True,  True,  True,  True,  True,  True],\n",
       "        [ True,  True,  True,  True,  True,  True,  True,  True],\n",
       "        [ True,  True,  True,  True,  True,  True,  True,  True],\n",
       "        [ True,  True,  True,  True,  True,  True,  True,  True]],\n",
       "\n",
       "       [[ True,  True,  True,  True,  True,  True,  True,  True],\n",
       "        [ True,  True,  True,  True,  True,  True,  True,  True],\n",
       "        [ True,  True,  True,  True,  True,  True,  True,  True],\n",
       "        [ True,  True,  True,  True,  True,  True,  True,  True],\n",
       "        [ True,  True,  True,  True,  True,  True,  True,  True],\n",
       "        [ True,  True,  True,  True,  True,  True,  True,  True],\n",
       "        [ True,  True,  True,  True,  True,  True,  True,  True],\n",
       "        [ True,  True,  True,  True,  True,  True,  True,  True]],\n",
       "\n",
       "       [[ True,  True,  True,  True,  True,  True,  True,  True],\n",
       "        [ True,  True,  True,  True,  True,  True,  True,  True],\n",
       "        [ True,  True,  True,  True,  True,  True,  True,  True],\n",
       "        [ True,  True,  True,  True,  True,  True,  True,  True],\n",
       "        [ True,  True,  True,  True,  True,  True,  True,  True],\n",
       "        [ True,  True,  True,  True,  True,  True,  True,  True],\n",
       "        [ True,  True,  True,  True,  True,  True,  True,  True],\n",
       "        [ True,  True,  True,  True,  True,  True,  True,  True]]])>"
      ]
     },
     "execution_count": 24,
     "metadata": {},
     "output_type": "execute_result"
    }
   ],
   "source": [
    "y1 == y2"
   ]
  },
  {
   "cell_type": "code",
   "execution_count": null,
   "metadata": {},
   "outputs": [],
   "source": []
  }
 ],
 "metadata": {
  "kernelspec": {
   "display_name": "tf2.0",
   "language": "python",
   "name": "tensorflow2.0"
  },
  "language_info": {
   "codemirror_mode": {
    "name": "ipython",
    "version": 3
   },
   "file_extension": ".py",
   "mimetype": "text/x-python",
   "name": "python",
   "nbconvert_exporter": "python",
   "pygments_lexer": "ipython3",
   "version": "3.6.9"
  }
 },
 "nbformat": 4,
 "nbformat_minor": 4
}
