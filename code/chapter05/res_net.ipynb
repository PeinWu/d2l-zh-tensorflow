{
 "cells": [
  {
   "cell_type": "code",
   "execution_count": 1,
   "metadata": {},
   "outputs": [
    {
     "data": {
      "text/plain": [
       "'2.0.0'"
      ]
     },
     "execution_count": 1,
     "metadata": {},
     "output_type": "execute_result"
    }
   ],
   "source": [
    "import tensorflow as tf\n",
    "import numpy as np\n",
    "import tensorflow.keras as keras\n",
    "import tensorflow.keras.layers as layers\n",
    "import pathlib\n",
    "tf.__version__"
   ]
  },
  {
   "cell_type": "markdown",
   "metadata": {},
   "source": [
    "![Image text](http://zh.d2l.ai/_images/residual-block.svg)"
   ]
  },
  {
   "cell_type": "code",
   "execution_count": 26,
   "metadata": {},
   "outputs": [],
   "source": [
    "class Residual(layers.Layer):\n",
    "    def __init__(self,num_chanels,use_1x1_conv=False,strides=1,**kwargs):\n",
    "        super(Residual,self).__init__(**kwargs)\n",
    "        self.conv1 = layers.Conv2D(filters=num_chanels,kernel_size=3,padding=\"same\",strides=strides)\n",
    "        self.conv2 = layers.Conv2D(filters=num_chanels,kernel_size=3,padding=\"same\")\n",
    "        \n",
    "        if use_1x1_conv:\n",
    "            self.conv3 = layers.Conv2D(filters=num_chanels,strides=strides,kernel_size=1)\n",
    "        else:\n",
    "            self.conv3 = None\n",
    "            \n",
    "        self.bn1 = layers.BatchNormalization()\n",
    "        self.bn2 = layers.BatchNormalization()\n",
    "        \n",
    "    \n",
    "    def call(self,x):\n",
    "        Y = keras.activations.relu(self.bn1(self.conv1(x)))\n",
    "        Y = self.bn2(self.conv2(Y))\n",
    "        \n",
    "        if self.conv3:\n",
    "            x = self.conv3(x)\n",
    "        \n",
    "        return keras.activations.relu(tf.add(Y,x))\n",
    "        "
   ]
  },
  {
   "cell_type": "code",
   "execution_count": 27,
   "metadata": {},
   "outputs": [
    {
     "data": {
      "text/plain": [
       "<tf.Tensor: id=5189, shape=(1, 5, 5, 5), dtype=float32, numpy=\n",
       "array([[[[0.        , 0.        , 0.        , 1.0525084 , 1.40469   ],\n",
       "         [1.792652  , 0.        , 0.44587052, 0.8304973 , 0.5589856 ],\n",
       "         [0.        , 0.        , 0.        , 0.        , 0.7277136 ],\n",
       "         [0.52829194, 0.33394304, 0.        , 0.6304153 , 0.68458104],\n",
       "         [0.20289277, 0.        , 0.        , 0.01815442, 0.80198115]],\n",
       "\n",
       "        [[0.        , 2.0795255 , 0.25523627, 1.8635278 , 0.        ],\n",
       "         [1.208963  , 0.87992   , 0.45269763, 0.28367552, 0.        ],\n",
       "         [0.        , 0.        , 0.47086075, 0.9963012 , 0.        ],\n",
       "         [0.        , 0.54346305, 0.        , 0.52445257, 0.        ],\n",
       "         [0.69520164, 0.15453506, 0.19637758, 0.11191265, 0.        ]],\n",
       "\n",
       "        [[0.        , 0.        , 0.        , 0.        , 0.75999755],\n",
       "         [0.        , 0.5269203 , 0.        , 0.25629878, 0.        ],\n",
       "         [0.        , 0.        , 0.        , 0.15020207, 0.830908  ],\n",
       "         [0.984838  , 0.9147878 , 0.9190862 , 0.6141675 , 0.7715854 ],\n",
       "         [0.        , 0.        , 0.        , 0.        , 0.        ]],\n",
       "\n",
       "        [[2.1498826 , 0.        , 0.        , 0.95439875, 2.246837  ],\n",
       "         [0.        , 0.69112647, 0.27892238, 0.        , 0.        ],\n",
       "         [0.        , 1.0133965 , 0.5296733 , 1.1646932 , 0.        ],\n",
       "         [0.        , 1.2550735 , 0.        , 0.        , 0.        ],\n",
       "         [0.5474019 , 0.14059195, 0.11581213, 0.39385918, 0.        ]],\n",
       "\n",
       "        [[0.17900637, 0.00439226, 0.46196836, 0.        , 0.        ],\n",
       "         [0.        , 0.        , 0.        , 0.        , 0.        ],\n",
       "         [0.        , 1.379035  , 0.18808994, 0.        , 0.01960565],\n",
       "         [0.        , 1.3577325 , 0.01571593, 0.15419099, 0.        ],\n",
       "         [0.        , 0.        , 0.        , 0.        , 0.2571119 ]]]],\n",
       "      dtype=float32)>"
      ]
     },
     "execution_count": 27,
     "metadata": {},
     "output_type": "execute_result"
    }
   ],
   "source": [
    "res = Residual(5,use_1x1_conv=True)\n",
    "x = tf.random.normal(shape=(1,5,5,3))\n",
    "res(x)"
   ]
  },
  {
   "cell_type": "code",
   "execution_count": 28,
   "metadata": {},
   "outputs": [
    {
     "data": {
      "text/plain": [
       "<tf.Tensor: id=5352, shape=(1, 5, 5, 3), dtype=float32, numpy=\n",
       "array([[[[1.9288943 , 1.0995517 , 0.77469164],\n",
       "         [0.81393814, 0.        , 0.07809567],\n",
       "         [0.        , 1.5463235 , 0.        ],\n",
       "         [0.        , 0.        , 0.        ],\n",
       "         [0.31324953, 0.        , 0.        ]],\n",
       "\n",
       "        [[0.        , 0.        , 1.0434363 ],\n",
       "         [1.7660038 , 0.        , 0.        ],\n",
       "         [0.3596599 , 1.2341691 , 0.5523492 ],\n",
       "         [0.17545742, 0.0952903 , 0.        ],\n",
       "         [0.        , 0.        , 1.1075728 ]],\n",
       "\n",
       "        [[0.        , 0.2707551 , 0.833319  ],\n",
       "         [0.71844065, 1.0182515 , 0.        ],\n",
       "         [0.        , 0.6529656 , 0.        ],\n",
       "         [0.        , 0.        , 0.27398854],\n",
       "         [1.6161797 , 0.03567117, 1.1163002 ]],\n",
       "\n",
       "        [[0.        , 0.13964036, 0.        ],\n",
       "         [0.77965486, 0.        , 0.        ],\n",
       "         [0.85333556, 1.1911275 , 1.053676  ],\n",
       "         [0.19504511, 0.8152349 , 0.        ],\n",
       "         [0.        , 0.64812434, 0.        ]],\n",
       "\n",
       "        [[0.        , 0.        , 0.        ],\n",
       "         [0.        , 0.28940022, 0.46651775],\n",
       "         [0.        , 2.3680425 , 1.1119823 ],\n",
       "         [0.        , 0.06220594, 0.7012329 ],\n",
       "         [1.001959  , 0.8789687 , 0.4335952 ]]]], dtype=float32)>"
      ]
     },
     "execution_count": 28,
     "metadata": {},
     "output_type": "execute_result"
    }
   ],
   "source": [
    "res = Residual(3)\n",
    "x = tf.random.normal(shape=(1,5,5,3))\n",
    "res(x)"
   ]
  },
  {
   "cell_type": "code",
   "execution_count": 29,
   "metadata": {},
   "outputs": [],
   "source": [
    "def res_block(num_chanels,num_residual,first_block=False):\n",
    "    net = keras.Sequential()\n",
    "    for i in range(num_residual):\n",
    "        if i == 0 and not first_block:\n",
    "            net.add(Residual(num_chanels,use_1x1_conv=True,strides=2))\n",
    "        else:\n",
    "            net.add(Residual(num_chanels))\n",
    "    return net"
   ]
  },
  {
   "cell_type": "code",
   "execution_count": 35,
   "metadata": {},
   "outputs": [],
   "source": [
    "net = keras.Sequential(\n",
    "[\n",
    "    layers.InputLayer(input_shape=(224,224,3)),\n",
    "    layers.Conv2D(64,kernel_size=7,strides=2,padding=\"same\"),\n",
    "    layers.BatchNormalization(),\n",
    "    layers.Activation(\"relu\"),\n",
    "    layers.MaxPooling2D(pool_size=3,strides=2,padding=\"same\"),\n",
    "    res_block(64,2,first_block=True),\n",
    "    res_block(128,2),\n",
    "    res_block(256,2),\n",
    "    res_block(512,2),\n",
    "    layers.GlobalAveragePooling2D(),\n",
    "    layers.Flatten(),\n",
    "    layers.Dense(10,activation=\"softmax\")\n",
    "]\n",
    ")"
   ]
  },
  {
   "cell_type": "code",
   "execution_count": 33,
   "metadata": {},
   "outputs": [
    {
     "name": "stdout",
     "output_type": "stream",
     "text": [
      "Model: \"sequential_40\"\n",
      "_________________________________________________________________\n",
      "Layer (type)                 Output Shape              Param #   \n",
      "=================================================================\n",
      "conv2d_164 (Conv2D)          (None, 112, 112, 64)      9472      \n",
      "_________________________________________________________________\n",
      "batch_normalization_142 (Bat (None, 112, 112, 64)      256       \n",
      "_________________________________________________________________\n",
      "activation_10 (Activation)   (None, 112, 112, 64)      0         \n",
      "_________________________________________________________________\n",
      "max_pooling2d_10 (MaxPooling (None, 56, 56, 64)        0         \n",
      "_________________________________________________________________\n",
      "sequential_36 (Sequential)   (None, 56, 56, 64)        148736    \n",
      "_________________________________________________________________\n",
      "sequential_37 (Sequential)   (None, 28, 28, 128)       526976    \n",
      "_________________________________________________________________\n",
      "sequential_38 (Sequential)   (None, 14, 14, 256)       2102528   \n",
      "_________________________________________________________________\n",
      "sequential_39 (Sequential)   (None, 7, 7, 512)         8399360   \n",
      "_________________________________________________________________\n",
      "global_average_pooling2d_6 ( (None, 512)               0         \n",
      "_________________________________________________________________\n",
      "dense_6 (Dense)              (None, 5)                 2565      \n",
      "=================================================================\n",
      "Total params: 11,189,893\n",
      "Trainable params: 11,182,085\n",
      "Non-trainable params: 7,808\n",
      "_________________________________________________________________\n"
     ]
    }
   ],
   "source": [
    "net.summary()"
   ]
  },
  {
   "cell_type": "code",
   "execution_count": 40,
   "metadata": {},
   "outputs": [],
   "source": [
    "class Residual2(layers.Layer):\n",
    "    def __init__(self,num_chanels,use_1x1_conv=False,strides=1,**kwargs):\n",
    "        super(Residual2,self).__init__(**kwargs)\n",
    "        self.conv1 = layers.Conv2D(filters=num_chanels,kernel_size=3,padding=\"same\",strides=strides)\n",
    "        self.conv2 = layers.Conv2D(filters=num_chanels,kernel_size=3,padding=\"same\")\n",
    "        \n",
    "        if use_1x1_conv:\n",
    "            self.conv3 = layers.Conv2D(filters=num_chanels,strides=strides,kernel_size=1)\n",
    "        else:\n",
    "            self.conv3 = None\n",
    "            \n",
    "        self.bn1 = layers.BatchNormalization()\n",
    "        self.bn2 = layers.BatchNormalization()\n",
    "        \n",
    "    \n",
    "    def call(self,x):\n",
    "        Y = self.conv1(keras.activations.relu(self.bn1(x)))\n",
    "        \n",
    "        Y = keras.activations.relu(self.bn2(Y))\n",
    "        \n",
    "        if self.conv3:\n",
    "            x = self.conv3(x)\n",
    "        \n",
    "        return self.conv2(tf.add(Y,x))"
   ]
  },
  {
   "cell_type": "code",
   "execution_count": 44,
   "metadata": {},
   "outputs": [
    {
     "data": {
      "text/plain": [
       "<tf.Tensor: id=12008, shape=(1, 5, 5, 3), dtype=float32, numpy=\n",
       "array([[[[ 0.64910334, -0.18547405, -0.7451763 ],\n",
       "         [-0.8170706 , -0.8199671 ,  0.24060956],\n",
       "         [ 0.74791706,  0.98832005,  1.240883  ],\n",
       "         [-1.348957  , -0.4730491 , -1.2346729 ],\n",
       "         [ 0.20103338, -0.11028451,  0.6014904 ]],\n",
       "\n",
       "        [[ 0.5080365 , -0.5417027 , -0.8722546 ],\n",
       "         [-0.3201287 ,  0.45071432,  0.8221087 ],\n",
       "         [ 1.0815982 ,  0.5164368 ,  0.9283405 ],\n",
       "         [-0.92870337,  1.533142  ,  0.08751443],\n",
       "         [ 0.14096233,  0.13931507, -0.66158456]],\n",
       "\n",
       "        [[ 0.36633945, -0.2027487 , -0.14680251],\n",
       "         [ 0.38898647,  0.83766615,  1.1265107 ],\n",
       "         [-0.19134319,  1.6288823 , -0.30406162],\n",
       "         [ 2.1021802 , -0.3307534 ,  0.66083515],\n",
       "         [-1.5764809 , -0.6248381 , -1.4138529 ]],\n",
       "\n",
       "        [[-0.82577896, -1.4803147 , -2.3744457 ],\n",
       "         [ 2.0652113 ,  0.04899463,  1.1195637 ],\n",
       "         [ 0.16036567,  0.68191683,  0.9488291 ],\n",
       "         [-2.1948783 ,  0.09533437,  1.0282922 ],\n",
       "         [-0.42332742,  0.1621874 ,  0.03385764]],\n",
       "\n",
       "        [[-0.14663006,  0.24602625,  0.76777047],\n",
       "         [ 1.0593234 ,  0.39126015,  0.95117605],\n",
       "         [-0.5379914 ,  0.4054641 , -0.89107496],\n",
       "         [ 1.1039567 ,  1.5425854 , -1.3598382 ],\n",
       "         [ 0.42317867, -0.20747304,  0.4751984 ]]]], dtype=float32)>"
      ]
     },
     "execution_count": 44,
     "metadata": {},
     "output_type": "execute_result"
    }
   ],
   "source": [
    "res = Residual2(3)\n",
    "x = tf.random.normal(shape=(1,5,5,3))\n",
    "res(x)"
   ]
  },
  {
   "cell_type": "code",
   "execution_count": 46,
   "metadata": {},
   "outputs": [
    {
     "data": {
      "text/plain": [
       "<tf.Tensor: id=12388, shape=(1, 3, 3, 3), dtype=float32, numpy=\n",
       "array([[[[-1.9071822 ,  1.0142379 , -0.52718616],\n",
       "         [-1.7347728 , -0.18682872,  1.6458956 ],\n",
       "         [-3.0223117 , -0.00806379,  0.86540025]],\n",
       "\n",
       "        [[-1.8879466 , -1.1229068 , -0.64781904],\n",
       "         [-0.99851525, -0.79939336,  1.982673  ],\n",
       "         [-0.6213891 ,  2.814167  , -0.26968914]],\n",
       "\n",
       "        [[ 0.37235808, -1.9119602 ,  1.6370233 ],\n",
       "         [ 1.5405345 ,  1.2227023 , -1.7154248 ],\n",
       "         [ 0.6164763 ,  0.27805877,  0.56488496]]]], dtype=float32)>"
      ]
     },
     "execution_count": 46,
     "metadata": {},
     "output_type": "execute_result"
    }
   ],
   "source": [
    "res = Residual2(3,use_1x1_conv=True,strides=2)\n",
    "x = tf.random.normal(shape=(1,5,5,5))\n",
    "res(x)"
   ]
  },
  {
   "cell_type": "code",
   "execution_count": null,
   "metadata": {},
   "outputs": [],
   "source": []
  }
 ],
 "metadata": {
  "kernelspec": {
   "display_name": "tf2.0",
   "language": "python",
   "name": "tensorflow2.0"
  },
  "language_info": {
   "codemirror_mode": {
    "name": "ipython",
    "version": 3
   },
   "file_extension": ".py",
   "mimetype": "text/x-python",
   "name": "python",
   "nbconvert_exporter": "python",
   "pygments_lexer": "ipython3",
   "version": "3.6.9"
  }
 },
 "nbformat": 4,
 "nbformat_minor": 4
}
