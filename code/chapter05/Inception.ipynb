{
 "cells": [
  {
   "cell_type": "code",
   "execution_count": 1,
   "metadata": {},
   "outputs": [
    {
     "data": {
      "text/plain": [
       "'2.0.0'"
      ]
     },
     "execution_count": 1,
     "metadata": {},
     "output_type": "execute_result"
    }
   ],
   "source": [
    "import tensorflow as tf\n",
    "import numpy as np\n",
    "import pathlib\n",
    "tf.__version__"
   ]
  },
  {
   "cell_type": "code",
   "execution_count": 2,
   "metadata": {},
   "outputs": [],
   "source": [
    "import tensorflow.keras.layers as layers"
   ]
  },
  {
   "cell_type": "markdown",
   "metadata": {},
   "source": [
    "### Inception介绍\n",
    "与NiN网络比，inception网络更加复杂\n",
    "\n",
    "![Image text](http://zh.d2l.ai/_images/inception.svg)\n",
    "\n",
    "由上图可以看出Inception有四条并行线路,前三条线路分别是1x1,3x3,5x5的卷积层来抽取，其中中间2个线路会对输入先做1×1卷积来减少输入通道数，以降低模型复杂度。第四条线路则使用3×3最大池化层，后接1×1卷积层来改变通道数。4条线路都使用了合适的填充来使输入与输出的高和宽一致。最后我们将每条线路的输出在通道维上连结，并输入接下来的层中去。"
   ]
  },
  {
   "cell_type": "code",
   "execution_count": 52,
   "metadata": {},
   "outputs": [],
   "source": [
    "class InceptionBlock(layers.Layer):\n",
    "    def __init__(self,c1,c2,c3,c4,**kwargs):\n",
    "        super(InceptionBlock,self).__init__(**kwargs)\n",
    "        \n",
    "        self.conv1 = layers.Conv2D(c1,kernel_size=1,activation=\"relu\")\n",
    "        \n",
    "        self.conv2_1 = layers.Conv2D(c2[0],kernel_size=1,activation=\"relu\")\n",
    "        self.conv2_2 = layers.Conv2D(c2[1],kernel_size=3,activation=\"relu\",padding=\"SAME\")\n",
    "        \n",
    "        self.conv3_1 = layers.Conv2D(c3[0],kernel_size=1,activation=\"relu\")\n",
    "        self.conv3_2 = layers.Conv2D(c3[1],kernel_size=5,activation=\"relu\",padding=\"SAME\")\n",
    "        \n",
    "        self.conv4_1 = layers.ZeroPadding2D()\n",
    "        self.conv4_2 = layers.MaxPooling2D(pool_size=(3,3),strides=1)\n",
    "        self.conv4_3 = layers.Conv2D(c4,kernel_size=1,activation=\"relu\")\n",
    "        self.merge = layers.Concatenate(-1)\n",
    "    \n",
    "    def call(self,x):\n",
    "        out1 = self.conv1(x)\n",
    "        out2 = self.conv2_2(self.conv2_1(x))\n",
    "        out3 = self.conv3_2(self.conv3_1(x))\n",
    "        out4 = self.conv4_3(self.conv4_2(self.conv4_1(x)))\n",
    "        return self.merge([out1,out2,out3,out4])"
   ]
  },
  {
   "cell_type": "code",
   "execution_count": 53,
   "metadata": {},
   "outputs": [],
   "source": [
    "inception_block = InceptionBlock(3,[4,5],[6,7],8)"
   ]
  },
  {
   "cell_type": "code",
   "execution_count": 54,
   "metadata": {},
   "outputs": [
    {
     "data": {
      "text/plain": [
       "TensorShape([1, 96, 96, 3])"
      ]
     },
     "execution_count": 54,
     "metadata": {},
     "output_type": "execute_result"
    }
   ],
   "source": [
    "x = tf.random.normal(shape=(96,96,3))\n",
    "x = tf.expand_dims(x,axis=0)\n",
    "x.shape"
   ]
  },
  {
   "cell_type": "code",
   "execution_count": 55,
   "metadata": {},
   "outputs": [
    {
     "data": {
      "text/plain": [
       "TensorShape([1, 96, 96, 23])"
      ]
     },
     "execution_count": 55,
     "metadata": {},
     "output_type": "execute_result"
    }
   ],
   "source": [
    "y = inception_block(x)\n",
    "y.shape"
   ]
  },
  {
   "cell_type": "code",
   "execution_count": 56,
   "metadata": {},
   "outputs": [],
   "source": [
    "b1 = tf.keras.Sequential()\n",
    "b1.add(layers.Conv2D(64,strides=(2,2),kernel_size=7,padding=\"SAME\",activation=\"relu\"))\n",
    "b1.add(layers.MaxPooling2D(pool_size=3,strides=(2,2),padding=\"SAME\"))"
   ]
  },
  {
   "cell_type": "code",
   "execution_count": 57,
   "metadata": {},
   "outputs": [
    {
     "data": {
      "text/plain": [
       "TensorShape([1, 24, 24, 64])"
      ]
     },
     "execution_count": 57,
     "metadata": {},
     "output_type": "execute_result"
    }
   ],
   "source": [
    "out1 = b1(x)\n",
    "out1.shape"
   ]
  },
  {
   "cell_type": "code",
   "execution_count": 58,
   "metadata": {},
   "outputs": [],
   "source": [
    "b2 = tf.keras.Sequential()\n",
    "b2.add(layers.Conv2D(64,kernel_size=1,activation=\"relu\"))\n",
    "b2.add(layers.Conv2D(192,kernel_size=3,padding=\"SAME\",activation=\"relu\"))\n",
    "b2.add(layers.MaxPooling2D(pool_size=3,strides=(2,2),padding=\"SAME\"))"
   ]
  },
  {
   "cell_type": "code",
   "execution_count": 59,
   "metadata": {},
   "outputs": [
    {
     "data": {
      "text/plain": [
       "TensorShape([1, 12, 12, 192])"
      ]
     },
     "execution_count": 59,
     "metadata": {},
     "output_type": "execute_result"
    }
   ],
   "source": [
    "out2 = b2(out1)\n",
    "out2.shape"
   ]
  },
  {
   "cell_type": "code",
   "execution_count": 60,
   "metadata": {},
   "outputs": [],
   "source": [
    "b3 = tf.keras.Sequential()\n",
    "b3.add(InceptionBlock(64,(96,128),(16,32),32))\n",
    "b3.add(InceptionBlock(128,(128,192),(32,96),64))\n",
    "b3.add(layers.MaxPooling2D(pool_size=3,strides=(2,2),padding=\"SAME\"))"
   ]
  },
  {
   "cell_type": "code",
   "execution_count": 61,
   "metadata": {},
   "outputs": [
    {
     "data": {
      "text/plain": [
       "TensorShape([1, 6, 6, 480])"
      ]
     },
     "execution_count": 61,
     "metadata": {},
     "output_type": "execute_result"
    }
   ],
   "source": [
    "out3 = b3(out2)\n",
    "out3.shape"
   ]
  },
  {
   "cell_type": "code",
   "execution_count": 62,
   "metadata": {},
   "outputs": [],
   "source": [
    "b4 = tf.keras.Sequential()\n",
    "b4.add(InceptionBlock(192,(96,208),(16,48),64))\n",
    "b4.add(InceptionBlock(160,(112,224),(24,64),64))\n",
    "b4.add(InceptionBlock(128,(128,256),(24,64),64))\n",
    "b4.add(InceptionBlock(112,(144,288),(32,64),64))\n",
    "b4.add(InceptionBlock(256,(160,320),(32,128),128))\n",
    "b4.add(layers.MaxPooling2D(pool_size=3,strides=2,padding=\"same\"))"
   ]
  },
  {
   "cell_type": "code",
   "execution_count": 63,
   "metadata": {},
   "outputs": [
    {
     "data": {
      "text/plain": [
       "TensorShape([1, 3, 3, 832])"
      ]
     },
     "execution_count": 63,
     "metadata": {},
     "output_type": "execute_result"
    }
   ],
   "source": [
    "out4 = b4(out3)\n",
    "out4.shape"
   ]
  },
  {
   "cell_type": "code",
   "execution_count": 70,
   "metadata": {},
   "outputs": [],
   "source": [
    "b5 =tf.keras.Sequential()\n",
    "b5.add(InceptionBlock(256,(160,320),(32,128),128))\n",
    "b5.add(InceptionBlock(384,(192,384),(48,128),128))\n",
    "b5.add(layers.GlobalAvgPool2D())\n"
   ]
  },
  {
   "cell_type": "code",
   "execution_count": 71,
   "metadata": {},
   "outputs": [
    {
     "data": {
      "text/plain": [
       "TensorShape([1, 1024])"
      ]
     },
     "execution_count": 71,
     "metadata": {},
     "output_type": "execute_result"
    }
   ],
   "source": [
    "out5 = b5(out4)\n",
    "out5.shape"
   ]
  },
  {
   "cell_type": "code",
   "execution_count": 74,
   "metadata": {},
   "outputs": [],
   "source": [
    "net = tf.keras.Sequential([\n",
    "   layers.InputLayer(input_shape=(224,224,3)), b1,b2,b3,b4,b5,layers.Flatten(),layers.Dense(5,activation=\"softmax\")\n",
    "])"
   ]
  },
  {
   "cell_type": "code",
   "execution_count": 75,
   "metadata": {},
   "outputs": [
    {
     "name": "stdout",
     "output_type": "stream",
     "text": [
      "Model: \"sequential_20\"\n",
      "_________________________________________________________________\n",
      "Layer (type)                 Output Shape              Param #   \n",
      "=================================================================\n",
      "sequential_11 (Sequential)   (None, 56, 56, 64)        9472      \n",
      "_________________________________________________________________\n",
      "sequential_12 (Sequential)   (None, 28, 28, 192)       114944    \n",
      "_________________________________________________________________\n",
      "sequential_13 (Sequential)   (None, 14, 14, 480)       552432    \n",
      "_________________________________________________________________\n",
      "sequential_14 (Sequential)   (None, 7, 7, 832)         2809168   \n",
      "_________________________________________________________________\n",
      "sequential_18 (Sequential)   (None, 1024)              2487536   \n",
      "_________________________________________________________________\n",
      "flatten_3 (Flatten)          (None, 1024)              0         \n",
      "_________________________________________________________________\n",
      "dense_3 (Dense)              (None, 5)                 5125      \n",
      "=================================================================\n",
      "Total params: 5,978,677\n",
      "Trainable params: 5,978,677\n",
      "Non-trainable params: 0\n",
      "_________________________________________________________________\n"
     ]
    }
   ],
   "source": [
    "net.summary()"
   ]
  },
  {
   "cell_type": "code",
   "execution_count": 76,
   "metadata": {},
   "outputs": [],
   "source": [
    "IMG_WIDTH = 224\n",
    "IMG_HEIGHT = 224\n",
    "BATCH_SIZE = 32"
   ]
  },
  {
   "cell_type": "code",
   "execution_count": 77,
   "metadata": {},
   "outputs": [
    {
     "name": "stdout",
     "output_type": "stream",
     "text": [
      "Tensor(\"y:0\", shape=(5,), dtype=bool)\n"
     ]
    }
   ],
   "source": [
    "DATA_URL = \"https://storage.googleapis.com/download.tensorflow.org/example_images/flower_photos.tgz\"\n",
    "data_dir = tf.keras.utils.get_file(fname=\"flower_photos\",origin=DATA_URL,untar=True)\n",
    "import pathlib\n",
    "data_dir = pathlib.Path(data_dir)\n",
    "ds = tf.data.Dataset.list_files(str(data_dir/'*/*'))\n",
    "class_lable =  np.array([ item.name for item in data_dir.glob(\"*\") if item.name != \"LICENSE.txt\" ])\n",
    "## 转换lable为数值型数据\n",
    "lable_dic =dict( zip(class_lable,np.asarray(range(0,len(class_lable)))))\n",
    "@tf.function\n",
    "def get_lable(x):\n",
    "    arr_str = tf.strings.split(x,sep=\"\\\\\")\n",
    "    return arr_str[-2] == class_lable\n",
    "\n",
    "def decode_img(img):\n",
    "    img = tf.image.decode_image(img,channels=3)\n",
    "    img = tf.image.convert_image_dtype(img, tf.float32)\n",
    "    img = tf.image.resize_with_crop_or_pad(img,IMG_WIDTH,IMG_HEIGHT)\n",
    "    img = tf.image.random_flip_left_right(img)\n",
    "    img = tf.image.random_flip_up_down(img)\n",
    "    return img\n",
    "\n",
    "def img_map_fun(x):\n",
    "    lable = get_lable(x)\n",
    "    img = tf.io.read_file(x)\n",
    "    img = decode_img(img)\n",
    "    return img,lable\n",
    "\n",
    "lable = tf.constant([0,1,2,3,4])\n",
    "@tf.function\n",
    "def map_lable_fun(x,y):\n",
    "    print(y)\n",
    "    y = lable[y][0]\n",
    "    return x,y\n",
    "\n",
    "ds = ds.map(map_func=img_map_fun,num_parallel_calls=tf.data.experimental.AUTOTUNE)\n",
    "ds = ds.map(map_func=map_lable_fun)\n",
    "\n",
    "def prepare_for_training(ds, cache=True, shuffle_buffer_size=1000,batch_size = 256):\n",
    "    # This is a small dataset, only load it once, and keep it in memory.\n",
    "    # use `.cache(filename)` to cache preprocessing work for datasets that don't\n",
    "    # fit in memory.\n",
    "    if cache:\n",
    "        if isinstance(cache, str):\n",
    "            ds = ds.cache(cache)\n",
    "    else:\n",
    "        ds = ds.cache()\n",
    "\n",
    "    ds = ds.shuffle(buffer_size=shuffle_buffer_size)\n",
    "\n",
    "    # Repeat forever\n",
    "    ds = ds.repeat()\n",
    "\n",
    "    ds = ds.batch(batch_size)\n",
    "\n",
    "    # `prefetch` lets the dataset fetch batches in the background while the model\n",
    "    # is training.\n",
    "    ds = ds.prefetch(buffer_size=tf.data.experimental.AUTOTUNE)\n",
    "\n",
    "    return ds\n",
    "\n",
    "ds = prepare_for_training(ds,batch_size = BATCH_SIZE)\n",
    "\n",
    "image_batch, label_batch = next(iter(ds))"
   ]
  },
  {
   "cell_type": "code",
   "execution_count": 78,
   "metadata": {},
   "outputs": [
    {
     "data": {
      "text/plain": [
       "TensorShape([32, 224, 224, 3])"
      ]
     },
     "execution_count": 78,
     "metadata": {},
     "output_type": "execute_result"
    }
   ],
   "source": [
    "image_batch.shape"
   ]
  },
  {
   "cell_type": "code",
   "execution_count": 81,
   "metadata": {},
   "outputs": [
    {
     "name": "stdout",
     "output_type": "stream",
     "text": [
      "Train for 100 steps\n",
      "Epoch 1/5\n",
      "100/100 [==============================] - 934s 9s/step - loss: 2.1081 - acc: 0.2412\n",
      "Epoch 2/5\n",
      "100/100 [==============================] - 912s 9s/step - loss: 1.6573 - acc: 0.2716\n",
      "Epoch 3/5\n",
      "100/100 [==============================] - 912s 9s/step - loss: 1.4187 - acc: 0.3769\n",
      "Epoch 4/5\n",
      "100/100 [==============================] - 932s 9s/step - loss: 1.3856 - acc: 0.3816\n",
      "Epoch 5/5\n",
      "100/100 [==============================] - 896s 9s/step - loss: 1.3301 - acc: 0.4216\n"
     ]
    },
    {
     "data": {
      "text/plain": [
       "<tensorflow.python.keras.callbacks.History at 0x1dce8c88>"
      ]
     },
     "execution_count": 81,
     "metadata": {},
     "output_type": "execute_result"
    }
   ],
   "source": [
    "net.compile(loss=tf.keras.losses.sparse_categorical_crossentropy,metrics=[\"acc\"])\n",
    "net.fit(ds,steps_per_epoch=100,epochs=5)"
   ]
  },
  {
   "cell_type": "code",
   "execution_count": null,
   "metadata": {},
   "outputs": [],
   "source": [
    " "
   ]
  }
 ],
 "metadata": {
  "kernelspec": {
   "display_name": "tf2.0",
   "language": "python",
   "name": "tensorflow2.0"
  },
  "language_info": {
   "codemirror_mode": {
    "name": "ipython",
    "version": 3
   },
   "file_extension": ".py",
   "mimetype": "text/x-python",
   "name": "python",
   "nbconvert_exporter": "python",
   "pygments_lexer": "ipython3",
   "version": "3.6.9"
  }
 },
 "nbformat": 4,
 "nbformat_minor": 4
}
