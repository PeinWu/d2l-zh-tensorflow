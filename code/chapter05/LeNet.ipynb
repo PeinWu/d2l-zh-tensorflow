{
 "cells": [
  {
   "cell_type": "code",
   "execution_count": 1,
   "metadata": {},
   "outputs": [
    {
     "data": {
      "text/plain": [
       "'2.0.0-rc2'"
      ]
     },
     "execution_count": 1,
     "metadata": {},
     "output_type": "execute_result"
    }
   ],
   "source": [
    "import tensorflow as tf\n",
    "import tensorflow.keras.layers as layers\n",
    "import numpy as np\n",
    "tf.__version__"
   ]
  },
  {
   "cell_type": "markdown",
   "metadata": {},
   "source": [
    "### LeNet \n",
    "lenet 使用两个卷积核大小都为5x5，激活函数都为sigmod卷积层，卷积层后都使用窗口大小为2x2，步幅为2的最大池化池化\n",
    "然后使用120，84，10的全连接层"
   ]
  },
  {
   "cell_type": "code",
   "execution_count": 2,
   "metadata": {},
   "outputs": [],
   "source": [
    "model = tf.keras.Sequential([\n",
    "    layers.Conv2D(filters = 6,kernel_size=5,activation=\"sigmoid\",),\n",
    "    layers.MaxPooling2D(pool_size=2,strides=2),\n",
    "    layers.Conv2D(filters = 16,kernel_size = 4,activation = \"sigmoid\"),\n",
    "    layers.MaxPooling2D(pool_size=2,strides=2),\n",
    "    layers.Flatten(),\n",
    "    layers.Dense(units=120,activation=\"sigmoid\"),\n",
    "    layers.Dense(84,activation=\"sigmoid\"),\n",
    "    layers.Dense(10,activation=\"softmax\")\n",
    "])"
   ]
  },
  {
   "cell_type": "code",
   "execution_count": 3,
   "metadata": {},
   "outputs": [],
   "source": [
    "model.compile(loss=tf.losses.sparse_categorical_crossentropy,metrics=[\"acc\"])"
   ]
  },
  {
   "cell_type": "markdown",
   "metadata": {},
   "source": [
    "#### 加载数据"
   ]
  },
  {
   "cell_type": "code",
   "execution_count": 4,
   "metadata": {},
   "outputs": [],
   "source": [
    "(x_train, y_train), (x_test, y_test) = tf.keras.datasets.fashion_mnist.load_data()"
   ]
  },
  {
   "cell_type": "code",
   "execution_count": 5,
   "metadata": {},
   "outputs": [],
   "source": [
    "x_train = x_train/255.0\n",
    "x_test = x_test/255.0"
   ]
  },
  {
   "cell_type": "code",
   "execution_count": 6,
   "metadata": {},
   "outputs": [],
   "source": [
    "batch_size = 256"
   ]
  },
  {
   "cell_type": "code",
   "execution_count": 7,
   "metadata": {},
   "outputs": [],
   "source": [
    "x_1 = np.expand_dims(x_train,axis=-1)\n",
    "x_2 = np.expand_dims(x_test,axis=-1)"
   ]
  },
  {
   "cell_type": "code",
   "execution_count": 8,
   "metadata": {},
   "outputs": [],
   "source": [
    "def transformDs(ds):\n",
    "    return ds.shuffle(5000).batch(batch_size).repeat()"
   ]
  },
  {
   "cell_type": "code",
   "execution_count": 9,
   "metadata": {},
   "outputs": [],
   "source": [
    "ds_train = transformDs(tf.data.Dataset.from_tensor_slices((x_1,y_train)))\n",
    "ds_test = transformDs(tf.data.Dataset.from_tensor_slices((x_2,y_test)))"
   ]
  },
  {
   "cell_type": "markdown",
   "metadata": {},
   "source": [
    "#### 训练模型"
   ]
  },
  {
   "cell_type": "code",
   "execution_count": 10,
   "metadata": {},
   "outputs": [
    {
     "name": "stdout",
     "output_type": "stream",
     "text": [
      "WARNING:tensorflow:Layer sequential is casting an input tensor from dtype float64 to the layer's dtype of float32, which is new behavior in TensorFlow 2.  The layer has dtype float32 because it's dtype defaults to floatx.\n",
      "\n",
      "If you intended to run this layer in float32, you can safely ignore this warning. If in doubt, this warning is likely only an issue if you are porting a TensorFlow 1.X model to TensorFlow 2.\n",
      "\n",
      "To change all layers to have dtype float64 by default, call `tf.keras.backend.set_floatx('float64')`. To change just this layer, pass dtype='float64' to the layer constructor. If you are the author of this layer, you can disable autocasting by passing autocast=False to the base Layer constructor.\n",
      "\n",
      "Train for 234 steps, validate for 39 steps\n",
      "Epoch 1/10\n",
      "234/234 [==============================] - 11s 45ms/step - loss: 1.8118 - acc: 0.3672 - val_loss: 1.1398 - val_acc: 0.6058\n",
      "Epoch 2/10\n",
      "234/234 [==============================] - 10s 41ms/step - loss: 0.9830 - acc: 0.6335 - val_loss: 0.9092 - val_acc: 0.6647\n",
      "Epoch 3/10\n",
      "234/234 [==============================] - 10s 42ms/step - loss: 0.8398 - acc: 0.6859 - val_loss: 0.8201 - val_acc: 0.6906\n",
      "Epoch 4/10\n",
      "234/234 [==============================] - 10s 42ms/step - loss: 0.7546 - acc: 0.7162 - val_loss: 0.7371 - val_acc: 0.7255\n",
      "Epoch 5/10\n",
      "234/234 [==============================] - 10s 41ms/step - loss: 0.6966 - acc: 0.7329 - val_loss: 0.6987 - val_acc: 0.7289\n",
      "Epoch 6/10\n",
      "234/234 [==============================] - 10s 42ms/step - loss: 0.6535 - acc: 0.7473 - val_loss: 0.6601 - val_acc: 0.7448\n",
      "Epoch 7/10\n",
      "234/234 [==============================] - 10s 42ms/step - loss: 0.6229 - acc: 0.7583 - val_loss: 0.6440 - val_acc: 0.7510\n",
      "Epoch 8/10\n",
      "234/234 [==============================] - 10s 41ms/step - loss: 0.5964 - acc: 0.7700 - val_loss: 0.5995 - val_acc: 0.7718\n",
      "Epoch 9/10\n",
      "234/234 [==============================] - 10s 42ms/step - loss: 0.5763 - acc: 0.7769 - val_loss: 0.5889 - val_acc: 0.7708\n",
      "Epoch 10/10\n",
      "234/234 [==============================] - 10s 42ms/step - loss: 0.5555 - acc: 0.7856 - val_loss: 0.5790 - val_acc: 0.7752\n"
     ]
    },
    {
     "data": {
      "text/plain": [
       "<tensorflow.python.keras.callbacks.History at 0x21a8a0fe860>"
      ]
     },
     "execution_count": 10,
     "metadata": {},
     "output_type": "execute_result"
    }
   ],
   "source": [
    "steps_per_epoch = len(x_train) // batch_size\n",
    "val_per_epoch =len(x_test) // batch_size\n",
    "model.fit(ds_train,epochs=10,steps_per_epoch=steps_per_epoch,validation_steps=val_per_epoch,validation_data=ds_test)"
   ]
  },
  {
   "cell_type": "code",
   "execution_count": null,
   "metadata": {},
   "outputs": [],
   "source": []
  }
 ],
 "metadata": {
  "kernelspec": {
   "display_name": "tensorflow2.0",
   "language": "python",
   "name": "tensorflow2.0"
  },
  "language_info": {
   "codemirror_mode": {
    "name": "ipython",
    "version": 3
   },
   "file_extension": ".py",
   "mimetype": "text/x-python",
   "name": "python",
   "nbconvert_exporter": "python",
   "pygments_lexer": "ipython3",
   "version": "3.6.9"
  }
 },
 "nbformat": 4,
 "nbformat_minor": 4
}
