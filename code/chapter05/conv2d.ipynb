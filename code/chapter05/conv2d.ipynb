{
 "cells": [
  {
   "cell_type": "code",
   "execution_count": 1,
   "metadata": {},
   "outputs": [
    {
     "data": {
      "text/plain": [
       "'2.0.0-rc1'"
      ]
     },
     "execution_count": 1,
     "metadata": {},
     "output_type": "execute_result"
    }
   ],
   "source": [
    "import tensorflow as tf\n",
    "tf.__version__"
   ]
  },
  {
   "cell_type": "markdown",
   "metadata": {},
   "source": [
    "### 理解卷积"
   ]
  },
  {
   "cell_type": "code",
   "execution_count": 60,
   "metadata": {},
   "outputs": [],
   "source": [
    "def conv2d(x,kernel):\n",
    "    h,w = kernel.shape\n",
    "    out_put = []\n",
    "    for i in range((x.shape[0] - h +1)):\n",
    "        for j in range((x.shape[1] - w +1)):\n",
    "            out_put.append( (tf.reduce_sum(tf.multiply(x[i:i+h,j:j+w] , kernel))))\n",
    "        \n",
    "    y= tf.stack(out_put)\n",
    "        \n",
    "    return tf.reshape(y,shape=(x.shape[0] - h +1,x.shape[1] - w +1))"
   ]
  },
  {
   "cell_type": "code",
   "execution_count": 28,
   "metadata": {},
   "outputs": [],
   "source": [
    "x = tf.random.normal(shape=(10,10))"
   ]
  },
  {
   "cell_type": "code",
   "execution_count": 29,
   "metadata": {},
   "outputs": [
    {
     "data": {
      "text/plain": [
       "<tf.Tensor: id=10057, shape=(8, 8), dtype=float32, numpy=\n",
       "array([[ 0.7956085 , -1.6489787 , -3.6899586 , -0.44755122, -0.2785045 ,\n",
       "         3.76672   , -2.5851974 ,  0.26247823],\n",
       "       [ 4.1905475 , -0.28131947,  0.07861653,  2.9538245 , -2.6310577 ,\n",
       "        -1.0870335 , -1.1166364 , -2.395783  ],\n",
       "       [ 3.45217   , -1.4768708 , -0.59862185,  1.9901712 , -0.38292637,\n",
       "         1.1924441 ,  2.0771327 ,  1.1545573 ],\n",
       "       [-4.695121  ,  2.3784368 , -1.5360371 , -1.7572236 ,  5.094795  ,\n",
       "        -0.5646023 ,  0.9559533 , -4.7006397 ],\n",
       "       [ 2.1050034 ,  2.188803  , -0.8850391 , -0.39543182, -4.1420918 ,\n",
       "         0.74443966,  0.9988775 ,  2.0866895 ],\n",
       "       [-3.034708  ,  2.2227004 ,  0.8950124 , -1.9327092 ,  5.025414  ,\n",
       "        -2.0831928 , -2.6197257 ,  2.0586076 ],\n",
       "       [ 0.454712  , -1.9518709 , -0.09180117,  2.858404  , -3.5624027 ,\n",
       "        -0.71505475,  1.4328781 , -1.6332513 ],\n",
       "       [-0.86923087,  3.4745123 , -2.8528528 ,  1.0565485 , -0.6818204 ,\n",
       "         2.9156146 , -1.1825063 ,  1.1923174 ]], dtype=float32)>"
      ]
     },
     "execution_count": 29,
     "metadata": {},
     "output_type": "execute_result"
    }
   ],
   "source": [
    "k = tf.random.normal(shape=(3,3))\n",
    "conv2d(x,k)"
   ]
  },
  {
   "cell_type": "markdown",
   "metadata": {},
   "source": [
    "### 卷积层"
   ]
  },
  {
   "cell_type": "code",
   "execution_count": 33,
   "metadata": {},
   "outputs": [],
   "source": [
    "class Conv2D(tf.keras.layers.Layer):\n",
    "    def __init__(self,kernel,**kwargs):\n",
    "        super(Conv2D,self).__init__(**kwargs)\n",
    "        w_init = tf.keras.initializers.he_normal()\n",
    "        self.k_weight = self.add_weight(shape=(kernel,kernel),initializer=w_init)\n",
    "        self.b = self.add_weight(shape=(1,),initializer = tf.keras.initializers.ones())\n",
    "    def call(self,x):\n",
    "        return conv2d(x,self.k_weight) + self.b    "
   ]
  },
  {
   "cell_type": "code",
   "execution_count": 34,
   "metadata": {},
   "outputs": [
    {
     "data": {
      "text/plain": [
       "<tf.Tensor: id=10596, shape=(8, 8), dtype=float32, numpy=\n",
       "array([[-1.0736337 ,  2.4059558 ,  1.7110702 , -1.9034982 ,  0.30734777,\n",
       "         0.6368405 ,  3.8713622 ,  0.9441674 ],\n",
       "       [-2.1219869 , -1.3630974 ,  2.708483  ,  2.7867622 ,  2.4200711 ,\n",
       "         1.4375907 ,  2.8652477 ,  5.826682  ],\n",
       "       [ 1.0378562 , -0.14327812,  2.205799  , -0.6308235 ,  0.63816595,\n",
       "         2.6967561 , -0.55436754,  0.27601868],\n",
       "       [ 3.116799  , -0.10236311,  4.270503  ,  1.7004194 , -4.0655603 ,\n",
       "        -1.1938803 , -1.0862429 , -1.6889696 ],\n",
       "       [ 0.11553031, -1.5358028 ,  0.909774  ,  2.3419552 ,  1.3482902 ,\n",
       "        -0.886163  , -1.2931616 ,  1.2867411 ],\n",
       "       [ 0.57553107,  0.58852345,  0.48777962, -0.27321684,  2.7852826 ,\n",
       "         2.6020215 ,  0.2437458 , -2.4097574 ],\n",
       "       [ 3.996617  ,  2.5351882 ,  4.4872885 , -4.1353226 , -0.07832599,\n",
       "         2.168375  ,  1.9111457 ,  0.9150233 ],\n",
       "       [ 2.791082  ,  0.09927624,  2.6862822 , -3.8503242 ,  0.596218  ,\n",
       "         2.220161  , -2.3385963 ,  1.782174  ]], dtype=float32)>"
      ]
     },
     "execution_count": 34,
     "metadata": {},
     "output_type": "execute_result"
    }
   ],
   "source": [
    "conv = Conv2D(3)\n",
    "conv(x)"
   ]
  },
  {
   "cell_type": "markdown",
   "metadata": {},
   "source": [
    "### 边界检测"
   ]
  },
  {
   "cell_type": "code",
   "execution_count": 38,
   "metadata": {},
   "outputs": [],
   "source": [
    "import numpy as np"
   ]
  },
  {
   "cell_type": "code",
   "execution_count": 39,
   "metadata": {},
   "outputs": [],
   "source": [
    "x = np.ones((6,8))\n",
    "x[:,2:6] = 0"
   ]
  },
  {
   "cell_type": "code",
   "execution_count": 40,
   "metadata": {},
   "outputs": [],
   "source": [
    "x_in = tf.constant(x)"
   ]
  },
  {
   "cell_type": "code",
   "execution_count": 64,
   "metadata": {},
   "outputs": [],
   "source": [
    "k = tf.constant([[1,-1]],dtype=tf.float32)"
   ]
  },
  {
   "cell_type": "code",
   "execution_count": 49,
   "metadata": {},
   "outputs": [],
   "source": [
    "y = conv2d(x,k)"
   ]
  },
  {
   "cell_type": "code",
   "execution_count": 50,
   "metadata": {},
   "outputs": [
    {
     "data": {
      "text/plain": [
       "<tf.Tensor: id=10953, shape=(6, 7), dtype=int32, numpy=\n",
       "array([[ 0,  1,  0,  0,  0, -1,  0],\n",
       "       [ 0,  1,  0,  0,  0, -1,  0],\n",
       "       [ 0,  1,  0,  0,  0, -1,  0],\n",
       "       [ 0,  1,  0,  0,  0, -1,  0],\n",
       "       [ 0,  1,  0,  0,  0, -1,  0],\n",
       "       [ 0,  1,  0,  0,  0, -1,  0]])>"
      ]
     },
     "execution_count": 50,
     "metadata": {},
     "output_type": "execute_result"
    }
   ],
   "source": [
    "y"
   ]
  },
  {
   "cell_type": "markdown",
   "metadata": {},
   "source": [
    "### 通过数据学习核数组"
   ]
  },
  {
   "cell_type": "code",
   "execution_count": 70,
   "metadata": {},
   "outputs": [],
   "source": [
    "y = tf.cast(y,tf.float32)\n",
    "x = tf.cast(x,tf.float32)"
   ]
  },
  {
   "cell_type": "code",
   "execution_count": 71,
   "metadata": {},
   "outputs": [],
   "source": [
    "X = tf.reshape(x,(6,8))\n",
    "Y = tf.reshape(y,shape=(6,7))"
   ]
  },
  {
   "cell_type": "code",
   "execution_count": 76,
   "metadata": {},
   "outputs": [
    {
     "data": {
      "text/plain": [
       "<tf.Tensor: id=17378, shape=(1, 2), dtype=float32, numpy=array([[ 0.42971647, -0.6225934 ]], dtype=float32)>"
      ]
     },
     "execution_count": 76,
     "metadata": {},
     "output_type": "execute_result"
    }
   ],
   "source": [
    "k2 = tf.random.normal(shape=k.shape)\n",
    "k2"
   ]
  },
  {
   "cell_type": "code",
   "execution_count": 79,
   "metadata": {},
   "outputs": [
    {
     "name": "stdout",
     "output_type": "stream",
     "text": [
      "batch 1, loss 3.252\n",
      "batch 2, loss 1.461\n",
      "batch 3, loss 0.681\n",
      "batch 4, loss 0.331\n",
      "batch 5, loss 0.169\n",
      "batch 6, loss 0.091\n",
      "batch 7, loss 0.051\n",
      "batch 8, loss 0.030\n",
      "batch 9, loss 0.018\n",
      "batch 10, loss 0.011\n"
     ]
    }
   ],
   "source": [
    "for i in range(10):\n",
    "    with tf.GradientTape() as tape:\n",
    "        tape.watch(k2)\n",
    "        y_hat = conv2d(X,k2)\n",
    "        l = tf.subtract(y_hat , Y)\n",
    "        l = l**2\n",
    "    \n",
    "    w_grad = tape.gradient(l,k2)\n",
    "    k2 -=w_grad * 3e-2\n",
    "    \n",
    "    print('batch %d, loss %.3f' % (i + 1, tf.reduce_sum(l).numpy()))\n",
    "    "
   ]
  },
  {
   "cell_type": "code",
   "execution_count": 80,
   "metadata": {},
   "outputs": [
    {
     "data": {
      "text/plain": [
       "<tf.Tensor: id=23666, shape=(1, 2), dtype=float32, numpy=array([[ 0.98418194, -1.0048919 ]], dtype=float32)>"
      ]
     },
     "execution_count": 80,
     "metadata": {},
     "output_type": "execute_result"
    }
   ],
   "source": [
    "k2"
   ]
  },
  {
   "cell_type": "code",
   "execution_count": null,
   "metadata": {},
   "outputs": [],
   "source": []
  }
 ],
 "metadata": {
  "kernelspec": {
   "display_name": "tf2.0",
   "language": "python",
   "name": "tensorflow2.0"
  },
  "language_info": {
   "codemirror_mode": {
    "name": "ipython",
    "version": 3
   },
   "file_extension": ".py",
   "mimetype": "text/x-python",
   "name": "python",
   "nbconvert_exporter": "python",
   "pygments_lexer": "ipython3",
   "version": "3.6.9"
  }
 },
 "nbformat": 4,
 "nbformat_minor": 4
}
