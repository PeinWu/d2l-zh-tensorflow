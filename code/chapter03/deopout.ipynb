{
 "cells": [
  {
   "cell_type": "code",
   "execution_count": 1,
   "metadata": {},
   "outputs": [
    {
     "data": {
      "text/plain": [
       "'2.0.0-rc1'"
      ]
     },
     "execution_count": 1,
     "metadata": {},
     "output_type": "execute_result"
    }
   ],
   "source": [
    "import tensorflow as tf\n",
    "tf.__version__"
   ]
  },
  {
   "cell_type": "code",
   "execution_count": 8,
   "metadata": {},
   "outputs": [],
   "source": [
    "def dropout(x,prob):\n",
    "    assert 0<=prob<=1\n",
    "    keep_prob = 1 - prob\n",
    "    if keep_prob == 1:\n",
    "        return tf.ones_like(x)\n",
    "    \n",
    "    mask = tf.random.categorical(tf.math.log([[prob, keep_prob]]),num_samples = tf.size(x).numpy())\n",
    "    \n",
    "    mask = tf.reshape(mask,x.shape)\n",
    "    \n",
    "    mask = tf.cast(mask,dtype=tf.float32)\n",
    "\n",
    "    return mask * x /keep_prob"
   ]
  },
  {
   "cell_type": "code",
   "execution_count": 9,
   "metadata": {},
   "outputs": [],
   "source": [
    "x =  tf.random.normal(shape=[5,10],dtype=tf.float32)"
   ]
  },
  {
   "cell_type": "code",
   "execution_count": 10,
   "metadata": {},
   "outputs": [
    {
     "data": {
      "text/plain": [
       "<tf.Tensor: id=21, shape=(), dtype=int32, numpy=50>"
      ]
     },
     "execution_count": 10,
     "metadata": {},
     "output_type": "execute_result"
    }
   ],
   "source": [
    "tf.size(x)"
   ]
  },
  {
   "cell_type": "code",
   "execution_count": 11,
   "metadata": {},
   "outputs": [
    {
     "data": {
      "text/plain": [
       "<tf.Tensor: id=32, shape=(5, 10), dtype=float32, numpy=\n",
       "array([[ 0.1312028 , -0.7832549 , -0.8048371 ,  0.        ,  0.13191053,\n",
       "        -0.02959649, -0.19167358, -2.0908637 ,  0.        , -0.2760733 ],\n",
       "       [ 1.0673156 ,  0.7008089 , -0.41173115,  1.6461502 , -0.66432637,\n",
       "        -0.        ,  0.666995  ,  0.        ,  1.7311959 ,  0.        ],\n",
       "       [-0.3117982 ,  1.5239902 , -0.35250497,  0.        ,  0.75433385,\n",
       "        -0.        , -0.        , -0.50127786,  0.14507346, -0.8063963 ],\n",
       "       [-0.2360148 , -1.0742425 , -0.57593143,  1.9263797 , -0.57381225,\n",
       "        -0.6338835 ,  0.47242105, -0.        , -0.15269771,  1.8003482 ],\n",
       "       [-0.03466312,  1.9928508 ,  1.3915057 , -0.21538566, -2.8420982 ,\n",
       "        -0.8454034 , -0.        , -0.77702886, -1.6590883 , -0.04195304]],\n",
       "      dtype=float32)>"
      ]
     },
     "execution_count": 11,
     "metadata": {},
     "output_type": "execute_result"
    }
   ],
   "source": [
    "y = dropout(x,0.2)\n",
    "y"
   ]
  },
  {
   "cell_type": "code",
   "execution_count": null,
   "metadata": {},
   "outputs": [],
   "source": []
  }
 ],
 "metadata": {
  "kernelspec": {
   "display_name": "tensorflow2.0",
   "language": "python",
   "name": "tensorflow2.0"
  },
  "language_info": {
   "codemirror_mode": {
    "name": "ipython",
    "version": 3
   },
   "file_extension": ".py",
   "mimetype": "text/x-python",
   "name": "python",
   "nbconvert_exporter": "python",
   "pygments_lexer": "ipython3",
   "version": "3.6.9"
  }
 },
 "nbformat": 4,
 "nbformat_minor": 4
}
