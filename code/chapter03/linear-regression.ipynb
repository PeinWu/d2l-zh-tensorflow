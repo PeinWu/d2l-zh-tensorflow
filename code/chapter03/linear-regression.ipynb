{
 "cells": [
  {
   "cell_type": "code",
   "execution_count": 1,
   "metadata": {},
   "outputs": [
    {
     "data": {
      "text/plain": [
       "'2.0.0-rc1'"
      ]
     },
     "execution_count": 1,
     "metadata": {},
     "output_type": "execute_result"
    }
   ],
   "source": [
    "import tensorflow as tf\n",
    "import tensorflow.keras as keras\n",
    "import random\n",
    "tf.__version__"
   ]
  },
  {
   "cell_type": "markdown",
   "metadata": {},
   "source": [
    "### 生成数据"
   ]
  },
  {
   "cell_type": "code",
   "execution_count": 2,
   "metadata": {},
   "outputs": [],
   "source": [
    "true_w = [2.4,4]\n",
    "true_b = -3.4\n",
    "num_inputs = 2\n",
    "num_examples = 1000\n",
    "\n",
    "features = tf.random.normal(shape=[num_examples,num_inputs])"
   ]
  },
  {
   "cell_type": "code",
   "execution_count": 3,
   "metadata": {},
   "outputs": [],
   "source": [
    "lables =tf.reduce_sum( tf.constant(true_w) * features,axis=1)  + tf.constant(true_b)"
   ]
  },
  {
   "cell_type": "code",
   "execution_count": 4,
   "metadata": {},
   "outputs": [],
   "source": [
    "lables += tf.random.normal(shape=lables.shape,stddev=0.01)"
   ]
  },
  {
   "cell_type": "code",
   "execution_count": 5,
   "metadata": {},
   "outputs": [
    {
     "data": {
      "text/plain": [
       "(<tf.Tensor: id=22, shape=(5, 2), dtype=float32, numpy=\n",
       " array([[-1.46353   ,  0.80882746],\n",
       "        [ 0.60497916, -0.5954714 ],\n",
       "        [ 1.5794803 , -0.3835507 ],\n",
       "        [-0.02605676,  0.37747917],\n",
       "        [-2.3835993 ,  0.7381624 ]], dtype=float32)>,\n",
       " <tf.Tensor: id=26, shape=(5,), dtype=float32, numpy=\n",
       " array([-3.6829205, -4.3448334, -1.1401888, -1.9556425, -6.158499 ],\n",
       "       dtype=float32)>)"
      ]
     },
     "execution_count": 5,
     "metadata": {},
     "output_type": "execute_result"
    }
   ],
   "source": [
    "features[:5],lables[:5]"
   ]
  },
  {
   "cell_type": "markdown",
   "metadata": {},
   "source": [
    "### 创建模型"
   ]
  },
  {
   "cell_type": "code",
   "execution_count": 12,
   "metadata": {},
   "outputs": [],
   "source": [
    "model = keras.Sequential()\n",
    "model.add(keras.layers.Dense(1))"
   ]
  },
  {
   "cell_type": "code",
   "execution_count": 13,
   "metadata": {},
   "outputs": [],
   "source": [
    "model.compile(loss = \"mse\",optimizer=keras.optimizers.SGD(learning_rate=0.03))"
   ]
  },
  {
   "cell_type": "code",
   "execution_count": 14,
   "metadata": {},
   "outputs": [
    {
     "name": "stdout",
     "output_type": "stream",
     "text": [
      "Train on 1000 samples\n",
      "Epoch 1/10\n",
      "WARNING:tensorflow:Entity <function Function._initialize_uninitialized_variables.<locals>.initialize_variables at 0x0000016A8E7CE620> could not be transformed and will be executed as-is. Please report this to the AutoGraph team. When filing the bug, set the verbosity to 10 (on Linux, `export AUTOGRAPH_VERBOSITY=10`) and attach the full output. Cause: module 'gast' has no attribute 'Num'\n",
      "WARNING: Entity <function Function._initialize_uninitialized_variables.<locals>.initialize_variables at 0x0000016A8E7CE620> could not be transformed and will be executed as-is. Please report this to the AutoGraph team. When filing the bug, set the verbosity to 10 (on Linux, `export AUTOGRAPH_VERBOSITY=10`) and attach the full output. Cause: module 'gast' has no attribute 'Num'\n",
      "1000/1000 [==============================] - 0s 475us/sample - loss: 8.2360\n",
      "Epoch 2/10\n",
      "1000/1000 [==============================] - 0s 62us/sample - loss: 0.1906\n",
      "Epoch 3/10\n",
      "1000/1000 [==============================] - 0s 65us/sample - loss: 0.0045\n",
      "Epoch 4/10\n",
      "1000/1000 [==============================] - 0s 78us/sample - loss: 2.0227e-04\n",
      "Epoch 5/10\n",
      "1000/1000 [==============================] - 0s 58us/sample - loss: 1.0110e-04\n",
      "Epoch 6/10\n",
      "1000/1000 [==============================] - 0s 58us/sample - loss: 9.8423e-05\n",
      "Epoch 7/10\n",
      "1000/1000 [==============================] - 0s 59us/sample - loss: 9.8733e-05\n",
      "Epoch 8/10\n",
      "1000/1000 [==============================] - 0s 57us/sample - loss: 9.8430e-05\n",
      "Epoch 9/10\n",
      "1000/1000 [==============================] - 0s 61us/sample - loss: 9.8538e-05\n",
      "Epoch 10/10\n",
      "1000/1000 [==============================] - 0s 57us/sample - loss: 9.8630e-05\n"
     ]
    },
    {
     "data": {
      "text/plain": [
       "<tensorflow.python.keras.callbacks.History at 0x16a8e7c1358>"
      ]
     },
     "execution_count": 14,
     "metadata": {},
     "output_type": "execute_result"
    }
   ],
   "source": [
    "steps_per_epoch = num_examples // batch_size\n",
    "model.fit(x=features,y=lables,epochs=10,batch_size=batch_size)\n",
    "\n",
    "\n",
    "# model.fit(dataset,epochs=10,steps_per_epoch=steps_per_epoch)"
   ]
  },
  {
   "cell_type": "code",
   "execution_count": 15,
   "metadata": {},
   "outputs": [
    {
     "name": "stdout",
     "output_type": "stream",
     "text": [
      "Model: \"sequential_1\"\n",
      "_________________________________________________________________\n",
      "Layer (type)                 Output Shape              Param #   \n",
      "=================================================================\n",
      "dense_1 (Dense)              multiple                  3         \n",
      "=================================================================\n",
      "Total params: 3\n",
      "Trainable params: 3\n",
      "Non-trainable params: 0\n",
      "_________________________________________________________________\n"
     ]
    }
   ],
   "source": [
    "model.summary()"
   ]
  },
  {
   "cell_type": "code",
   "execution_count": 16,
   "metadata": {},
   "outputs": [
    {
     "data": {
      "text/plain": [
       "[<tf.Variable 'sequential_1/dense_1/kernel:0' shape=(2, 1) dtype=float32, numpy=\n",
       " array([[2.3999934],\n",
       "        [3.9996881]], dtype=float32)>,\n",
       " <tf.Variable 'sequential_1/dense_1/bias:0' shape=(1,) dtype=float32, numpy=array([-3.4001477], dtype=float32)>]"
      ]
     },
     "execution_count": 16,
     "metadata": {},
     "output_type": "execute_result"
    }
   ],
   "source": [
    "model.weights"
   ]
  },
  {
   "cell_type": "code",
   "execution_count": null,
   "metadata": {},
   "outputs": [],
   "source": []
  }
 ],
 "metadata": {
  "kernelspec": {
   "display_name": "tensorflow2.0",
   "language": "python",
   "name": "tensorflow2.0"
  },
  "language_info": {
   "codemirror_mode": {
    "name": "ipython",
    "version": 3
   },
   "file_extension": ".py",
   "mimetype": "text/x-python",
   "name": "python",
   "nbconvert_exporter": "python",
   "pygments_lexer": "ipython3",
   "version": "3.6.9"
  }
 },
 "nbformat": 4,
 "nbformat_minor": 4
}
