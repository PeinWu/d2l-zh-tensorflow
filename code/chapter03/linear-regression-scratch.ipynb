{
 "cells": [
  {
   "cell_type": "code",
   "execution_count": 1,
   "metadata": {},
   "outputs": [
    {
     "data": {
      "text/plain": [
       "'2.0.0-rc1'"
      ]
     },
     "execution_count": 1,
     "metadata": {},
     "output_type": "execute_result"
    }
   ],
   "source": [
    "import tensorflow as tf\n",
    "tf.__version__"
   ]
  },
  {
   "cell_type": "markdown",
   "metadata": {},
   "source": [
    "### 生成数据\n",
    "\n",
    "构造 y = 2.4x1 + 4x2 -3.4"
   ]
  },
  {
   "cell_type": "code",
   "execution_count": 2,
   "metadata": {},
   "outputs": [],
   "source": [
    "true_w = [2.4,4]\n",
    "true_b = -3.4\n",
    "num_inputs = 2\n",
    "num_examples = 1000\n",
    "\n",
    "features = tf.random.normal(shape=[num_examples,num_inputs])"
   ]
  },
  {
   "cell_type": "code",
   "execution_count": 3,
   "metadata": {},
   "outputs": [
    {
     "data": {
      "text/plain": [
       "<tf.Tensor: id=9, shape=(5, 2), dtype=float32, numpy=\n",
       "array([[ 1.8879708 , -2.1336825 ],\n",
       "       [ 0.7376135 ,  0.5931834 ],\n",
       "       [-0.0588356 ,  0.10758081],\n",
       "       [-0.9199985 ,  0.55885845],\n",
       "       [ 1.6018661 , -0.19825228]], dtype=float32)>"
      ]
     },
     "execution_count": 3,
     "metadata": {},
     "output_type": "execute_result"
    }
   ],
   "source": [
    "features[:5]"
   ]
  },
  {
   "cell_type": "code",
   "execution_count": 15,
   "metadata": {},
   "outputs": [
    {
     "data": {
      "text/plain": [
       "<tf.Tensor: id=81, shape=(5,), dtype=float32, numpy=\n",
       "array([-7.4035997,  0.7430062, -3.1108823, -3.372563 , -0.3485303],\n",
       "      dtype=float32)>"
      ]
     },
     "execution_count": 15,
     "metadata": {},
     "output_type": "execute_result"
    }
   ],
   "source": [
    "lables =tf.reduce_sum( tf.constant(true_w) * features,axis=1)  + tf.constant(true_b)\n",
    "lables[:5]"
   ]
  },
  {
   "cell_type": "code",
   "execution_count": 16,
   "metadata": {},
   "outputs": [
    {
     "data": {
      "text/plain": [
       "<tf.Tensor: id=92, shape=(5,), dtype=float32, numpy=\n",
       "array([-7.405033  ,  0.73529685, -3.113644  , -3.376704  , -0.35880834],\n",
       "      dtype=float32)>"
      ]
     },
     "execution_count": 16,
     "metadata": {},
     "output_type": "execute_result"
    }
   ],
   "source": [
    "lables += tf.random.normal(shape=lables.shape,stddev=0.01)\n",
    "lables[:5]"
   ]
  },
  {
   "cell_type": "code",
   "execution_count": 17,
   "metadata": {},
   "outputs": [
    {
     "data": {
      "text/plain": [
       "(<tf.Tensor: id=96, shape=(2,), dtype=float32, numpy=array([ 1.8879708, -2.1336825], dtype=float32)>,\n",
       " <tf.Tensor: id=100, shape=(), dtype=float32, numpy=-7.405033>)"
      ]
     },
     "execution_count": 17,
     "metadata": {},
     "output_type": "execute_result"
    }
   ],
   "source": [
    "features[0],lables[0]"
   ]
  },
  {
   "cell_type": "code",
   "execution_count": 18,
   "metadata": {},
   "outputs": [],
   "source": [
    "import random"
   ]
  },
  {
   "cell_type": "code",
   "execution_count": 19,
   "metadata": {},
   "outputs": [],
   "source": [
    "def data_inter(batch_size,features,lanbles):\n",
    "    num = len(features)\n",
    "    indices = list(range(num))\n",
    "    random.shuffle(indices)\n",
    "    \n",
    "    for i in range(0,num,batch_size):\n",
    "        j = min(i+batch_size,num)\n",
    "        yield features[i:j],lanbles[i:j]"
   ]
  },
  {
   "cell_type": "code",
   "execution_count": 20,
   "metadata": {},
   "outputs": [],
   "source": [
    "batch_size = 32"
   ]
  },
  {
   "cell_type": "code",
   "execution_count": 21,
   "metadata": {},
   "outputs": [],
   "source": [
    "inter = data_inter(batch_size,features,lables)"
   ]
  },
  {
   "cell_type": "code",
   "execution_count": 23,
   "metadata": {},
   "outputs": [
    {
     "name": "stdout",
     "output_type": "stream",
     "text": [
      "tf.Tensor(\n",
      "[[ 1.8879708  -2.1336825 ]\n",
      " [ 0.7376135   0.5931834 ]\n",
      " [-0.0588356   0.10758081]\n",
      " [-0.9199985   0.55885845]\n",
      " [ 1.6018661  -0.19825228]\n",
      " [ 1.4773483   0.12092438]\n",
      " [-0.41717276  0.7841685 ]\n",
      " [ 1.2573222  -1.9573232 ]\n",
      " [-0.57944393  0.73416156]\n",
      " [-0.7457675  -0.5676988 ]\n",
      " [ 2.1712627   0.6329351 ]\n",
      " [ 0.48991936 -1.4965094 ]\n",
      " [ 0.7654578   0.50515807]\n",
      " [-1.6901743  -0.3470743 ]\n",
      " [ 0.4395262  -1.9570932 ]\n",
      " [-0.1203185   1.9836766 ]\n",
      " [ 1.9470811  -0.63036686]\n",
      " [-0.6167048  -1.1750531 ]\n",
      " [ 1.0256116  -0.15167119]\n",
      " [ 0.06153234 -1.1670824 ]\n",
      " [-1.0446807  -0.82333976]\n",
      " [-0.20178725 -0.38839832]\n",
      " [ 0.28102392 -0.09577035]\n",
      " [ 1.4649645   0.53739774]\n",
      " [-0.3270892  -2.1727982 ]\n",
      " [ 0.10991778 -0.48117778]\n",
      " [ 0.6049704  -0.44234428]\n",
      " [ 0.9442001  -1.8626257 ]\n",
      " [ 0.31373918  0.92262375]\n",
      " [ 0.83188957 -0.90864545]\n",
      " [-0.6465388  -1.1066452 ]\n",
      " [ 1.099742    0.96116716]], shape=(32, 2), dtype=float32) tf.Tensor(\n",
      "[ -7.405033     0.73529685  -3.113644    -3.376704    -0.35880834\n",
      "   0.6283699   -1.2559277   -8.208502    -1.8321071   -7.459164\n",
      "   4.3249764   -8.203037     0.46160898  -8.831979   -10.190733\n",
      "   4.2425194   -1.2410038   -9.569833    -1.5387728   -7.921889\n",
      "  -9.206931    -5.435281    -3.102531     2.262174   -12.839389\n",
      "  -5.0667224   -3.7037573   -8.595802     1.038908    -5.040818\n",
      "  -9.385462     3.0967617 ], shape=(32,), dtype=float32)\n"
     ]
    }
   ],
   "source": [
    "for x,y in inter:\n",
    "    print(x,y)\n",
    "    break"
   ]
  },
  {
   "cell_type": "markdown",
   "metadata": {},
   "source": [
    "### 参数初始化"
   ]
  },
  {
   "cell_type": "code",
   "execution_count": 43,
   "metadata": {},
   "outputs": [],
   "source": [
    "w = tf.random.normal(shape=[2,1])\n",
    "b = tf.ones(shape=[1,])"
   ]
  },
  {
   "cell_type": "markdown",
   "metadata": {},
   "source": [
    "### 定义模型"
   ]
  },
  {
   "cell_type": "code",
   "execution_count": 26,
   "metadata": {},
   "outputs": [],
   "source": [
    "def linreg(x,w,b):\n",
    "    return tf.matmul(x,w) + b"
   ]
  },
  {
   "cell_type": "code",
   "execution_count": 29,
   "metadata": {},
   "outputs": [
    {
     "name": "stdout",
     "output_type": "stream",
     "text": [
      "tf.Tensor(\n",
      "[[ 1.1701056 ]\n",
      " [ 0.98041487]\n",
      " [ 2.7241085 ]\n",
      " [ 1.2453179 ]\n",
      " [ 1.539138  ]\n",
      " [ 0.38368398]\n",
      " [ 2.4891243 ]\n",
      " [ 2.6493478 ]\n",
      " [-0.5020764 ]\n",
      " [ 2.4497252 ]\n",
      " [ 0.9295529 ]\n",
      " [ 2.3989272 ]\n",
      " [ 0.5751362 ]\n",
      " [ 2.481438  ]\n",
      " [ 0.7485478 ]\n",
      " [ 1.3430793 ]\n",
      " [ 2.3306067 ]\n",
      " [ 4.075533  ]\n",
      " [ 1.1074067 ]\n",
      " [ 1.1886427 ]\n",
      " [ 1.3905013 ]\n",
      " [ 1.7931782 ]\n",
      " [-0.18970537]\n",
      " [-0.2932613 ]\n",
      " [ 2.194859  ]\n",
      " [ 3.1251433 ]\n",
      " [ 2.121282  ]\n",
      " [ 0.8538486 ]\n",
      " [-1.4193251 ]\n",
      " [ 1.3592868 ]\n",
      " [ 1.2681595 ]\n",
      " [-0.1793561 ]], shape=(32, 1), dtype=float32)\n"
     ]
    }
   ],
   "source": [
    "for x,y in inter:\n",
    "    print(linreg(x,w,b))\n",
    "    break"
   ]
  },
  {
   "cell_type": "markdown",
   "metadata": {},
   "source": [
    "### 定义损失"
   ]
  },
  {
   "cell_type": "code",
   "execution_count": 34,
   "metadata": {},
   "outputs": [],
   "source": [
    "def square_error(y_true,y):\n",
    "    return (tf.reshape(y_true,y.shape)-y)**2 /2"
   ]
  },
  {
   "cell_type": "code",
   "execution_count": 35,
   "metadata": {},
   "outputs": [
    {
     "name": "stdout",
     "output_type": "stream",
     "text": [
      "tf.Tensor(\n",
      "[[2.2089062e+01]\n",
      " [4.4624802e+01]\n",
      " [5.6095438e+00]\n",
      " [1.9613155e+01]\n",
      " [3.4240967e+01]\n",
      " [1.2041559e+00]\n",
      " [3.9677455e+00]\n",
      " [6.3409529e+00]\n",
      " [5.8076504e+01]\n",
      " [7.5864644e+00]\n",
      " [4.5043025e+00]\n",
      " [6.1246214e+00]\n",
      " [5.0740444e+01]\n",
      " [2.0532818e+01]\n",
      " [6.5272129e-01]\n",
      " [3.8319037e+00]\n",
      " [1.7396671e+01]\n",
      " [2.3417831e+01]\n",
      " [6.7764487e+00]\n",
      " [6.6569722e-03]\n",
      " [2.6211664e+01]\n",
      " [1.2910376e+01]\n",
      " [1.3601874e+00]\n",
      " [2.1165758e+01]\n",
      " [1.4009410e+02]\n",
      " [5.0590414e-01]\n",
      " [1.4200706e+00]\n",
      " [1.6633406e+01]\n",
      " [1.8196001e+01]\n",
      " [1.4663843e+02]\n",
      " [3.0048108e+00]\n",
      " [1.8061469e-01]], shape=(32, 1), dtype=float32)\n"
     ]
    }
   ],
   "source": [
    "for x,y in inter:\n",
    "    print(square_error(y,linreg(x,w,b)))\n",
    "    break"
   ]
  },
  {
   "cell_type": "markdown",
   "metadata": {},
   "source": [
    "### 定义优化算法"
   ]
  },
  {
   "cell_type": "code",
   "execution_count": 37,
   "metadata": {},
   "outputs": [],
   "source": [
    "# def sgd(params , lr,batch_size):\n",
    "#     for param in params:\n",
    "#         param[:] = param -lr * param.grad /batch_size"
   ]
  },
  {
   "cell_type": "markdown",
   "metadata": {},
   "source": [
    "### 训练"
   ]
  },
  {
   "cell_type": "code",
   "execution_count": 45,
   "metadata": {},
   "outputs": [
    {
     "name": "stdout",
     "output_type": "stream",
     "text": [
      "epcho: 1 loss: 39.338524\n",
      "epcho: 2 loss: 6.263608\n",
      "epcho: 3 loss: 0.9988285\n",
      "epcho: 4 loss: 0.15962106\n",
      "epcho: 5 loss: 0.02571959\n",
      "epcho: 6 loss: 0.004364623\n",
      "epcho: 7 loss: 0.0009760137\n",
      "epcho: 8 loss: 0.00044880147\n",
      "epcho: 9 loss: 0.00037217562\n",
      "epcho: 10 loss: 0.00036362233\n"
     ]
    }
   ],
   "source": [
    "lr = 0.03\n",
    "epchos = 10\n",
    "\n",
    "for i in range(epchos):\n",
    "    for X,y in data_inter(batch_size,features,lables):\n",
    "        with tf.GradientTape() as tape:\n",
    "            tape.watch(w)\n",
    "            tape.watch(b)\n",
    "            y_hat = linreg(X,w,b)\n",
    "            loss = square_error(y,y_hat)\n",
    "        dw,db = tape.gradient(loss,[w,b])\n",
    "        w = w - lr * dw /batch_size\n",
    "        b = b - lr *db /batch_size\n",
    "    \n",
    "    epcho_loss = square_error(y,linreg(X,w,b))\n",
    "    print(\"epcho:\",i+1,\"loss:\",tf.reduce_sum(epcho_loss).numpy())"
   ]
  },
  {
   "cell_type": "code",
   "execution_count": 46,
   "metadata": {},
   "outputs": [
    {
     "data": {
      "text/plain": [
       "(<tf.Tensor: id=56227, shape=(2, 1), dtype=float32, numpy=\n",
       " array([[2.3992229],\n",
       "        [3.9997842]], dtype=float32)>,\n",
       " <tf.Tensor: id=56232, shape=(1,), dtype=float32, numpy=array([-3.3997357], dtype=float32)>)"
      ]
     },
     "execution_count": 46,
     "metadata": {},
     "output_type": "execute_result"
    }
   ],
   "source": [
    "w,b"
   ]
  },
  {
   "cell_type": "code",
   "execution_count": null,
   "metadata": {},
   "outputs": [],
   "source": []
  }
 ],
 "metadata": {
  "kernelspec": {
   "display_name": "tf2.0",
   "language": "python",
   "name": "tensorflow2.0"
  },
  "language_info": {
   "codemirror_mode": {
    "name": "ipython",
    "version": 3
   },
   "file_extension": ".py",
   "mimetype": "text/x-python",
   "name": "python",
   "nbconvert_exporter": "python",
   "pygments_lexer": "ipython3",
   "version": "3.6.9"
  }
 },
 "nbformat": 4,
 "nbformat_minor": 4
}
