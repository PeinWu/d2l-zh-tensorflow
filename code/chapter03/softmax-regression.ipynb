{
 "cells": [
  {
   "cell_type": "code",
   "execution_count": 1,
   "metadata": {},
   "outputs": [],
   "source": [
    "import tensorflow as tf"
   ]
  },
  {
   "cell_type": "code",
   "execution_count": 2,
   "metadata": {},
   "outputs": [
    {
     "data": {
      "text/plain": [
       "'2.0.0-rc1'"
      ]
     },
     "execution_count": 2,
     "metadata": {},
     "output_type": "execute_result"
    }
   ],
   "source": [
    "tf.__version__"
   ]
  },
  {
   "cell_type": "markdown",
   "metadata": {},
   "source": [
    "### 加载数据 (fashion-minit)"
   ]
  },
  {
   "cell_type": "code",
   "execution_count": 3,
   "metadata": {},
   "outputs": [],
   "source": [
    "def load_mnist(path, kind='train'):\n",
    "    import os\n",
    "    import gzip\n",
    "    import numpy as np\n",
    "\n",
    "    \"\"\"Load MNIST data from `path`\"\"\"\n",
    "    labels_path = os.path.join(path,\n",
    "                               '%s-labels-idx1-ubyte.gz'\n",
    "                               % kind)\n",
    "    images_path = os.path.join(path,\n",
    "                               '%s-images-idx3-ubyte.gz'\n",
    "                               % kind)\n",
    "\n",
    "    with gzip.open(labels_path, 'rb') as lbpath:\n",
    "        labels = np.frombuffer(lbpath.read(), dtype=np.uint8,\n",
    "                               offset=8)\n",
    "\n",
    "    with gzip.open(images_path, 'rb') as imgpath:\n",
    "        images = np.frombuffer(imgpath.read(), dtype=np.uint8,\n",
    "                               offset=16).reshape(len(labels), 784)\n",
    "\n",
    "    return images, labels"
   ]
  },
  {
   "cell_type": "code",
   "execution_count": 4,
   "metadata": {},
   "outputs": [],
   "source": [
    "path = \"../../data/fashion_mnist\""
   ]
  },
  {
   "cell_type": "code",
   "execution_count": 5,
   "metadata": {},
   "outputs": [],
   "source": [
    "text_labels = ['t-shirt', 'trouser', 'pullover', 'dress', 'coat',\n",
    "'sandal', 'shirt', 'sneaker', 'bag', 'ankle boot']"
   ]
  },
  {
   "cell_type": "code",
   "execution_count": 6,
   "metadata": {},
   "outputs": [],
   "source": [
    "x_train,y_train = load_mnist(path)\n",
    "x_test,y_test = load_mnist(path,\"t10k\")"
   ]
  },
  {
   "cell_type": "code",
   "execution_count": 7,
   "metadata": {},
   "outputs": [
    {
     "data": {
      "text/plain": [
       "<tf.Tensor: id=11, shape=(10000,), dtype=int32, numpy=array([9, 2, 1, ..., 8, 1, 5])>"
      ]
     },
     "execution_count": 7,
     "metadata": {},
     "output_type": "execute_result"
    }
   ],
   "source": [
    "x_train = tf.cast(x_train,tf.float32) / 255\n",
    "tf.cast(y_train,tf.int32)\n",
    "x_test = tf.cast(x_test,tf.float32) / 255\n",
    "tf.cast(y_test,tf.int32)"
   ]
  },
  {
   "cell_type": "code",
   "execution_count": 8,
   "metadata": {},
   "outputs": [
    {
     "data": {
      "text/plain": [
       "(<tf.Tensor: id=15, shape=(784,), dtype=float32, numpy=\n",
       " array([0.        , 0.        , 0.        , 0.        , 0.        ,\n",
       "        0.        , 0.        , 0.        , 0.        , 0.        ,\n",
       "        0.        , 0.        , 0.        , 0.        , 0.        ,\n",
       "        0.        , 0.        , 0.        , 0.        , 0.        ,\n",
       "        0.        , 0.        , 0.        , 0.        , 0.        ,\n",
       "        0.        , 0.        , 0.        , 0.        , 0.        ,\n",
       "        0.        , 0.        , 0.        , 0.        , 0.        ,\n",
       "        0.        , 0.        , 0.        , 0.        , 0.        ,\n",
       "        0.        , 0.        , 0.        , 0.        , 0.        ,\n",
       "        0.        , 0.        , 0.        , 0.        , 0.        ,\n",
       "        0.        , 0.        , 0.        , 0.        , 0.        ,\n",
       "        0.        , 0.        , 0.        , 0.        , 0.        ,\n",
       "        0.        , 0.        , 0.        , 0.        , 0.        ,\n",
       "        0.        , 0.        , 0.        , 0.        , 0.        ,\n",
       "        0.        , 0.        , 0.        , 0.        , 0.        ,\n",
       "        0.        , 0.        , 0.        , 0.        , 0.        ,\n",
       "        0.        , 0.        , 0.        , 0.        , 0.        ,\n",
       "        0.        , 0.        , 0.        , 0.        , 0.        ,\n",
       "        0.        , 0.        , 0.        , 0.        , 0.        ,\n",
       "        0.        , 0.00392157, 0.        , 0.        , 0.05098039,\n",
       "        0.28627452, 0.        , 0.        , 0.00392157, 0.01568628,\n",
       "        0.        , 0.        , 0.        , 0.        , 0.00392157,\n",
       "        0.00392157, 0.        , 0.        , 0.        , 0.        ,\n",
       "        0.        , 0.        , 0.        , 0.        , 0.        ,\n",
       "        0.        , 0.        , 0.        , 0.        , 0.01176471,\n",
       "        0.        , 0.14117648, 0.53333336, 0.49803922, 0.24313726,\n",
       "        0.21176471, 0.        , 0.        , 0.        , 0.00392157,\n",
       "        0.01176471, 0.01568628, 0.        , 0.        , 0.01176471,\n",
       "        0.        , 0.        , 0.        , 0.        , 0.        ,\n",
       "        0.        , 0.        , 0.        , 0.        , 0.        ,\n",
       "        0.        , 0.        , 0.02352941, 0.        , 0.4       ,\n",
       "        0.8       , 0.6901961 , 0.5254902 , 0.5647059 , 0.48235294,\n",
       "        0.09019608, 0.        , 0.        , 0.        , 0.        ,\n",
       "        0.04705882, 0.03921569, 0.        , 0.        , 0.        ,\n",
       "        0.        , 0.        , 0.        , 0.        , 0.        ,\n",
       "        0.        , 0.        , 0.        , 0.        , 0.        ,\n",
       "        0.        , 0.        , 0.60784316, 0.9254902 , 0.8117647 ,\n",
       "        0.69803923, 0.41960785, 0.6117647 , 0.6313726 , 0.42745098,\n",
       "        0.2509804 , 0.09019608, 0.3019608 , 0.50980395, 0.28235295,\n",
       "        0.05882353, 0.        , 0.        , 0.        , 0.        ,\n",
       "        0.        , 0.        , 0.        , 0.        , 0.        ,\n",
       "        0.        , 0.        , 0.00392157, 0.        , 0.27058825,\n",
       "        0.8117647 , 0.8745098 , 0.85490197, 0.84705883, 0.84705883,\n",
       "        0.6392157 , 0.49803922, 0.4745098 , 0.47843137, 0.57254905,\n",
       "        0.5529412 , 0.34509805, 0.6745098 , 0.25882354, 0.        ,\n",
       "        0.        , 0.        , 0.        , 0.        , 0.        ,\n",
       "        0.        , 0.        , 0.        , 0.00392157, 0.00392157,\n",
       "        0.00392157, 0.        , 0.78431374, 0.9098039 , 0.9098039 ,\n",
       "        0.9137255 , 0.8980392 , 0.8745098 , 0.8745098 , 0.84313726,\n",
       "        0.8352941 , 0.6431373 , 0.49803922, 0.48235294, 0.76862746,\n",
       "        0.8980392 , 0.        , 0.        , 0.        , 0.        ,\n",
       "        0.        , 0.        , 0.        , 0.        , 0.        ,\n",
       "        0.        , 0.        , 0.        , 0.        , 0.        ,\n",
       "        0.7176471 , 0.88235295, 0.84705883, 0.8745098 , 0.89411765,\n",
       "        0.92156863, 0.8901961 , 0.8784314 , 0.87058824, 0.8784314 ,\n",
       "        0.8666667 , 0.8745098 , 0.9607843 , 0.6784314 , 0.        ,\n",
       "        0.        , 0.        , 0.        , 0.        , 0.        ,\n",
       "        0.        , 0.        , 0.        , 0.        , 0.        ,\n",
       "        0.        , 0.        , 0.        , 0.75686276, 0.89411765,\n",
       "        0.85490197, 0.8352941 , 0.7764706 , 0.7058824 , 0.83137256,\n",
       "        0.8235294 , 0.827451  , 0.8352941 , 0.8745098 , 0.8627451 ,\n",
       "        0.9529412 , 0.7921569 , 0.        , 0.        , 0.        ,\n",
       "        0.        , 0.        , 0.        , 0.        , 0.        ,\n",
       "        0.        , 0.        , 0.00392157, 0.01176471, 0.        ,\n",
       "        0.04705882, 0.85882354, 0.8627451 , 0.83137256, 0.85490197,\n",
       "        0.7529412 , 0.6627451 , 0.8901961 , 0.8156863 , 0.85490197,\n",
       "        0.8784314 , 0.83137256, 0.8862745 , 0.77254903, 0.81960785,\n",
       "        0.20392157, 0.        , 0.        , 0.        , 0.        ,\n",
       "        0.        , 0.        , 0.        , 0.        , 0.        ,\n",
       "        0.        , 0.02352941, 0.        , 0.3882353 , 0.95686275,\n",
       "        0.87058824, 0.8627451 , 0.85490197, 0.79607844, 0.7764706 ,\n",
       "        0.8666667 , 0.84313726, 0.8352941 , 0.87058824, 0.8627451 ,\n",
       "        0.9607843 , 0.46666667, 0.654902  , 0.21960784, 0.        ,\n",
       "        0.        , 0.        , 0.        , 0.        , 0.        ,\n",
       "        0.        , 0.        , 0.        , 0.01568628, 0.        ,\n",
       "        0.        , 0.21568628, 0.9254902 , 0.89411765, 0.9019608 ,\n",
       "        0.89411765, 0.9411765 , 0.9098039 , 0.8352941 , 0.85490197,\n",
       "        0.8745098 , 0.91764706, 0.8509804 , 0.8509804 , 0.81960785,\n",
       "        0.36078432, 0.        , 0.        , 0.        , 0.00392157,\n",
       "        0.01568628, 0.02352941, 0.02745098, 0.00784314, 0.        ,\n",
       "        0.        , 0.        , 0.        , 0.        , 0.92941177,\n",
       "        0.8862745 , 0.8509804 , 0.8745098 , 0.87058824, 0.85882354,\n",
       "        0.87058824, 0.8666667 , 0.84705883, 0.8745098 , 0.8980392 ,\n",
       "        0.84313726, 0.85490197, 1.        , 0.3019608 , 0.        ,\n",
       "        0.        , 0.01176471, 0.        , 0.        , 0.        ,\n",
       "        0.        , 0.        , 0.        , 0.        , 0.24313726,\n",
       "        0.5686275 , 0.8       , 0.89411765, 0.8117647 , 0.8352941 ,\n",
       "        0.8666667 , 0.85490197, 0.8156863 , 0.827451  , 0.85490197,\n",
       "        0.8784314 , 0.8745098 , 0.85882354, 0.84313726, 0.8784314 ,\n",
       "        0.95686275, 0.62352943, 0.        , 0.        , 0.        ,\n",
       "        0.        , 0.        , 0.07058824, 0.17254902, 0.32156864,\n",
       "        0.41960785, 0.7411765 , 0.89411765, 0.8627451 , 0.87058824,\n",
       "        0.8509804 , 0.8862745 , 0.78431374, 0.8039216 , 0.827451  ,\n",
       "        0.9019608 , 0.8784314 , 0.91764706, 0.6901961 , 0.7372549 ,\n",
       "        0.98039216, 0.972549  , 0.9137255 , 0.93333334, 0.84313726,\n",
       "        0.        , 0.        , 0.22352941, 0.73333335, 0.8156863 ,\n",
       "        0.8784314 , 0.8666667 , 0.8784314 , 0.8156863 , 0.8       ,\n",
       "        0.8392157 , 0.8156863 , 0.81960785, 0.78431374, 0.62352943,\n",
       "        0.9607843 , 0.75686276, 0.80784315, 0.8745098 , 1.        ,\n",
       "        1.        , 0.8666667 , 0.91764706, 0.8666667 , 0.827451  ,\n",
       "        0.8627451 , 0.9098039 , 0.9647059 , 0.        , 0.01176471,\n",
       "        0.7921569 , 0.89411765, 0.8784314 , 0.8666667 , 0.827451  ,\n",
       "        0.827451  , 0.8392157 , 0.8039216 , 0.8039216 , 0.8039216 ,\n",
       "        0.8627451 , 0.9411765 , 0.3137255 , 0.5882353 , 1.        ,\n",
       "        0.8980392 , 0.8666667 , 0.7372549 , 0.6039216 , 0.7490196 ,\n",
       "        0.8235294 , 0.8       , 0.81960785, 0.87058824, 0.89411765,\n",
       "        0.88235295, 0.        , 0.38431373, 0.9137255 , 0.7764706 ,\n",
       "        0.8235294 , 0.87058824, 0.8980392 , 0.8980392 , 0.91764706,\n",
       "        0.9764706 , 0.8627451 , 0.7607843 , 0.84313726, 0.8509804 ,\n",
       "        0.94509804, 0.25490198, 0.28627452, 0.41568628, 0.45882353,\n",
       "        0.65882355, 0.85882354, 0.8666667 , 0.84313726, 0.8509804 ,\n",
       "        0.8745098 , 0.8745098 , 0.8784314 , 0.8980392 , 0.11372549,\n",
       "        0.29411766, 0.8       , 0.83137256, 0.8       , 0.75686276,\n",
       "        0.8039216 , 0.827451  , 0.88235295, 0.84705883, 0.7254902 ,\n",
       "        0.77254903, 0.80784315, 0.7764706 , 0.8352941 , 0.9411765 ,\n",
       "        0.7647059 , 0.8901961 , 0.9607843 , 0.9372549 , 0.8745098 ,\n",
       "        0.85490197, 0.83137256, 0.81960785, 0.87058824, 0.8627451 ,\n",
       "        0.8666667 , 0.9019608 , 0.2627451 , 0.1882353 , 0.79607844,\n",
       "        0.7176471 , 0.7607843 , 0.8352941 , 0.77254903, 0.7254902 ,\n",
       "        0.74509805, 0.7607843 , 0.7529412 , 0.7921569 , 0.8392157 ,\n",
       "        0.85882354, 0.8666667 , 0.8627451 , 0.9254902 , 0.88235295,\n",
       "        0.84705883, 0.78039217, 0.80784315, 0.7294118 , 0.70980394,\n",
       "        0.69411767, 0.6745098 , 0.70980394, 0.8039216 , 0.80784315,\n",
       "        0.4509804 , 0.        , 0.47843137, 0.85882354, 0.75686276,\n",
       "        0.7019608 , 0.67058825, 0.7176471 , 0.76862746, 0.8       ,\n",
       "        0.8235294 , 0.8352941 , 0.8117647 , 0.827451  , 0.8235294 ,\n",
       "        0.78431374, 0.76862746, 0.7607843 , 0.7490196 , 0.7647059 ,\n",
       "        0.7490196 , 0.7764706 , 0.7529412 , 0.6901961 , 0.6117647 ,\n",
       "        0.654902  , 0.69411767, 0.8235294 , 0.36078432, 0.        ,\n",
       "        0.        , 0.2901961 , 0.7411765 , 0.83137256, 0.7490196 ,\n",
       "        0.6862745 , 0.6745098 , 0.6862745 , 0.70980394, 0.7254902 ,\n",
       "        0.7372549 , 0.7411765 , 0.7372549 , 0.75686276, 0.7764706 ,\n",
       "        0.8       , 0.81960785, 0.8235294 , 0.8235294 , 0.827451  ,\n",
       "        0.7372549 , 0.7372549 , 0.7607843 , 0.7529412 , 0.84705883,\n",
       "        0.6666667 , 0.        , 0.00784314, 0.        , 0.        ,\n",
       "        0.        , 0.25882354, 0.78431374, 0.87058824, 0.92941177,\n",
       "        0.9372549 , 0.9490196 , 0.9647059 , 0.9529412 , 0.95686275,\n",
       "        0.8666667 , 0.8627451 , 0.75686276, 0.7490196 , 0.7019608 ,\n",
       "        0.7137255 , 0.7137255 , 0.70980394, 0.6901961 , 0.6509804 ,\n",
       "        0.65882355, 0.3882353 , 0.22745098, 0.        , 0.        ,\n",
       "        0.        , 0.        , 0.        , 0.        , 0.        ,\n",
       "        0.        , 0.        , 0.15686275, 0.23921569, 0.17254902,\n",
       "        0.28235295, 0.16078432, 0.13725491, 0.        , 0.        ,\n",
       "        0.        , 0.        , 0.        , 0.        , 0.        ,\n",
       "        0.        , 0.        , 0.        , 0.        , 0.        ,\n",
       "        0.        , 0.        , 0.        , 0.        , 0.        ,\n",
       "        0.        , 0.        , 0.        , 0.        , 0.        ,\n",
       "        0.        , 0.        , 0.        , 0.        , 0.        ,\n",
       "        0.        , 0.        , 0.        , 0.        , 0.        ,\n",
       "        0.        , 0.        , 0.        , 0.        , 0.        ,\n",
       "        0.        , 0.        , 0.        , 0.        , 0.        ,\n",
       "        0.        , 0.        , 0.        , 0.        , 0.        ,\n",
       "        0.        , 0.        , 0.        , 0.        , 0.        ,\n",
       "        0.        , 0.        , 0.        , 0.        , 0.        ,\n",
       "        0.        , 0.        , 0.        , 0.        , 0.        ,\n",
       "        0.        , 0.        , 0.        , 0.        , 0.        ,\n",
       "        0.        , 0.        , 0.        , 0.        ], dtype=float32)>,\n",
       " 'ankle boot')"
      ]
     },
     "execution_count": 8,
     "metadata": {},
     "output_type": "execute_result"
    }
   ],
   "source": [
    "x_train[0],text_labels[y_train[0]]"
   ]
  },
  {
   "cell_type": "markdown",
   "metadata": {},
   "source": [
    "### 生成dataset"
   ]
  },
  {
   "cell_type": "code",
   "execution_count": 9,
   "metadata": {},
   "outputs": [],
   "source": [
    "ds_train = tf.data.Dataset.from_tensor_slices((x_train,y_train))\n",
    "ds_test = tf.data.Dataset.from_tensor_slices((x_test,y_test))"
   ]
  },
  {
   "cell_type": "code",
   "execution_count": 10,
   "metadata": {},
   "outputs": [],
   "source": [
    "# @tf.function\n",
    "# def map_fun(x,y):\n",
    "#     x = tf.cast(x,tf.float32)\n",
    "#     return x / 255.0 ,tf.cast(y,tf.int32)"
   ]
  },
  {
   "cell_type": "code",
   "execution_count": 11,
   "metadata": {},
   "outputs": [],
   "source": [
    "def transformDs(ds):\n",
    "    return ds.shuffle(5000).batch(32).repeat()"
   ]
  },
  {
   "cell_type": "code",
   "execution_count": 12,
   "metadata": {},
   "outputs": [],
   "source": [
    "ds_train = transformDs(ds_train)\n",
    "ds_test = transformDs(ds_test)"
   ]
  },
  {
   "cell_type": "code",
   "execution_count": 13,
   "metadata": {},
   "outputs": [
    {
     "data": {
      "text/plain": [
       "(<tf.Tensor: id=48, shape=(32, 784), dtype=float32, numpy=\n",
       " array([[0., 0., 0., ..., 0., 0., 0.],\n",
       "        [0., 0., 0., ..., 0., 0., 0.],\n",
       "        [0., 0., 0., ..., 0., 0., 0.],\n",
       "        ...,\n",
       "        [0., 0., 0., ..., 0., 0., 0.],\n",
       "        [0., 0., 0., ..., 0., 0., 0.],\n",
       "        [0., 0., 0., ..., 0., 0., 0.]], dtype=float32)>,\n",
       " <tf.Tensor: id=49, shape=(32,), dtype=uint8, numpy=\n",
       " array([4, 7, 2, 5, 6, 3, 5, 6, 1, 9, 9, 1, 7, 0, 2, 4, 6, 3, 3, 9, 5, 2,\n",
       "        1, 8, 8, 8, 0, 2, 5, 1, 5, 7], dtype=uint8)>)"
      ]
     },
     "execution_count": 13,
     "metadata": {},
     "output_type": "execute_result"
    }
   ],
   "source": [
    "next(iter(ds_train))"
   ]
  },
  {
   "cell_type": "markdown",
   "metadata": {},
   "source": [
    "### 创建模型"
   ]
  },
  {
   "cell_type": "code",
   "execution_count": 14,
   "metadata": {},
   "outputs": [],
   "source": [
    "model = tf.keras.Sequential()\n",
    "model.add(tf.keras.layers.Dense(512,activation=\"relu\"))#,kernel_initializer = tf.keras.initializers.he_normal()\n",
    "model.add(tf.keras.layers.Dropout(0.2))\n",
    "model.add(tf.keras.layers.Dense(10,activation=\"softmax\"))#,kernel_initializer = tf.keras.initializers.he_normal()"
   ]
  },
  {
   "cell_type": "code",
   "execution_count": 15,
   "metadata": {},
   "outputs": [],
   "source": [
    "model.compile(loss=tf.keras.losses.sparse_categorical_crossentropy,optimizer=tf.keras.optimizers.SGD(0.03),metrics=[\"acc\"])"
   ]
  },
  {
   "cell_type": "code",
   "execution_count": 16,
   "metadata": {},
   "outputs": [],
   "source": [
    "import os\n",
    "import datetime"
   ]
  },
  {
   "cell_type": "code",
   "execution_count": 17,
   "metadata": {},
   "outputs": [],
   "source": [
    "logdir = os.path.join(\"..\\..\\logs\", datetime.datetime.now().strftime(\"%Y%m%d-%H%M%S\"))\n",
    "tensorboard_callback = tf.keras.callbacks.TensorBoard(log_dir=logdir,write_images = True)"
   ]
  },
  {
   "cell_type": "code",
   "execution_count": 18,
   "metadata": {},
   "outputs": [
    {
     "name": "stdout",
     "output_type": "stream",
     "text": [
      "Train for 1875 steps, validate for 312 steps\n",
      "Epoch 1/10\n",
      "WARNING:tensorflow:Entity <function Function._initialize_uninitialized_variables.<locals>.initialize_variables at 0x0000024F0B09FD08> could not be transformed and will be executed as-is. Please report this to the AutoGraph team. When filing the bug, set the verbosity to 10 (on Linux, `export AUTOGRAPH_VERBOSITY=10`) and attach the full output. Cause: module 'gast' has no attribute 'Num'\n",
      "WARNING: Entity <function Function._initialize_uninitialized_variables.<locals>.initialize_variables at 0x0000024F0B09FD08> could not be transformed and will be executed as-is. Please report this to the AutoGraph team. When filing the bug, set the verbosity to 10 (on Linux, `export AUTOGRAPH_VERBOSITY=10`) and attach the full output. Cause: module 'gast' has no attribute 'Num'\n",
      "1875/1875 [==============================] - 6s 3ms/step - loss: 0.6061 - acc: 0.7938 - val_loss: 0.4914 - val_acc: 0.8253\n",
      "Epoch 2/10\n",
      "1875/1875 [==============================] - 5s 3ms/step - loss: 0.4476 - acc: 0.8430 - val_loss: 0.4325 - val_acc: 0.8450\n",
      "Epoch 3/10\n",
      "1875/1875 [==============================] - 5s 3ms/step - loss: 0.4038 - acc: 0.8577 - val_loss: 0.4272 - val_acc: 0.8463\n",
      "Epoch 4/10\n",
      "1875/1875 [==============================] - 5s 3ms/step - loss: 0.3786 - acc: 0.8655 - val_loss: 0.4095 - val_acc: 0.8523\n",
      "Epoch 5/10\n",
      "1875/1875 [==============================] - 5s 3ms/step - loss: 0.3601 - acc: 0.8708 - val_loss: 0.3901 - val_acc: 0.8611\n",
      "Epoch 6/10\n",
      "1875/1875 [==============================] - 5s 3ms/step - loss: 0.3439 - acc: 0.8771 - val_loss: 0.3825 - val_acc: 0.8628\n",
      "Epoch 7/10\n",
      "1875/1875 [==============================] - 5s 3ms/step - loss: 0.3320 - acc: 0.8808 - val_loss: 0.3858 - val_acc: 0.8568\n",
      "Epoch 8/10\n",
      "1875/1875 [==============================] - 5s 3ms/step - loss: 0.3225 - acc: 0.8836 - val_loss: 0.3691 - val_acc: 0.8675\n",
      "Epoch 9/10\n",
      "1875/1875 [==============================] - 5s 3ms/step - loss: 0.3121 - acc: 0.8875 - val_loss: 0.3596 - val_acc: 0.8700\n",
      "Epoch 10/10\n",
      "1875/1875 [==============================] - 5s 3ms/step - loss: 0.3056 - acc: 0.8899 - val_loss: 0.3481 - val_acc: 0.8733\n"
     ]
    },
    {
     "data": {
      "text/plain": [
       "<tensorflow.python.keras.callbacks.History at 0x24f07878550>"
      ]
     },
     "execution_count": 18,
     "metadata": {},
     "output_type": "execute_result"
    }
   ],
   "source": [
    "steps_per_epoch = len(x_train) // 32\n",
    "validation_steps = len(x_test) // 32\n",
    "model.fit(ds_train,epochs=10,steps_per_epoch=steps_per_epoch,validation_data = ds_test,validation_steps=validation_steps,callbacks=[tensorboard_callback])"
   ]
  },
  {
   "cell_type": "code",
   "execution_count": 19,
   "metadata": {},
   "outputs": [
    {
     "name": "stdout",
     "output_type": "stream",
     "text": [
      "Known TensorBoard instances:\n",
      "  - port 6006: logdir F:\\workspace\\tensorflow\\d2l-zh-tensorflow\\logs\\ (started 0:00:08 ago; pid 10308)\n",
      "  - port 6006: logdir F:workspacetensorflowd2l-zh-tensorflowlogs (started 0:15:36 ago; pid 8068)\n"
     ]
    }
   ],
   "source": [
    "from tensorboard import notebook\n",
    "notebook.list()"
   ]
  }
 ],
 "metadata": {
  "kernelspec": {
   "display_name": "tensorflow2.0",
   "language": "python",
   "name": "tensorflow2.0"
  },
  "language_info": {
   "codemirror_mode": {
    "name": "ipython",
    "version": 3
   },
   "file_extension": ".py",
   "mimetype": "text/x-python",
   "name": "python",
   "nbconvert_exporter": "python",
   "pygments_lexer": "ipython3",
   "version": "3.6.9"
  }
 },
 "nbformat": 4,
 "nbformat_minor": 4
}
