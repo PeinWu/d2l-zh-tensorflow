{
 "cells": [
  {
   "cell_type": "code",
   "execution_count": 1,
   "metadata": {},
   "outputs": [
    {
     "data": {
      "text/plain": [
       "'2.0.0-rc1'"
      ]
     },
     "execution_count": 1,
     "metadata": {},
     "output_type": "execute_result"
    }
   ],
   "source": [
    "import tensorflow as tf\n",
    "import matplotlib.pylab as plt\n",
    "import numpy as np\n",
    "tf.__version__"
   ]
  },
  {
   "cell_type": "code",
   "execution_count": 2,
   "metadata": {},
   "outputs": [],
   "source": [
    "def load_mnist(path, kind='train'):\n",
    "    import os\n",
    "    import gzip\n",
    "    import numpy as np\n",
    "\n",
    "    \"\"\"Load MNIST data from `path`\"\"\"\n",
    "    labels_path = os.path.join(path,\n",
    "                               '%s-labels-idx1-ubyte.gz'\n",
    "                               % kind)\n",
    "    images_path = os.path.join(path,\n",
    "                               '%s-images-idx3-ubyte.gz'\n",
    "                               % kind)\n",
    "\n",
    "    with gzip.open(labels_path, 'rb') as lbpath:\n",
    "        labels = np.frombuffer(lbpath.read(), dtype=np.uint8,\n",
    "                               offset=8)\n",
    "\n",
    "    with gzip.open(images_path, 'rb') as imgpath:\n",
    "        images = np.frombuffer(imgpath.read(), dtype=np.uint8,\n",
    "                               offset=16).reshape(len(labels), 784)\n",
    "\n",
    "    return images, labels\n",
    "\n",
    "\n",
    "path = \"../../data/fashion_mnist\"\n",
    "text_labels = ['t-shirt', 'trouser', 'pullover', 'dress', 'coat',\n",
    "'sandal', 'shirt', 'sneaker', 'bag', 'ankle boot']\n",
    "x_train,y_train = load_mnist(path)\n",
    "x_test,y_test = load_mnist(path,\"t10k\")\n",
    "x_train = x_train/255.0\n",
    "x_test = x_test/255.0\n",
    "\n",
    "batch_size = 256"
   ]
  },
  {
   "cell_type": "code",
   "execution_count": 3,
   "metadata": {},
   "outputs": [],
   "source": [
    "ds_train = tf.data.Dataset.from_tensor_slices((x_train,y_train))\n",
    "ds_test = tf.data.Dataset.from_tensor_slices((x_test,y_test))"
   ]
  },
  {
   "cell_type": "code",
   "execution_count": 4,
   "metadata": {},
   "outputs": [],
   "source": [
    "def transformDs(ds):\n",
    "    return ds.shuffle(5000).batch(batch_size).repeat()"
   ]
  },
  {
   "cell_type": "code",
   "execution_count": 5,
   "metadata": {},
   "outputs": [],
   "source": [
    "ds_train = transformDs(ds_train)\n",
    "ds_test = transformDs(ds_test)"
   ]
  },
  {
   "cell_type": "markdown",
   "metadata": {},
   "source": [
    "### 创建模型"
   ]
  },
  {
   "cell_type": "code",
   "execution_count": 31,
   "metadata": {},
   "outputs": [],
   "source": [
    "model = tf.keras.Sequential()"
   ]
  },
  {
   "cell_type": "code",
   "execution_count": 32,
   "metadata": {},
   "outputs": [],
   "source": [
    "model.add(tf.keras.layers.Dense(256,activation=\"relu\",kernel_regularizer=\"l1\"))\n",
    "model.add(tf.keras.layers.Dense(10,activation=\"softmax\",kernel_regularizer=\"l1\"))"
   ]
  },
  {
   "cell_type": "code",
   "execution_count": 33,
   "metadata": {},
   "outputs": [],
   "source": [
    "model.compile(optimizer=tf.keras.optimizers.Adam(learning_rate=0.01),loss=tf.keras.losses.sparse_categorical_crossentropy,metrics=[\"acc\"])"
   ]
  },
  {
   "cell_type": "code",
   "execution_count": 34,
   "metadata": {},
   "outputs": [
    {
     "name": "stdout",
     "output_type": "stream",
     "text": [
      "WARNING:tensorflow:Layer sequential_7 is casting an input tensor from dtype float64 to the layer's dtype of float32, which is new behavior in TensorFlow 2.  The layer has dtype float32 because it's dtype defaults to floatx.\n",
      "\n",
      "If you intended to run this layer in float32, you can safely ignore this warning. If in doubt, this warning is likely only an issue if you are porting a TensorFlow 1.X model to TensorFlow 2.\n",
      "\n",
      "To change all layers to have dtype float64 by default, call `tf.keras.backend.set_floatx('float64')`. To change just this layer, pass dtype='float64' to the layer constructor. If you are the author of this layer, you can disable autocasting by passing autocast=False to the base Layer constructor.\n",
      "\n",
      "Train for 234 steps, validate for 39 steps\n",
      "Epoch 1/10\n",
      "WARNING:tensorflow:Entity <function Function._initialize_uninitialized_variables.<locals>.initialize_variables at 0x000002DA262F1400> could not be transformed and will be executed as-is. Please report this to the AutoGraph team. When filing the bug, set the verbosity to 10 (on Linux, `export AUTOGRAPH_VERBOSITY=10`) and attach the full output. Cause: module 'gast' has no attribute 'Num'\n",
      "WARNING: Entity <function Function._initialize_uninitialized_variables.<locals>.initialize_variables at 0x000002DA262F1400> could not be transformed and will be executed as-is. Please report this to the AutoGraph team. When filing the bug, set the verbosity to 10 (on Linux, `export AUTOGRAPH_VERBOSITY=10`) and attach the full output. Cause: module 'gast' has no attribute 'Num'\n",
      "234/234 [==============================] - 2s 8ms/step - loss: 6.2649 - acc: 0.6421 - val_loss: 3.8359 - val_acc: 0.6965\n",
      "Epoch 2/10\n",
      "234/234 [==============================] - 1s 5ms/step - loss: 3.7735 - acc: 0.7181 - val_loss: 3.7840 - val_acc: 0.7186\n",
      "Epoch 3/10\n",
      "234/234 [==============================] - 1s 5ms/step - loss: 3.7257 - acc: 0.7263 - val_loss: 3.7236 - val_acc: 0.7231\n",
      "Epoch 4/10\n",
      "234/234 [==============================] - 1s 5ms/step - loss: 3.7021 - acc: 0.7314 - val_loss: 3.6810 - val_acc: 0.7396\n",
      "Epoch 5/10\n",
      "234/234 [==============================] - 1s 5ms/step - loss: 3.6911 - acc: 0.7310 - val_loss: 3.6787 - val_acc: 0.7430\n",
      "Epoch 6/10\n",
      "234/234 [==============================] - 1s 5ms/step - loss: 3.6714 - acc: 0.7357 - val_loss: 3.6832 - val_acc: 0.7245\n",
      "Epoch 7/10\n",
      "234/234 [==============================] - 1s 5ms/step - loss: 3.6586 - acc: 0.7364 - val_loss: 3.6852 - val_acc: 0.7310\n",
      "Epoch 8/10\n",
      "234/234 [==============================] - 1s 5ms/step - loss: 3.6526 - acc: 0.7368 - val_loss: 3.6390 - val_acc: 0.7410\n",
      "Epoch 9/10\n",
      "234/234 [==============================] - 1s 5ms/step - loss: 3.6443 - acc: 0.7393 - val_loss: 3.6437 - val_acc: 0.7415\n",
      "Epoch 10/10\n",
      "234/234 [==============================] - 1s 5ms/step - loss: 3.6447 - acc: 0.7389 - val_loss: 3.6619 - val_acc: 0.7366\n"
     ]
    }
   ],
   "source": [
    "steps_per_epoch = len(x_train) // batch_size\n",
    "validation_steps = len(x_test) // batch_size\n",
    "epochs= 10\n",
    "history = model.fit(ds_train,epochs=epochs,steps_per_epoch=steps_per_epoch,validation_data=ds_test,validation_steps=validation_steps)"
   ]
  },
  {
   "cell_type": "code",
   "execution_count": null,
   "metadata": {},
   "outputs": [],
   "source": []
  }
 ],
 "metadata": {
  "kernelspec": {
   "display_name": "tensorflow2.0",
   "language": "python",
   "name": "tensorflow2.0"
  },
  "language_info": {
   "codemirror_mode": {
    "name": "ipython",
    "version": 3
   },
   "file_extension": ".py",
   "mimetype": "text/x-python",
   "name": "python",
   "nbconvert_exporter": "python",
   "pygments_lexer": "ipython3",
   "version": "3.6.9"
  }
 },
 "nbformat": 4,
 "nbformat_minor": 4
}
