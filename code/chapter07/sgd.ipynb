{
 "cells": [
  {
   "cell_type": "code",
   "execution_count": 2,
   "metadata": {},
   "outputs": [
    {
     "data": {
      "text/plain": [
       "'2.0.0'"
      ]
     },
     "execution_count": 2,
     "metadata": {},
     "output_type": "execute_result"
    }
   ],
   "source": [
    "import tensorflow as tf\n",
    "import tensorflow.keras as keras\n",
    "import tensorflow.keras.layers as layers\n",
    "import numpy as np\n",
    "import matplotlib.pyplot as plt\n",
    "tf.__version__"
   ]
  },
  {
   "cell_type": "code",
   "execution_count": 5,
   "metadata": {},
   "outputs": [],
   "source": [
    "tf.random.set_seed(42)"
   ]
  },
  {
   "cell_type": "markdown",
   "metadata": {},
   "source": [
    "### 生成数据"
   ]
  },
  {
   "cell_type": "code",
   "execution_count": 71,
   "metadata": {},
   "outputs": [],
   "source": [
    "def fx(x):\n",
    "    w = tf.constant([4,-3],dtype=tf.float32)\n",
    "    \n",
    "    return tf.reduce_sum(x*w,axis=1)+5.0 + tf.random.normal(shape=(x.shape[0],))"
   ]
  },
  {
   "cell_type": "code",
   "execution_count": 72,
   "metadata": {},
   "outputs": [],
   "source": [
    "x = tf.random.normal(shape=(1000,2))\n",
    "y = fx(x)"
   ]
  },
  {
   "cell_type": "code",
   "execution_count": 73,
   "metadata": {
    "collapsed": true,
    "jupyter": {
     "outputs_hidden": true
    }
   },
   "outputs": [
    {
     "data": {
      "text/plain": [
       "<tf.Tensor: id=2273451, shape=(1000,), dtype=float32, numpy=\n",
       "array([ 1.01861877e+01,  6.14771080e+00,  2.87886739e+00, -1.20707870e-01,\n",
       "        6.56943977e-01, -2.39518166e+00, -6.67415762e+00,  2.22801280e+00,\n",
       "        8.79686928e+00,  5.51824474e+00,  1.90954089e-01,  1.37714005e+00,\n",
       "        5.66618299e+00,  5.24833298e+00,  1.05222826e+01,  6.79739237e+00,\n",
       "        1.16152086e+01,  9.00186062e+00,  4.56649160e+00,  6.67872047e+00,\n",
       "        7.98931313e+00,  4.29794884e+00,  1.99758232e-01, -3.15370560e-01,\n",
       "        7.13882399e+00,  9.88368225e+00,  6.36349916e+00,  5.32464838e+00,\n",
       "       -1.03326082e+00,  1.12593012e+01,  8.99102592e+00, -7.21931338e-01,\n",
       "       -2.51153660e+00,  4.45999050e+00,  8.74665356e+00,  1.11138105e+01,\n",
       "        5.51464701e+00, -6.66048765e+00,  8.93986702e-01,  3.79797077e+00,\n",
       "        7.56678581e+00,  6.72136450e+00,  6.10357189e+00,  9.84549141e+00,\n",
       "       -1.08767211e+00, -8.92275238e+00,  5.46188164e+00,  7.16438627e+00,\n",
       "        8.68563175e+00,  7.09232187e+00,  4.13581944e+00,  5.11634731e+00,\n",
       "        1.84224205e+01,  6.57094574e+00,  8.26167393e+00,  1.33543053e+01,\n",
       "        1.29480963e+01, -3.56307673e+00,  9.03338909e+00,  1.13930140e+01,\n",
       "       -1.05321896e+00,  8.85225868e+00,  1.35809278e+01,  3.88176918e+00,\n",
       "        1.50312233e+00,  1.01847658e+01,  9.31998825e+00,  1.30140562e+01,\n",
       "       -1.11447001e+01, -3.50698256e+00, -3.15849280e+00,  6.12886763e+00,\n",
       "        1.23082838e+01,  6.40693092e+00,  7.54637671e+00, -8.22844625e-01,\n",
       "        3.13801497e-01, -8.02510381e-02,  1.54629517e+00, -3.16572499e+00,\n",
       "        2.12011099e-01,  4.87838507e+00,  4.90911818e+00,  7.65881300e+00,\n",
       "        1.08169680e+01, -9.79402840e-01,  4.06875992e+00,  6.69173956e+00,\n",
       "        4.06807137e+00,  7.92049789e+00,  1.20456276e+01, -5.78051472e+00,\n",
       "        7.30249453e+00,  1.42667303e+01,  7.01542258e-01,  5.24134350e+00,\n",
       "       -2.53156424e+00,  1.16929083e+01,  8.90224075e+00,  1.23844233e+01,\n",
       "        8.56012630e+00,  1.93115354e+00, -2.83730054e+00,  1.53094208e+00,\n",
       "        3.08661532e+00,  4.63395309e+00,  1.96273518e+00,  5.30074501e+00,\n",
       "        6.41956043e+00, -3.30216289e-02,  3.12195206e+00,  1.04926081e+01,\n",
       "        2.40950727e+00,  4.25089598e+00,  8.88225555e+00,  1.36156902e+01,\n",
       "        3.75890255e-01,  1.54541922e+00,  1.10917759e+01,  6.28079891e+00,\n",
       "        9.85857868e+00,  3.60286951e+00,  1.50323915e+01,  1.01858416e+01,\n",
       "        9.32868481e+00,  1.25063682e+00,  2.28273845e+00,  1.98007095e+00,\n",
       "        7.34533429e-01,  5.18727255e+00,  4.87288618e+00, -1.10351861e+00,\n",
       "        7.11001921e+00,  3.91669869e+00,  2.48974109e+00, -1.91231859e+00,\n",
       "        2.01650572e+00,  6.96152592e+00,  6.01125240e+00, -5.44828773e-02,\n",
       "        1.16347761e+01,  1.32844343e+01,  9.35926557e-01,  1.27336969e+01,\n",
       "        7.30925131e+00,  3.99680209e+00,  1.72941852e+00,  1.01159458e+01,\n",
       "        7.05668211e-01,  4.09118223e+00, -3.99639153e+00, -1.09578156e+00,\n",
       "       -2.86300993e+00,  6.82336044e+00,  1.27421894e+01,  1.03309088e+01,\n",
       "        8.59020233e+00,  2.81987786e+00,  9.47757912e+00,  1.89893377e+00,\n",
       "        1.42231817e+01,  3.46435761e+00,  7.46962357e+00,  8.07791042e+00,\n",
       "       -4.18111038e+00,  4.70523262e+00,  2.50922060e+00,  1.33187237e+01,\n",
       "       -4.29781723e+00, -5.23790646e+00,  1.01999245e+01,  1.38592176e+01,\n",
       "       -1.91058993e-01, -3.69882059e+00,  1.28760958e+01, -3.39084578e+00,\n",
       "       -1.09653902e+00,  2.80715036e+00,  8.48694134e+00,  2.82767963e+00,\n",
       "        9.55615902e+00,  3.77956700e+00, -4.51230049e-01, -1.70500159e+00,\n",
       "        3.08590865e+00,  6.62930489e+00,  4.79821396e+00, -2.37011909e-02,\n",
       "        6.24679387e-01, -2.90020418e+00, -2.19643927e+00,  1.50683308e+01,\n",
       "       -3.46444178e+00,  8.59598827e+00,  4.11645651e+00,  8.41733170e+00,\n",
       "        6.36186314e+00,  5.45081139e+00,  5.11045456e+00,  1.17668552e+01,\n",
       "        1.38289642e+00,  9.41880989e+00,  1.41250551e-01,  1.02337894e+01,\n",
       "        6.58923006e+00, -1.94160414e+00,  6.15739298e+00,  2.08614755e+00,\n",
       "        9.43774223e+00,  5.74134731e+00,  3.71670389e+00,  2.41728830e+00,\n",
       "        9.03811646e+00,  9.72507095e+00,  2.24031210e+00,  8.03574085e+00,\n",
       "        5.47342539e+00,  6.09955120e+00,  6.77413988e+00,  8.42147255e+00,\n",
       "        6.92576742e+00,  3.11147189e+00,  8.53057766e+00,  1.09683199e+01,\n",
       "        6.25064754e+00,  6.49629641e+00,  8.27750587e+00,  9.47853756e+00,\n",
       "        6.26368093e+00,  3.95078516e+00,  1.01895065e+01, -5.98624170e-01,\n",
       "        1.93574893e+00, -2.80406332e+00, -3.12154913e+00,  6.35075688e-01,\n",
       "        9.21947384e+00,  4.52726555e+00, -3.77723622e+00,  5.14475632e+00,\n",
       "        1.14364653e+01,  1.43139076e+01,  4.78765202e+00,  9.42295837e+00,\n",
       "        1.64079475e+01, -5.94401598e-01,  1.20651331e+01,  1.21388807e+01,\n",
       "        8.02187634e+00,  1.07542887e+01,  1.32666092e+01,  5.90614271e+00,\n",
       "        6.75810194e+00,  7.86696768e+00,  2.94370675e+00,  1.34286652e+01,\n",
       "        3.73226810e+00,  3.75869751e+00,  1.84504342e+00,  1.04497976e+01,\n",
       "       -1.10342002e+00, -1.31670761e+00,  1.09941063e+01, -8.92963052e-01,\n",
       "        3.03725123e-01,  8.28907585e+00,  3.00948000e+00, -3.66778111e+00,\n",
       "        4.91183472e+00,  6.27996874e+00,  1.22875338e+01,  1.55711842e+00,\n",
       "        6.41748524e+00,  3.76589179e+00,  5.31184673e+00,  7.65370512e+00,\n",
       "        6.20706558e+00,  7.02100658e+00,  4.12031841e+00,  1.49004097e+01,\n",
       "       -9.80706453e-01, -6.59441769e-01, -2.55395794e+00, -5.02182579e+00,\n",
       "        1.76559372e+01,  9.71070528e-01,  9.19957733e+00,  1.30504503e+01,\n",
       "        4.43894053e+00,  1.35657339e+01,  4.48301697e+00,  5.33309126e+00,\n",
       "        9.58528137e+00,  7.12342978e+00,  9.24306989e-01,  7.44931793e+00,\n",
       "        8.55462074e+00,  2.14220667e+00,  5.03521538e+00,  1.41088886e+01,\n",
       "        9.98324776e+00, -6.03879499e+00, -1.21704590e+00, -3.22625518e+00,\n",
       "        1.98087180e+00, -2.29441476e+00,  7.32209969e+00,  3.35002089e+00,\n",
       "        6.94490576e+00,  9.98511434e-01,  3.56928110e-01,  5.01943588e+00,\n",
       "        2.54603410e+00,  4.57975769e+00,  1.15220366e+01, -1.38752556e+00,\n",
       "        7.52475166e+00, -1.89415181e+00,  8.22885156e-01,  8.91404438e+00,\n",
       "       -7.88158417e-01, -6.47993898e+00,  2.13539052e+00,  1.18781710e+00,\n",
       "        3.14062381e+00,  6.96065807e+00,  2.18061030e-01,  1.16978035e+01,\n",
       "        9.07683372e+00,  2.96229982e+00,  9.90013981e+00,  2.04329348e+00,\n",
       "        5.96371460e+00,  2.69292331e+00,  5.12102842e+00, -1.86625695e+00,\n",
       "        8.52306461e+00,  1.01595831e+01, -3.22928858e+00,  4.86207771e+00,\n",
       "        8.68972397e+00,  7.83305359e+00,  1.14583416e+01,  3.75349712e+00,\n",
       "        2.94652581e-01,  2.20919228e+00, -5.84899282e+00,  9.33638382e+00,\n",
       "        1.55571852e+01,  8.28013325e+00, -3.05150795e+00,  1.32523346e+01,\n",
       "       -7.60923862e+00, -3.09143186e-01,  1.61357117e+01, -1.00079918e+00,\n",
       "        1.20915680e+01,  4.57800674e+00,  5.72683620e+00,  8.91477299e+00,\n",
       "        3.36830640e+00,  1.05853224e+00,  4.19424725e+00,  1.06511078e+01,\n",
       "        4.26487350e+00,  6.51848173e+00,  6.14022350e+00,  2.44967461e+00,\n",
       "        3.45778632e+00,  1.06244326e+01,  4.16378689e+00,  4.59901428e+00,\n",
       "        6.66261244e+00,  8.83403587e+00,  2.89982176e+00,  6.50911617e+00,\n",
       "       -2.35713005e+00,  6.98892307e+00, -2.09645677e+00,  6.14302921e+00,\n",
       "       -2.76455736e+00,  5.17374659e+00,  3.59937501e+00, -4.91666913e-01,\n",
       "        3.37290096e+00,  1.05315714e+01,  9.40423107e+00,  1.36580763e+01,\n",
       "        3.19137716e+00,  1.03448143e+01, -5.41101933e-01,  8.91172886e+00,\n",
       "        1.13577604e-01,  4.81214190e+00,  1.08656950e+01,  1.09200020e+01,\n",
       "        1.07220602e+01, -8.41000378e-01,  6.91764975e+00,  1.19102421e+01,\n",
       "       -3.49869609e+00,  6.76366425e+00, -3.37513733e+00,  7.27202797e+00,\n",
       "        7.82057619e+00,  3.85761690e+00,  4.32660675e+00, -9.22544241e-01,\n",
       "        1.35210743e+01,  5.36287308e+00, -1.20441151e+00,  3.42165613e+00,\n",
       "        7.53883886e+00, -2.97529268e+00,  1.24109793e+00, -8.55269432e-01,\n",
       "       -3.05054665e-01,  5.57425380e-01,  9.43872166e+00,  6.38728762e+00,\n",
       "        4.45800447e+00,  9.03113651e+00,  2.10678053e+00,  5.62200248e-01,\n",
       "        3.60680318e+00,  9.84321117e+00, -3.49098206e+00, -1.71680272e-01,\n",
       "        9.82275963e+00,  1.13368044e+01,  8.84822559e+00, -7.76351309e+00,\n",
       "        1.18688841e+01,  1.44215870e+01,  1.40103416e+01, -9.91769552e-01,\n",
       "       -4.00789213e+00,  4.99327850e+00,  9.79594040e+00,  1.66250095e+01,\n",
       "        1.13389874e+01,  2.10324121e+00,  2.09081221e+00,  1.06373158e+01,\n",
       "        8.67480659e+00,  2.60996866e+00,  1.35748739e+01,  5.37100315e+00,\n",
       "        4.84102440e+00,  4.06795692e+00,  1.28560686e+00,  6.78407335e+00,\n",
       "        2.21521206e+01,  3.91628075e+00, -7.48152971e+00, -1.56428790e+00,\n",
       "        7.63851309e+00,  3.20249343e+00,  2.59623861e+00, -4.26834011e+00,\n",
       "        3.02537918e+00,  8.49326611e-01,  7.44747448e+00,  1.65516052e+01,\n",
       "        6.12275505e+00,  3.80940247e+00,  5.06984043e+00,  1.32875805e+01,\n",
       "        1.36009407e+01,  6.93090630e+00,  7.90631247e+00,  5.68004417e+00,\n",
       "        2.31209850e+00,  1.23732243e+01,  5.46382380e+00,  6.93644714e+00,\n",
       "        6.88916683e+00, -1.10418844e+00, -6.44341755e+00,  3.58423758e+00,\n",
       "        1.52964506e+01,  4.52970600e+00,  1.28410826e+01,  1.08474531e+01,\n",
       "        5.78745461e+00, -4.98547840e+00,  5.08754253e+00,  3.75518680e+00,\n",
       "       -3.66774917e-01,  7.77179050e+00,  1.97034800e+00,  1.10698521e+00,\n",
       "        1.32677765e+01,  1.29815922e+01,  1.03448906e+01,  6.14453793e+00,\n",
       "        3.20515633e+00,  1.01165562e+01,  6.98304510e+00, -7.72261381e-01,\n",
       "        6.93694925e+00,  2.67608404e-01,  5.18447781e+00,  1.51027799e+00,\n",
       "        2.51255012e+00,  6.60419512e+00,  8.05937946e-02, -1.42443776e-01,\n",
       "        7.58007812e+00,  1.08223782e+01,  1.57904816e+01, -4.78301954e+00,\n",
       "        1.44614830e+01, -3.48156786e+00, -2.01437545e+00,  9.89852965e-01,\n",
       "        5.07793951e+00,  1.42347527e+01,  4.39615726e+00,  6.81268263e+00,\n",
       "        5.86817360e+00,  8.69932079e+00, -5.28377962e+00,  1.06145859e+01,\n",
       "        6.73909187e+00,  6.71494198e+00,  7.79533195e+00,  1.03673000e+01,\n",
       "        1.77595663e+00,  9.22949409e+00,  7.16284800e+00, -1.79403520e+00,\n",
       "        4.98646641e+00,  1.47642593e+01,  3.16018128e+00,  9.44096375e+00,\n",
       "        3.90257812e+00,  1.58150539e+01,  8.98326874e-01,  3.22430968e+00,\n",
       "        1.47154427e+00,  8.65615082e+00, -3.24839354e+00, -2.29289293e-01,\n",
       "        9.78915596e+00,  2.24744868e+00,  5.47809267e+00,  2.26787400e+00,\n",
       "        3.12420440e+00,  8.69519424e+00, -8.25565243e+00,  7.31381893e+00,\n",
       "        8.38603318e-01,  9.70158863e+00, -2.02307272e+00,  1.90216148e+00,\n",
       "       -2.81730294e-03,  3.32914972e+00,  1.09893684e+01,  2.56428051e+00,\n",
       "        5.43846273e+00, -3.53000104e-01,  5.42107630e+00,  1.59972105e+01,\n",
       "        4.44855452e+00,  1.49022865e+01,  3.16244221e+00, -1.00138199e+00,\n",
       "        8.34404659e+00,  1.01108913e+01,  8.73806953e+00,  1.75933647e+00,\n",
       "       -7.81411707e-01,  9.46879005e+00, -3.83128643e+00,  6.66465807e+00,\n",
       "       -2.33743858e+00,  3.37132072e+00,  5.28729534e+00,  1.31279526e+01,\n",
       "        1.10153694e+01,  9.31745529e+00, -2.53088331e+00, -1.28321362e+00,\n",
       "        1.26064243e+01,  3.73185158e+00,  1.17249775e+00,  7.67701089e-01,\n",
       "        1.53827581e+01,  4.17119932e+00,  7.99991941e+00,  2.91491580e+00,\n",
       "        5.68823528e+00, -1.61733925e+00, -6.76493835e+00,  2.28199172e+00,\n",
       "       -2.97998309e-01,  2.00765347e+00,  8.68799496e+00, -1.83316910e+00,\n",
       "        2.58416033e+00, -9.46357250e-02,  1.11087189e+01,  1.34306307e+01,\n",
       "        1.59303694e+01,  4.58637142e+00,  1.00060339e+01,  1.17484760e+01,\n",
       "        8.92942047e+00,  1.36745195e+01,  3.03501153e+00,  5.17011213e+00,\n",
       "        2.04021931e-01,  5.65160704e+00,  8.28735924e+00,  2.55373073e+00,\n",
       "        9.31308365e+00,  1.52676525e+01,  7.47866964e+00,  4.94724655e+00,\n",
       "        9.06137276e+00,  3.98479366e+00,  1.43151751e+01, -3.25194383e+00,\n",
       "        4.76379490e+00,  6.14152622e+00, -4.16887045e+00,  6.16560459e+00,\n",
       "        1.18949413e-02,  7.82801151e+00, -2.26627159e+00, -1.38130546e+00,\n",
       "        8.83138084e+00,  1.68233719e+01,  2.27205944e+00,  9.96957779e+00,\n",
       "        9.91130924e+00,  4.92410374e+00,  1.02020168e+01, -3.34831667e+00,\n",
       "        3.23883200e+00,  8.64538383e+00,  7.01080704e+00,  2.37316042e-01,\n",
       "        7.36490011e+00,  4.40501976e+00, -2.66264677e+00,  6.01468849e+00,\n",
       "        4.01580715e+00,  9.81882763e+00,  3.66605353e+00, -2.93838382e-01,\n",
       "        5.44486141e+00, -1.30685997e+00, -2.93046832e-01,  6.07529116e+00,\n",
       "        1.30877173e+00,  3.66078973e+00,  4.79609394e+00,  1.26442318e+01,\n",
       "        7.35166073e+00,  9.68648338e+00, -2.71074581e+00,  8.02018356e+00,\n",
       "       -1.45746255e+00, -1.20950580e+00,  9.72728062e+00,  1.45755911e+00,\n",
       "        1.13331623e+01,  1.20506811e+01,  6.42725408e-01,  1.58903658e+00,\n",
       "        9.38639355e+00,  1.05733490e+01,  1.00275240e+01,  5.00491428e+00,\n",
       "        9.31537628e+00,  2.25521731e+00,  7.17097425e+00,  7.73707151e+00,\n",
       "        9.84391212e+00,  8.90338516e+00, -5.76698780e-01,  4.00891209e+00,\n",
       "        7.16179609e+00, -3.24013710e+00,  2.48241043e+00,  1.25306616e+01,\n",
       "        1.81035113e+00, -5.26644373e+00, -3.12471986e+00, -2.01586843e+00,\n",
       "       -2.59597421e-01,  5.61301804e+00,  1.23097267e+01,  8.90481758e+00,\n",
       "        3.46836281e+00,  1.06657953e+01,  4.79564524e+00, -1.30147934e-02,\n",
       "        1.44157801e+01, -1.67879558e+00,  7.05449295e+00,  1.01282682e+01,\n",
       "       -4.75605488e+00,  2.93089581e+00,  7.65627289e+00, -4.81684923e-01,\n",
       "        6.36797285e+00,  1.13202972e+01, -4.17304277e+00, -5.39499187e+00,\n",
       "        1.05963097e+01,  2.29996896e+00,  1.18737755e+01,  6.94558191e+00,\n",
       "       -8.31734943e+00,  5.18963718e+00,  7.05800152e+00,  7.91182041e+00,\n",
       "        4.67125511e+00, -4.17109060e+00,  1.30411136e+00,  1.05110741e+01,\n",
       "        4.84597588e+00,  8.21255112e+00,  3.90711260e+00, -4.07313013e+00,\n",
       "        4.39014482e+00,  5.00934649e+00,  1.02616081e+01,  6.40473986e+00,\n",
       "        4.57241774e+00,  4.02574682e+00,  8.63446903e+00,  1.09512959e+01,\n",
       "       -9.08034623e-01,  5.17599678e+00,  8.46315384e-01,  8.26614499e-01,\n",
       "       -6.02588797e+00,  3.94825435e+00,  6.98887825e+00,  6.79289722e+00,\n",
       "        3.33652878e+00,  9.29624557e+00,  6.63322639e+00,  1.92218888e+00,\n",
       "       -2.46797752e+00,  2.74175572e+00,  6.14182663e+00,  1.11832123e+01,\n",
       "        3.88995886e+00, -5.30257893e+00, -5.66111755e+00, -1.85823667e+00,\n",
       "        3.58008599e+00, -4.41299200e+00,  3.33063364e+00,  1.19257843e+00,\n",
       "       -5.90239406e-01,  6.86072874e+00,  3.52523685e+00,  8.06748009e+00,\n",
       "        9.60203290e-01,  1.24585648e+01,  4.96137333e+00, -1.78626037e+00,\n",
       "       -3.79875565e+00,  1.97132981e+00,  1.41840525e+01,  1.98488164e+00,\n",
       "       -2.79839039e+00,  5.29956961e+00,  6.34360361e+00,  3.04313278e+00,\n",
       "        2.13712764e+00,  7.18379641e+00, -1.37995565e+00,  3.62450624e+00,\n",
       "        3.42625070e+00,  1.31722279e+01,  8.56604004e+00,  5.17735147e+00,\n",
       "       -1.44948351e+00,  4.19637012e+00,  5.15862370e+00,  1.00645514e+01,\n",
       "        4.76250172e+00,  6.35677814e-01,  5.94879770e+00, -6.98426485e-01,\n",
       "        3.20361257e-02,  1.50443625e+00,  9.19607258e+00,  9.59481812e+00,\n",
       "        1.74897709e+01,  6.96272469e+00,  6.06625843e+00,  6.58635616e+00,\n",
       "       -1.96904612e+00,  7.04038203e-01, -1.81313157e+00,  2.71325064e+00,\n",
       "       -7.86948144e-01,  2.65790045e-01,  5.88051558e+00,  2.43484688e+00,\n",
       "        5.67230558e+00,  8.56533051e+00,  3.40861297e+00,  4.59325647e+00,\n",
       "        1.34874983e+01,  4.63345003e+00,  8.09216404e+00, -7.84765244e-01,\n",
       "        8.62643242e+00,  2.70651245e+00,  2.11886764e+00, -5.47674417e+00,\n",
       "        1.62768288e+01,  1.45349932e+00,  6.53420544e+00,  1.41234484e+01,\n",
       "        5.07868433e+00,  1.70786533e+01,  8.19029713e+00,  9.46545410e+00,\n",
       "       -2.14594674e+00,  5.33121014e+00,  7.73752308e+00,  6.04117346e+00,\n",
       "        8.24804878e+00,  2.83263063e+00,  4.28679895e+00,  1.05845938e+01,\n",
       "       -2.29341340e+00,  3.08821154e+00,  2.80161500e-01,  6.38668966e+00,\n",
       "        4.77236509e+00,  8.31034851e+00, -6.06353283e-02,  6.84659338e+00,\n",
       "        5.14407969e+00,  1.07255363e+01,  1.80785418e-01,  9.43680000e+00,\n",
       "        4.65630627e+00,  1.41145551e+00,  1.48120451e+01,  9.06581306e+00,\n",
       "        3.09384370e+00,  7.16546249e+00,  1.91166162e+00,  4.02647591e+00,\n",
       "        1.03319969e+01,  6.19135857e-01,  9.17310524e+00,  2.22862482e+00,\n",
       "        1.52323675e+00,  4.91133738e+00,  2.89043903e+00,  6.16953039e+00,\n",
       "        5.55061340e+00,  7.51999092e+00,  4.07772970e+00,  1.06764755e+01,\n",
       "        4.74999094e+00,  9.93725300e+00,  7.77938509e+00,  5.68464661e+00,\n",
       "        1.08515680e-01,  1.83435941e+00,  7.86799717e+00,  2.70537210e+00,\n",
       "        6.81741381e+00,  9.34508133e+00,  4.29689217e+00,  1.10839663e+01,\n",
       "        1.93246341e+00,  1.05192709e+01, -1.48455715e+00,  1.07781286e+01,\n",
       "        3.59964132e-01,  6.50344133e-01,  7.99425840e+00,  9.91767883e+00,\n",
       "        1.36765499e+01,  7.23506212e-01,  1.26798706e+01,  1.03687716e+01,\n",
       "       -2.49239969e+00, -3.58236504e+00,  5.45747089e+00,  4.27929592e+00,\n",
       "       -6.32665968e+00,  5.40758228e+00,  7.63236904e+00, -4.61242628e+00,\n",
       "        1.80965090e+00,  4.63741541e+00,  1.67637885e+00,  1.35470409e+01,\n",
       "        1.60355842e+00,  8.80202651e-01,  2.71350980e+00,  8.89841366e+00,\n",
       "        5.54456949e+00,  6.35706091e+00,  1.56434813e+01,  4.64561844e+00,\n",
       "        3.27926326e+00,  1.33000159e+00,  1.27776384e+00,  2.14511299e+00,\n",
       "        5.02798414e+00,  3.44702291e+00,  4.78461266e+00, -5.81186295e+00,\n",
       "        3.30693197e+00,  5.64570189e-01, -3.61742949e+00,  3.67451525e+00,\n",
       "        1.06399145e+01,  5.34795713e+00,  9.23879814e+00,  1.41277132e+01,\n",
       "        7.29860306e-01,  5.26116562e+00, -7.68533278e+00,  1.24840724e+00,\n",
       "        6.83166790e+00,  6.24220181e+00,  1.87585664e+00,  5.74035215e+00,\n",
       "        8.52173901e+00,  1.15260768e+00,  4.68768549e+00, -9.78019595e-01,\n",
       "        1.11022987e+01, -9.48021770e-01,  6.14479685e+00,  9.24955750e+00,\n",
       "        8.24325681e-01,  9.28083801e+00,  7.72023678e+00,  8.39757633e+00,\n",
       "       -1.91647363e+00,  8.14867210e+00,  1.27547426e+01,  2.61122179e+00,\n",
       "        1.44375515e+01,  5.02316999e+00,  2.03554606e+00,  8.19667339e-01,\n",
       "       -4.61748409e+00, -1.77074718e+00,  1.11407156e+01, -2.01455379e+00,\n",
       "        5.25946999e+00,  2.80393338e+00,  1.05978479e+01,  4.97620249e+00,\n",
       "        1.10955219e+01,  9.04782116e-01,  5.79569697e-01,  5.25465345e+00,\n",
       "        8.23128510e+00,  7.61275530e-01,  2.76934838e+00,  4.77468920e+00,\n",
       "        6.70770693e+00,  8.09405327e+00,  1.15810080e+01,  9.60908508e+00,\n",
       "        2.89897609e+00,  5.40961027e+00,  3.96460581e+00,  4.54040289e+00,\n",
       "        5.59048462e+00,  1.04947691e+01,  6.18095970e+00, -3.41086960e+00,\n",
       "        1.42738762e+01,  9.50451851e+00, -4.25761890e+00, -7.32507825e-01,\n",
       "        3.30212331e+00,  9.88892841e+00,  8.54965305e+00,  1.98835301e+00,\n",
       "        4.72845316e+00,  3.63735294e+00,  3.80065417e+00, -1.00671482e+00,\n",
       "        4.58042431e+00,  4.35812664e+00,  5.64056158e+00,  7.40837145e+00],\n",
       "      dtype=float32)>"
      ]
     },
     "execution_count": 73,
     "metadata": {},
     "output_type": "execute_result"
    }
   ],
   "source": [
    "y"
   ]
  },
  {
   "cell_type": "markdown",
   "metadata": {},
   "source": [
    "## 梯度下降\n",
    "$$ x\\leftarrow x - \\eta f'(x)$$\n",
    "\n",
    "现在假设损失函数为：\n",
    "$$f(\\mathbf{x}) = \\frac{1}{n} \\sum_{i = 1}^n f_i(\\mathbf{x})$$\n",
    "其中$f_i(\\mathbf{x})$是有关索引为i的训练数据点的损失函数。\n",
    "广义上，每次迭代可以随机均匀采样一个由训练数据点索引所组成的小批量$\\mathcal{B}$。类似地，我们可以使用\n",
    "$$\\nabla f_\\mathcal{B}(\\mathbf{x}) = \\frac{1}{|\\mathcal{B}|} \\sum_{i \\in \\mathcal{B}}\\nabla f_i(\\mathbf{x})$$\n",
    "来更新$\\mathbf{x}$：\n",
    "$\\mathbf{x} := \\mathbf{x} - \\eta \\nabla f_\\mathcal{B}(\\mathbf{x})$,(把上式中 $\\nabla f_\\mathcal{B}(\\mathbf{x})$代进来， 这里会出现 learn_rate / batch_size)\n",
    "\n",
    "其中$|\\mathcal{B}|$代表批量中索引数量 ，$\\eta$ （取正数）称作学习率或步长。同样，小批量随机梯度$\\nabla f_\\mathcal{B}(\\mathbf{x})$也是对梯度 $\\nabla f(\\mathbf{x})$的无偏估计:$$\\mathbb{E}_\\mathcal{B} \\nabla f_\\mathcal{B}(\\mathbf{x}) = \\nabla f(\\mathbf{x}).$$."
   ]
  },
  {
   "cell_type": "code",
   "execution_count": 74,
   "metadata": {},
   "outputs": [],
   "source": [
    "def sgd(grads,params,lr,batch_size):\n",
    "    '''如果batch_size 为1时 此时是随机梯度下降，如果是全部数据大小为梯度下降，\n",
    "    如果1<batch_size<n 此时是小批量随机梯度下降'''\n",
    "    params = params - lr * grads / batch_size\n",
    "    return params"
   ]
  },
  {
   "cell_type": "code",
   "execution_count": 75,
   "metadata": {},
   "outputs": [],
   "source": [
    "ds = tf.data.Dataset.from_tensor_slices((x,y))"
   ]
  },
  {
   "cell_type": "code",
   "execution_count": 76,
   "metadata": {},
   "outputs": [],
   "source": [
    "def create_ds(x,y,batch_size):\n",
    "    ds = tf.data.Dataset.from_tensor_slices((x,y))\n",
    "    return ds.shuffle(1000).batch(batch_size).repeat()"
   ]
  },
  {
   "cell_type": "code",
   "execution_count": 77,
   "metadata": {},
   "outputs": [],
   "source": [
    "ds = create_ds(x,y,10)"
   ]
  },
  {
   "cell_type": "code",
   "execution_count": 78,
   "metadata": {},
   "outputs": [
    {
     "data": {
      "text/plain": [
       "(<tf.Tensor: id=2273477, shape=(10, 2), dtype=float32, numpy=\n",
       " array([[-0.7790118 , -0.58637214],\n",
       "        [ 0.6547683 , -0.4639004 ],\n",
       "        [-0.7651199 ,  0.3878697 ],\n",
       "        [-0.9258895 ,  0.4817521 ],\n",
       "        [ 0.40969267, -0.3337892 ],\n",
       "        [-0.9175635 ,  0.11775557],\n",
       "        [ 2.3503468 , -0.27760652],\n",
       "        [-1.2376553 , -0.1374109 ],\n",
       "        [ 0.92756397, -0.59407747],\n",
       "        [-0.50748754,  0.08178502]], dtype=float32)>,\n",
       " <tf.Tensor: id=2273478, shape=(10,), dtype=float32, numpy=\n",
       " array([ 4.5724177 , 10.651108  ,  0.656944  , -0.9080346 ,  7.3092513 ,\n",
       "         0.8493266 , 15.790482  , -1.9690461 ,  9.4368    ,  0.20402193],\n",
       "       dtype=float32)>)"
      ]
     },
     "execution_count": 78,
     "metadata": {},
     "output_type": "execute_result"
    }
   ],
   "source": [
    "exp_x,exp_y = next(iter(ds))\n",
    "exp_x,exp_y"
   ]
  },
  {
   "cell_type": "code",
   "execution_count": 95,
   "metadata": {},
   "outputs": [],
   "source": [
    "def model(x,w,b):\n",
    "    return tf.reduce_sum(x * w,axis=1) + b"
   ]
  },
  {
   "cell_type": "code",
   "execution_count": 96,
   "metadata": {},
   "outputs": [],
   "source": [
    "def loss(y,y_hat):\n",
    "    return tf.reduce_sum((y - y_hat) ** 2) /2"
   ]
  },
  {
   "cell_type": "code",
   "execution_count": 132,
   "metadata": {},
   "outputs": [],
   "source": [
    "def trainer(x,y,epcho=5,batch_size=10,lr=0.01):\n",
    "    steps = 1000 // batch_size\n",
    "    ds = create_ds(x,y,batch_size=batch_size)\n",
    "    w = tf.ones(shape=(1,2))\n",
    "    b = tf.zeros(shape=(1,))\n",
    "    losses = []\n",
    "    for i in range(epcho):\n",
    "        k = 0\n",
    "        for x,label in ds:\n",
    "            k += 1\n",
    "            with tf.GradientTape() as tap:\n",
    "                tap.watch([w,b])\n",
    "                y_hat = model(x,w,b)\n",
    "                l = loss(label,y_hat)\n",
    "            grads = tap.gradient(l,[w,b])\n",
    "            w = sgd(grads[0],w,lr,batch_size)\n",
    "            b = sgd(grads[1],b,lr,batch_size)\n",
    "            losses.append(l.numpy())\n",
    "            if k == steps:\n",
    "                break\n",
    "        y_hat = model(x,w,b)\n",
    "        l = loss(label,y_hat)\n",
    "        print(\"epcho:\", i+1 , \"  loss:\",l.numpy())\n",
    "    print(\"w:\",w.numpy(),\" b: \",b.numpy())\n",
    "    return losses"
   ]
  },
  {
   "cell_type": "code",
   "execution_count": 133,
   "metadata": {},
   "outputs": [],
   "source": [
    "def plt_losses(losses):\n",
    "    plt.plot(range(len(losses)),losses)"
   ]
  },
  {
   "cell_type": "code",
   "execution_count": 134,
   "metadata": {},
   "outputs": [
    {
     "name": "stdout",
     "output_type": "stream",
     "text": [
      "epcho: 1   loss: 393.14188\n",
      "epcho: 2   loss: 94.430984\n",
      "epcho: 3   loss: 56.82049\n",
      "epcho: 4   loss: 55.225002\n",
      "epcho: 5   loss: 42.508244\n",
      "epcho: 6   loss: 62.076553\n",
      "epcho: 7   loss: 66.93162\n",
      "epcho: 8   loss: 51.092495\n",
      "epcho: 9   loss: 38.39157\n",
      "epcho: 10   loss: 41.143692\n",
      "w: [[ 4.041074  -3.0323687]]  b:  [5.005117]\n"
     ]
    }
   ],
   "source": [
    "## 小批量随机梯度下降\n",
    "losses = trainer(x,y,10,100,0.1)"
   ]
  },
  {
   "cell_type": "code",
   "execution_count": 135,
   "metadata": {},
   "outputs": [
    {
     "data": {
      "image/png": "[encoded data removed]",
      "text/plain": [
       "<Figure size 432x288 with 1 Axes>"
      ]
     },
     "metadata": {
      "needs_background": "light"
     },
     "output_type": "display_data"
    }
   ],
   "source": [
    "plt_losses(losses)"
   ]
  },
  {
   "cell_type": "code",
   "execution_count": 142,
   "metadata": {},
   "outputs": [
    {
     "name": "stdout",
     "output_type": "stream",
     "text": [
      "epcho: 1   loss: 0.12090188\n",
      "w: [[ 4.1226296 -3.1506357]]  b:  [4.876396]\n"
     ]
    },
    {
     "data": {
      "image/png": "[encoded data removed]",
      "text/plain": [
       "<Figure size 432x288 with 1 Axes>"
      ]
     },
     "metadata": {
      "needs_background": "light"
     },
     "output_type": "display_data"
    }
   ],
   "source": [
    "## 随机梯度下降\n",
    "losses = trainer(x,y,1,1,0.1)\n",
    "plt_losses(losses[6:50])"
   ]
  },
  {
   "cell_type": "code",
   "execution_count": 143,
   "metadata": {},
   "outputs": [
    {
     "name": "stdout",
     "output_type": "stream",
     "text": [
      "epcho: 1   loss: 7008.0996\n",
      "epcho: 2   loss: 2239.1064\n",
      "epcho: 3   loss: 964.97406\n",
      "epcho: 4   loss: 622.24426\n",
      "epcho: 5   loss: 529.4192\n",
      "epcho: 6   loss: 504.10428\n",
      "epcho: 7   loss: 497.15265\n",
      "epcho: 8   loss: 495.2304\n",
      "epcho: 9   loss: 494.69525\n",
      "epcho: 10   loss: 494.5453\n",
      "w: [[ 4.0409393 -3.0137239]]  b:  [5.011294]\n"
     ]
    }
   ],
   "source": [
    "## 梯度下降\n",
    "losses = trainer(x,y,10,1000,0.5)"
   ]
  },
  {
   "cell_type": "code",
   "execution_count": 144,
   "metadata": {},
   "outputs": [
    {
     "data": {
      "image/png": "[encoded data removed]",
      "text/plain": [
       "<Figure size 432x288 with 1 Axes>"
      ]
     },
     "metadata": {
      "needs_background": "light"
     },
     "output_type": "display_data"
    }
   ],
   "source": [
    "plt_losses(losses)"
   ]
  },
  {
   "cell_type": "code",
   "execution_count": null,
   "metadata": {},
   "outputs": [],
   "source": []
  }
 ],
 "metadata": {
  "kernelspec": {
   "display_name": "tf2.0",
   "language": "python",
   "name": "tensorflow2.0"
  },
  "language_info": {
   "codemirror_mode": {
    "name": "ipython",
    "version": 3
   },
   "file_extension": ".py",
   "mimetype": "text/x-python",
   "name": "python",
   "nbconvert_exporter": "python",
   "pygments_lexer": "ipython3",
   "version": "3.6.9"
  }
 },
 "nbformat": 4,
 "nbformat_minor": 4
}
