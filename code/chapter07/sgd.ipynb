{
 "cells": [
  {
   "cell_type": "code",
   "execution_count": 1,
   "metadata": {},
   "outputs": [
    {
     "data": {
      "text/plain": [
       "'2.0.0'"
      ]
     },
     "execution_count": 1,
     "metadata": {},
     "output_type": "execute_result"
    }
   ],
   "source": [
    "import tensorflow as tf\n",
    "import tensorflow.keras as keras\n",
    "import tensorflow.keras.layers as layers\n",
    "import numpy as np\n",
    "import matplotlib.pyplot as plt\n",
    "tf.__version__"
   ]
  },
  {
   "cell_type": "code",
   "execution_count": 2,
   "metadata": {},
   "outputs": [],
   "source": [
    "tf.random.set_seed(42)"
   ]
  },
  {
   "cell_type": "markdown",
   "metadata": {},
   "source": [
    "### 生成数据"
   ]
  },
  {
   "cell_type": "code",
   "execution_count": 3,
   "metadata": {},
   "outputs": [],
   "source": [
    "def fx(x):\n",
    "    w = tf.constant([4,-3],dtype=tf.float32)\n",
    "    \n",
    "    return tf.reduce_sum(x*w,axis=1)+5.0 + tf.random.normal(shape=(x.shape[0],))"
   ]
  },
  {
   "cell_type": "code",
   "execution_count": 4,
   "metadata": {},
   "outputs": [],
   "source": [
    "x = tf.random.normal(shape=(1000,2))\n",
    "y = fx(x)"
   ]
  },
  {
   "cell_type": "code",
   "execution_count": 5,
   "metadata": {
    "collapsed": true,
    "jupyter": {
     "outputs_hidden": true
    }
   },
   "outputs": [
    {
     "data": {
      "text/plain": [
       "<tf.Tensor: id=19, shape=(1000,), dtype=float32, numpy=\n",
       "array([ 8.92197609e+00,  9.63948727e+00, -1.05637288e+00,  1.14638972e+00,\n",
       "        1.04363880e+01,  3.85014892e-01,  8.03162289e+00, -3.43564153e-02,\n",
       "        1.20295992e+01,  6.34049702e+00,  4.83365154e+00, -2.83426344e-01,\n",
       "        9.08669186e+00,  6.15849400e+00,  6.82055950e+00,  6.79942751e+00,\n",
       "        7.78949976e+00,  9.56624317e+00,  1.38121057e+00,  2.15927649e+00,\n",
       "       -1.27185321e+00,  6.16015196e+00,  3.43141341e+00,  7.94718647e+00,\n",
       "        8.58274841e+00,  8.45251751e+00,  3.38319230e+00, -1.97959375e+00,\n",
       "        7.85936975e+00,  9.16922283e+00,  1.27816067e+01, -1.92345500e+00,\n",
       "        6.87556744e+00,  1.84179795e+00,  4.00552559e+00,  1.32602520e+01,\n",
       "        7.15980196e+00,  2.55554438e+00,  7.73447514e+00,  3.70592237e-01,\n",
       "        1.36396008e+01,  4.68194008e+00,  1.31079378e+01, -6.76856041e+00,\n",
       "        5.69010115e+00, -6.19727254e-01,  2.46892643e+00, -3.60582352e+00,\n",
       "        3.99964881e+00,  4.25462008e+00,  9.89619541e+00,  1.71924627e+00,\n",
       "        1.00971251e+01,  3.93899512e+00,  1.55190027e+00,  9.25102043e+00,\n",
       "        1.42908745e+01,  4.07695389e+00,  2.78549051e+00,  1.25404329e+01,\n",
       "        5.18558168e+00,  1.02375889e+00,  8.69341850e+00,  8.51681423e+00,\n",
       "        5.18138361e+00,  1.37237387e+01,  6.25759482e-01,  5.69092607e+00,\n",
       "        8.16952896e+00,  3.48842478e+00,  7.97488117e+00,  1.89403558e+00,\n",
       "        5.64840221e+00, -3.90819883e+00,  3.23251462e+00,  3.02656507e+00,\n",
       "        3.65433264e+00,  7.22074747e+00,  3.67249632e+00, -2.35172892e+00,\n",
       "        3.13817167e+00,  9.31495380e+00,  5.29353678e-01, -3.89119768e+00,\n",
       "       -3.01221991e+00, -4.80857325e+00,  8.43245792e+00,  2.87723446e+00,\n",
       "        3.14503980e+00,  1.56473408e+01,  6.12240839e+00,  1.21798782e+01,\n",
       "        9.10363007e+00,  1.42364550e+00,  9.19766903e+00,  7.00185442e+00,\n",
       "        6.74283743e+00,  1.35641012e+01, -4.32739687e+00,  1.05393906e+01,\n",
       "        3.90385437e+00,  5.16584158e+00, -5.59406877e-01,  1.29628572e+01,\n",
       "        3.97459030e+00,  6.22098160e+00, -1.63600159e+00, -5.52475166e+00,\n",
       "        9.31380272e+00,  2.04325485e+00,  9.36418819e+00,  7.74052429e+00,\n",
       "        2.24375105e+00,  4.46479273e+00,  9.66677952e+00,  9.34125304e-01,\n",
       "        5.54327631e+00, -4.84583235e+00, -5.88597822e+00,  5.87904930e+00,\n",
       "        1.73282313e+00, -5.27817488e+00,  9.37271500e+00, -1.85226011e+00,\n",
       "        5.63549662e+00,  9.69336224e+00,  9.40190887e+00,  2.53736401e+00,\n",
       "        1.33347487e+00,  8.19237614e+00,  8.46391106e+00,  5.16110039e+00,\n",
       "        5.94743490e+00,  8.75582218e+00,  1.87505126e-01,  5.40287828e+00,\n",
       "        8.61062813e+00,  6.62707233e+00,  2.44906425e-01,  1.37019482e+01,\n",
       "        6.11315632e+00,  1.53742850e+00,  4.09532452e+00,  8.72636604e+00,\n",
       "        7.00633049e+00,  5.11116695e+00,  3.76340842e+00, -5.91023207e-01,\n",
       "        1.03441610e+01,  3.80110383e+00,  1.12730646e+01,  2.89422512e-01,\n",
       "        1.93443222e+01,  9.92719555e+00,  1.58431470e+00, -2.27915311e+00,\n",
       "        2.61747980e+00,  3.23298359e+00,  3.31061554e+00,  1.08237505e+01,\n",
       "        8.16562557e+00,  1.17724438e+01,  2.27832556e+00,  6.72408772e+00,\n",
       "        1.01996794e+01,  9.70650291e+00,  5.86901617e+00,  1.29092655e+01,\n",
       "        6.30515575e+00, -2.26229215e+00, -2.13692784e-01,  7.49436092e+00,\n",
       "        7.47369003e+00,  2.46606255e+00,  8.48511124e+00, -3.06490034e-01,\n",
       "       -2.17690110e-01,  3.23586726e+00,  6.61673832e+00, -5.26550865e+00,\n",
       "        7.91627884e+00, -2.19181490e+00,  8.17002773e+00,  2.66341400e+00,\n",
       "        5.63094234e+00,  3.37175608e-01,  2.22825947e+01,  4.50906229e+00,\n",
       "        6.02871990e+00,  3.73050451e+00,  4.21785450e+00,  1.02505608e+01,\n",
       "        1.68246403e+01,  1.07984810e+01,  3.21266818e+00,  3.67665768e+00,\n",
       "        1.37689342e+01,  2.09575200e+00,  6.05606270e+00,  5.10386753e+00,\n",
       "       -1.29717708e+00,  5.45420361e+00,  7.17478180e+00,  9.37605762e+00,\n",
       "       -4.45997143e+00,  8.85473251e+00,  9.71317196e+00,  4.81671190e+00,\n",
       "        7.43144226e+00,  9.89428902e+00,  1.00597973e+01,  8.71584702e+00,\n",
       "        7.74278069e+00,  4.94229841e+00,  9.38294888e-01, -3.14776063e+00,\n",
       "        5.77535152e+00,  1.16345243e+01, -1.33406043e+00,  4.42161894e+00,\n",
       "        1.78418121e+01,  8.38391781e+00,  8.27403736e+00, -3.55381703e+00,\n",
       "        3.57840991e+00, -5.59664297e+00,  1.09956627e+01, -2.43863153e+00,\n",
       "        3.75721097e+00,  2.08851070e+01,  6.04956770e+00,  3.39766669e+00,\n",
       "        8.87242031e+00,  6.80811882e+00,  3.82672071e+00,  4.82900667e+00,\n",
       "        1.35664349e+01,  2.24450779e+00,  1.31368771e+01, -1.12727487e+00,\n",
       "        8.56954098e+00,  2.53989458e-01, -2.09753299e+00, -4.44356441e+00,\n",
       "        9.92973804e+00,  1.05404673e+01,  4.36031199e+00,  1.14827681e+00,\n",
       "        1.18012495e+01,  1.78963512e-01, -2.09070897e+00,  1.35076666e+01,\n",
       "        1.04143848e+01,  8.35840702e+00,  1.55393000e+01,  4.27985477e+00,\n",
       "       -5.55125618e+00,  3.98487210e+00,  6.52817297e+00,  7.29966784e+00,\n",
       "       -1.38917422e+00,  5.88918114e+00,  5.75650454e+00,  1.08732395e+01,\n",
       "        6.16376448e+00, -9.82715726e-01,  6.81449223e+00,  1.65351892e+00,\n",
       "        2.23364735e+00,  3.38717151e+00,  8.56604481e+00,  1.04946852e+01,\n",
       "       -1.62711811e+00,  9.50584412e-01,  7.24759245e+00,  4.67443824e-01,\n",
       "        5.09711409e+00,  2.61354351e+00,  2.84365416e+00,  8.82330704e+00,\n",
       "        3.38036871e+00,  5.65616894e+00,  9.80772591e+00,  3.51985526e+00,\n",
       "        5.64383459e+00, -1.15706301e+00, -1.45879388e-01,  1.18417034e+01,\n",
       "        3.50950432e+00,  1.14443083e+01,  7.21868420e+00,  4.03291321e+00,\n",
       "        5.98439598e+00,  8.01477432e+00,  1.16624327e+01,  1.55613089e+00,\n",
       "        4.03513384e+00,  5.32220554e+00,  5.45538998e+00,  1.14325027e+01,\n",
       "        1.49651647e+00,  6.06771755e+00,  8.77664983e-01,  8.60879517e+00,\n",
       "        5.67537308e+00,  5.75970078e+00,  8.97416306e+00,  6.38888264e+00,\n",
       "        1.20273180e+01, -2.15968847e+00,  4.98497725e+00,  8.85354424e+00,\n",
       "        8.13673210e+00,  9.00025749e+00,  9.25877571e-01,  2.04247522e+00,\n",
       "        4.74681759e+00,  2.32385063e+00,  2.24876833e+00,  4.87616634e+00,\n",
       "        1.43263645e+01, -9.70103860e-01,  9.77877903e+00,  8.92237949e+00,\n",
       "        7.30508804e-01,  1.05413513e+01,  3.06058621e+00,  7.65139699e-01,\n",
       "        8.86666059e-01,  9.50719452e+00, -7.88437784e-01,  1.57688551e+01,\n",
       "        9.24138641e+00,  1.36042809e+00,  7.19189835e+00, -1.30294871e+00,\n",
       "        6.06204796e+00, -2.33587193e+00,  5.43873024e+00,  8.19449806e+00,\n",
       "       -1.59631217e+00,  4.11905050e+00, -2.29236901e-01,  1.27736340e+01,\n",
       "        1.10598698e+01,  4.38335419e+00,  6.20804787e+00,  4.71649933e+00,\n",
       "        1.86458230e+00, -4.46082920e-01, -3.23794770e+00,  6.11042118e+00,\n",
       "        1.33247156e+01,  2.48930144e+00,  8.44855022e+00,  9.92717838e+00,\n",
       "        1.65948219e+01,  2.05514479e+00,  1.03128557e+01,  5.12077236e+00,\n",
       "        8.66685200e+00,  7.93232441e+00,  5.11973953e+00,  1.01916122e+01,\n",
       "        5.45083141e+00,  2.42437553e+00,  1.24571247e+01,  6.65982103e+00,\n",
       "        1.18206263e+01,  7.52856255e+00,  1.08558607e+01,  3.77024055e+00,\n",
       "       -5.61002314e-01,  7.52804995e+00,  8.13112831e+00, -9.49696243e-01,\n",
       "        2.49121189e+00,  1.09786701e+00,  9.90802956e+00,  2.99774957e+00,\n",
       "        1.63513660e+00,  7.67407227e+00, -2.10497642e+00,  9.49104500e+00,\n",
       "        3.06079578e+00,  6.06063747e+00,  9.37738228e+00,  6.64313316e+00,\n",
       "        7.56251478e+00,  6.44396400e+00,  5.98850489e+00,  5.81956816e+00,\n",
       "        7.96190071e+00,  5.82293844e+00,  1.34610128e+01, -8.33326578e-03,\n",
       "        1.10536232e+01, -2.03885770e+00,  6.90414286e+00,  9.52017021e+00,\n",
       "        1.02166662e+01,  1.75510061e+00,  1.17243786e+01,  4.67071915e+00,\n",
       "        8.41106701e+00,  6.33886719e+00,  9.50547981e+00,  7.33544588e+00,\n",
       "       -2.49750113e+00, -1.76853180e+00,  6.06037664e+00,  1.84971869e+00,\n",
       "        3.87788177e+00,  9.69855726e-01,  7.93089628e+00,  1.16497097e+01,\n",
       "        2.66226172e+00,  1.15832834e+01,  3.62114382e+00,  9.08770657e+00,\n",
       "       -2.06694555e+00,  8.34506989e+00, -1.55628347e+01,  1.53430014e+01,\n",
       "        3.00296378e+00,  9.04195595e+00,  1.05043936e+01,  9.03072178e-01,\n",
       "        5.59848738e+00,  8.90367126e+00,  7.63858700e+00,  6.35360432e+00,\n",
       "        4.32366180e+00,  1.05386543e+01,  6.26711559e+00,  1.01321459e+01,\n",
       "        1.32383184e+01, -2.15104103e+00,  3.59093213e+00, -6.90616369e-02,\n",
       "        1.53030872e-01, -3.24356914e+00,  7.14195728e+00,  3.56647754e+00,\n",
       "        4.87628078e+00,  3.44702840e-01,  8.52968311e+00,  5.33704996e+00,\n",
       "        7.71086597e+00,  6.48326731e+00,  4.22685385e+00, -3.43911457e+00,\n",
       "        7.74795818e+00, -6.60336852e-01,  7.50754261e+00,  3.58971906e+00,\n",
       "        8.50354290e+00,  8.22301626e-01,  1.32172585e+01,  2.66996670e+00,\n",
       "        7.38711977e+00,  8.26304531e+00, -6.33438170e-01,  6.79684973e+00,\n",
       "        7.92528677e+00,  5.77886391e+00,  6.82753420e+00,  1.23419142e+01,\n",
       "       -7.23945379e+00,  8.87444687e+00, -4.15326595e+00,  6.33783913e+00,\n",
       "        8.64611244e+00,  1.14532499e+01,  4.41223431e+00,  1.05527620e+01,\n",
       "        6.18955851e+00,  4.01801825e+00,  1.17002087e+01,  7.53453827e+00,\n",
       "        4.31657362e+00,  1.10879030e+01, -2.51754689e+00,  3.74565387e+00,\n",
       "        1.28298149e+01,  1.10919495e+01,  3.44926882e+00,  5.83775330e+00,\n",
       "        7.60945415e+00,  5.56801510e+00,  1.90835083e+00,  1.12389421e+01,\n",
       "        5.15109777e+00,  1.75493848e+00,  6.66834354e+00,  5.73324251e+00,\n",
       "        1.11963654e+01, -8.27268839e-01,  1.06520519e+01,  7.34584475e+00,\n",
       "        5.24202633e+00,  1.24394321e+01,  8.44273567e+00,  9.11919951e-01,\n",
       "        1.07219219e+01,  1.01057863e+01,  1.34286175e+01,  3.17087936e+00,\n",
       "        1.17164459e+01,  4.12296104e+00, -1.35919523e+00,  3.35135007e+00,\n",
       "        1.40284348e+00,  5.81618690e+00,  1.32706556e+01,  2.75021553e-01,\n",
       "        1.12916107e+01,  8.93642902e-01, -2.70523787e+00,  4.03200245e+00,\n",
       "       -4.15836716e+00,  8.66838074e+00, -1.03968215e+00,  9.62449551e+00,\n",
       "        6.60362530e+00,  5.19702005e+00, -3.52548075e+00,  1.43107700e+00,\n",
       "        4.28400469e+00,  7.89319515e+00,  6.98104715e+00,  5.92465782e+00,\n",
       "        1.31501808e+01,  4.04988146e+00,  4.30501509e+00,  1.12746592e+01,\n",
       "        1.04702015e+01,  1.25598431e+01,  2.16224599e+00,  1.23570242e+01,\n",
       "        6.57608604e+00,  1.00426588e+01,  5.24741173e+00,  9.18785858e+00,\n",
       "        5.99089241e+00,  1.42220712e+00,  5.83308792e+00,  5.87198496e+00,\n",
       "        8.45861626e+00,  3.82508588e+00, -7.70002794e+00,  8.44574642e+00,\n",
       "        8.10328102e+00,  8.25667143e-01,  1.27228727e+01, -1.03390813e+00,\n",
       "        4.77121639e+00,  1.02643909e+01,  1.33831711e+01, -5.57145214e+00,\n",
       "        9.89221573e-01,  6.23963451e+00,  3.32682943e+00,  4.96154165e+00,\n",
       "        1.07389507e+01,  4.85051680e+00,  4.56225395e+00,  7.78603125e+00,\n",
       "        6.92965889e+00,  9.41660213e+00,  6.25751257e-01,  5.80666065e+00,\n",
       "       -1.25648665e+00,  3.86497712e+00,  8.00414181e+00,  1.15304556e+01,\n",
       "       -3.16380835e+00,  9.50461864e+00,  7.79489899e+00,  8.66918373e+00,\n",
       "       -5.34276485e+00,  1.09881639e+01,  6.75847244e+00,  1.13008385e+01,\n",
       "        1.16220942e+01,  8.21340179e+00,  9.19195843e+00,  6.93663216e+00,\n",
       "        1.54977894e+01,  3.73977137e+00,  6.69500065e+00, -1.71879208e+00,\n",
       "        1.37156191e+01,  9.63441730e-01,  1.00238476e+01, -3.91829586e+00,\n",
       "        6.25865269e+00,  9.20094204e+00,  1.93418419e+00, -6.32625389e+00,\n",
       "        8.26724243e+00,  3.39907289e+00,  5.00570440e+00,  6.41361427e+00,\n",
       "        1.11864347e+01,  2.33922362e+00, -2.44418716e+00, -7.59001672e-01,\n",
       "        6.03091908e+00,  2.07194614e+00,  1.85633183e+00,  1.79211652e+00,\n",
       "        1.12868557e+01, -2.20072448e-01,  6.55183077e+00,  6.92970324e+00,\n",
       "        1.44085150e+01,  3.28418422e+00,  8.14729214e+00,  9.07797933e-01,\n",
       "        2.79846263e+00,  4.74703670e-01,  4.19867098e-01,  1.53491187e+00,\n",
       "        4.50565863e+00,  1.20501547e+01,  1.13158302e+01,  4.78350782e+00,\n",
       "        1.20575418e+01,  1.17145271e+01,  9.19169617e+00, -1.19001520e+00,\n",
       "        9.89334774e+00,  2.53372145e+00, -7.93811893e+00,  5.08620214e+00,\n",
       "        6.43592739e+00,  9.32574940e+00, -2.33074427e-02, -5.33042967e-01,\n",
       "        2.19714880e+00, -1.37175417e+00,  5.04677820e+00,  1.26714888e+01,\n",
       "        2.09174156e-01, -5.24300861e+00,  9.55772877e+00,  1.99015379e+00,\n",
       "        1.95423365e-01,  1.04274254e+01,  1.96786249e+00,  2.89864802e+00,\n",
       "       -4.76473570e-02,  9.99542904e+00,  5.48466921e+00, -4.72059870e+00,\n",
       "        4.37968636e+00,  1.64334908e+01,  9.69326019e-01,  8.96122169e+00,\n",
       "        1.56621819e+01,  5.45035744e+00,  1.18410301e+01,  2.64949656e+00,\n",
       "        6.99666888e-02,  2.90907741e+00,  7.20701218e-01,  2.71631122e+00,\n",
       "        5.84899712e+00, -2.59941912e+00,  9.81802273e+00,  5.09983110e+00,\n",
       "        9.81891918e+00,  9.00299358e+00,  1.74916601e+00,  8.46050453e+00,\n",
       "        5.48020005e-01,  2.24387670e+00,  1.32106578e+00, -3.87535572e-01,\n",
       "        7.13273907e+00,  1.20640373e+01,  7.91351032e+00, -2.46347475e+00,\n",
       "       -6.07498360e+00,  1.68669987e+01,  4.50473881e+00,  2.22383785e+00,\n",
       "        3.36301804e+00,  9.93566418e+00,  3.58054250e-01,  3.85862637e+00,\n",
       "        7.24116755e+00,  3.32380128e+00,  1.83468187e+00,  1.36162720e+01,\n",
       "        7.36678457e+00,  5.13344622e+00,  3.86872816e+00,  8.34806824e+00,\n",
       "        6.18193483e+00,  5.43219948e+00,  1.00049937e+00,  4.84576988e+00,\n",
       "        3.28581667e+00, -1.14638627e-01,  1.30014825e+00,  6.36987400e+00,\n",
       "       -7.80661762e-01,  7.91245937e+00,  6.01126623e+00,  5.84438992e+00,\n",
       "        2.66369247e+00,  1.49770451e+00,  3.21679783e+00, -2.57470202e+00,\n",
       "        4.66749859e+00,  1.01865196e+01, -5.89829969e+00,  6.94418144e+00,\n",
       "        2.45413184e+00,  5.69661140e-01,  8.53521109e-01,  9.03291702e+00,\n",
       "        1.17284412e+01,  8.55945301e+00,  3.74838412e-02,  8.46765935e-03,\n",
       "        8.01894665e+00,  2.38176823e+00,  6.24867916e+00, -2.88185310e+00,\n",
       "       -2.37367582e+00,  6.52419138e+00,  9.64694214e+00,  4.91681767e+00,\n",
       "        3.20986569e-01,  9.56150293e-02,  9.80836773e+00,  9.87276459e+00,\n",
       "        2.00253153e+00,  2.72590351e+00, -1.09008026e+00,  6.13886070e+00,\n",
       "       -1.40702188e+00,  1.36023760e+00, -2.17465973e+00,  4.08824301e+00,\n",
       "       -2.87835598e+00,  1.33039179e+01, -1.20291841e+00,  9.34161854e+00,\n",
       "        7.14809132e+00,  9.35100842e+00, -3.69589925e-01, -1.35842443e-01,\n",
       "        1.08225286e-01, -1.29065990e-01,  3.99716473e+00,  8.13683414e+00,\n",
       "        4.05199623e+00,  1.04406891e+01,  4.39505625e+00,  3.68165874e+00,\n",
       "       -1.00523400e+00,  1.00111752e+01,  2.45743990e-03,  1.24769335e+01,\n",
       "        7.83101988e+00,  5.40282440e+00,  4.54772186e+00, -1.06831038e+00,\n",
       "        6.66176844e+00,  2.80309486e+00, -2.32529879e+00,  2.56923413e+00,\n",
       "        2.78463650e+00,  2.26412582e+00,  1.13284564e+00,  7.91319561e+00,\n",
       "       -9.43087101e-01, -1.53751802e+00,  1.01378803e+01,  1.08442774e+01,\n",
       "        9.30556202e+00,  6.65494823e+00, -5.25279236e+00,  5.08226013e+00,\n",
       "        2.67838240e+00,  2.58343697e-01,  1.11072855e+01,  7.67916441e+00,\n",
       "        1.07312632e+01,  1.39326906e+00,  1.60982871e+00,  7.48613834e+00,\n",
       "        4.56380081e+00,  9.56137276e+00,  1.19178019e+01,  2.53890371e+00,\n",
       "        1.86493850e+00,  1.06936769e+01,  3.56438756e-01,  7.27292204e+00,\n",
       "        4.55486679e+00,  9.49546242e+00,  2.06922102e+00,  6.85085630e+00,\n",
       "        7.94580221e+00,  7.04378891e+00,  5.12037086e+00,  1.61173935e+01,\n",
       "       -5.70636988e+00,  4.50223923e-01,  7.69344759e+00,  4.24688816e-01,\n",
       "        3.64259291e+00,  9.07921314e+00, -8.50997162e+00, -4.01182556e+00,\n",
       "        4.83489943e+00,  3.24931049e+00, -6.94348240e+00,  1.69524765e+01,\n",
       "        7.96562791e-01,  8.73915863e+00, -2.99453449e+00,  7.84166861e+00,\n",
       "       -3.65689814e-01,  6.67168379e+00,  9.80532551e+00, -5.47422218e+00,\n",
       "        1.23639727e+01,  1.11816435e+01,  3.00928283e+00,  1.80066839e-01,\n",
       "        8.77938557e+00,  5.78639126e+00,  1.71142673e+01,  1.06088209e+00,\n",
       "        5.39046192e+00,  6.73212957e+00,  7.45733881e+00,  1.63737583e+00,\n",
       "        8.34346390e+00,  2.75502729e+00,  2.55010724e+00,  1.17497206e+01,\n",
       "        7.36302948e+00,  2.30763698e+00,  9.80237103e+00,  8.90052605e+00,\n",
       "        3.54588366e+00,  6.16682816e+00,  5.94071817e+00,  4.59826803e+00,\n",
       "        2.54065800e+00,  1.62389731e+00,  6.44529343e+00,  3.16241527e+00,\n",
       "       -2.56292057e+00,  1.01711273e+01,  1.02748871e+01,  7.63927698e+00,\n",
       "       -2.18232298e+00, -1.33348107e-01,  2.27158308e+00,  5.20196772e+00,\n",
       "        9.80996037e+00,  8.36486149e+00,  4.46772957e+00, -3.11409926e+00,\n",
       "        4.79301453e+00,  5.14500237e+00, -7.07708478e-01,  8.39212322e+00,\n",
       "       -2.16456175e+00,  1.03717575e+01,  5.17728090e+00,  8.79996014e+00,\n",
       "       -3.29370070e+00,  3.81164002e+00,  5.20648098e+00,  6.49880648e+00,\n",
       "        1.50515814e+01,  1.20112648e+01,  5.44413519e+00, -5.94236183e+00,\n",
       "        2.27847910e+00,  1.75184288e+01,  1.22840490e+01,  7.32601404e+00,\n",
       "        8.43443775e+00,  7.63681316e+00,  2.04863644e+00,  1.40641909e+01,\n",
       "        4.91302824e+00,  7.30977058e+00,  1.17240652e-01,  7.97048473e+00,\n",
       "        1.18241510e+01,  1.04562130e+01,  8.28196526e+00,  4.03476143e+00,\n",
       "       -6.89570785e-01,  8.30740452e-01,  4.78988552e+00,  2.60488486e+00,\n",
       "        4.31817436e+00,  6.98299026e+00,  9.82962322e+00,  6.29774714e+00,\n",
       "       -2.21904206e+00, -3.95232677e+00,  1.12108240e+01,  1.47762024e+00,\n",
       "        2.76717854e+00,  3.69434857e+00,  5.10928488e+00, -2.73344278e-01,\n",
       "        7.71842813e+00, -6.03159428e+00,  7.13856316e+00,  1.07726698e+01,\n",
       "        1.25750947e+00,  5.19793749e+00,  3.26436710e+00,  1.81692863e+00,\n",
       "        7.18491077e+00,  2.73174214e+00, -9.30798352e-01, -1.54978752e-01,\n",
       "        5.10508776e+00,  1.89734828e+00,  3.72072315e+00, -1.25692284e+00,\n",
       "        7.45517874e+00,  6.05157995e+00,  1.62485099e+00,  1.49740067e+01,\n",
       "        8.49027634e+00,  1.37848454e+01,  5.94296837e+00,  7.67816639e+00,\n",
       "       -4.98892212e+00,  6.55137730e+00,  1.09182911e+01, -1.79394960e+00,\n",
       "        4.27873993e+00,  8.96170902e+00,  1.58699036e+00,  1.04261518e+00,\n",
       "        5.08527565e+00,  1.67334223e+00, -8.66879702e-01,  9.04619217e+00,\n",
       "        9.13396454e+00,  1.91088963e+00,  1.05128794e+01,  3.30559230e+00,\n",
       "        3.39315987e+00,  8.28008747e+00,  1.59679341e+00,  4.88067007e+00,\n",
       "       -1.23934126e+00,  1.03975964e+01,  8.27590561e+00,  8.27318096e+00,\n",
       "        1.22101192e+01,  1.46670091e+00,  7.45227909e+00,  4.58576059e+00,\n",
       "        3.88305902e+00, -3.77779961e-01,  1.54045134e+01,  2.19396830e+00,\n",
       "        4.91574955e+00,  3.87851787e+00,  7.47144508e+00,  1.01140583e+00,\n",
       "        2.79614806e+00,  3.16690087e+00, -3.83299494e+00,  5.42105150e+00,\n",
       "        1.33306408e+00,  6.91018295e+00, -1.70948923e+00,  1.60642982e-01,\n",
       "        2.92643952e+00,  2.85069084e+00,  9.91893959e+00,  1.15384121e+01,\n",
       "        1.38876724e+01, -7.35537291e-01,  3.79573536e+00,  6.79318666e+00,\n",
       "        8.07060814e+00,  1.88970232e+00,  1.06857195e+01,  3.26950526e+00],\n",
       "      dtype=float32)>"
      ]
     },
     "execution_count": 5,
     "metadata": {},
     "output_type": "execute_result"
    }
   ],
   "source": [
    "y"
   ]
  },
  {
   "cell_type": "markdown",
   "metadata": {},
   "source": [
    "## 梯度下降\n",
    "$$ x\\leftarrow x - \\eta f'(x)$$\n",
    "\n",
    "现在假设损失函数为：\n",
    "$$f(\\mathbf{x}) = \\frac{1}{n} \\sum_{i = 1}^n f_i(\\mathbf{x})$$\n",
    "其中$f_i(\\mathbf{x})$是有关索引为i的训练数据点的损失函数。\n",
    "广义上，每次迭代可以随机均匀采样一个由训练数据点索引所组成的小批量$\\mathcal{B}$。类似地，我们可以使用\n",
    "$$\\nabla f_\\mathcal{B}(\\mathbf{x}) = \\frac{1}{|\\mathcal{B}|} \\sum_{i \\in \\mathcal{B}}\\nabla f_i(\\mathbf{x})$$\n",
    "来更新$\\mathbf{x}$：\n",
    "$\\mathbf{x} := \\mathbf{x} - \\eta \\nabla f_\\mathcal{B}(\\mathbf{x})$,(把上式中 $\\nabla f_\\mathcal{B}(\\mathbf{x})$代进来， 这里会出现 learn_rate / batch_size)\n",
    "\n",
    "其中$|\\mathcal{B}|$代表批量中索引数量 ，$\\eta$ （取正数）称作学习率或步长。同样，小批量随机梯度$\\nabla f_\\mathcal{B}(\\mathbf{x})$也是对梯度 $\\nabla f(\\mathbf{x})$的无偏估计:$$\\mathbb{E}_\\mathcal{B} \\nabla f_\\mathcal{B}(\\mathbf{x}) = \\nabla f(\\mathbf{x}).$$."
   ]
  },
  {
   "cell_type": "code",
   "execution_count": 6,
   "metadata": {},
   "outputs": [],
   "source": [
    "def sgd(grads,params,lr,batch_size):\n",
    "    '''如果batch_size 为1时 此时是随机梯度下降，如果是全部数据大小为梯度下降，\n",
    "    如果1<batch_size<n 此时是小批量随机梯度下降'''\n",
    "    params = params - lr * grads / batch_size\n",
    "    return params"
   ]
  },
  {
   "cell_type": "code",
   "execution_count": 7,
   "metadata": {},
   "outputs": [],
   "source": [
    "ds = tf.data.Dataset.from_tensor_slices((x,y))"
   ]
  },
  {
   "cell_type": "code",
   "execution_count": 8,
   "metadata": {},
   "outputs": [],
   "source": [
    "def create_ds(x,y,batch_size):\n",
    "    ds = tf.data.Dataset.from_tensor_slices((x,y))\n",
    "    return ds.shuffle(1000).batch(batch_size).repeat()"
   ]
  },
  {
   "cell_type": "code",
   "execution_count": 9,
   "metadata": {},
   "outputs": [],
   "source": [
    "ds = create_ds(x,y,10)"
   ]
  },
  {
   "cell_type": "code",
   "execution_count": 10,
   "metadata": {},
   "outputs": [
    {
     "data": {
      "text/plain": [
       "(<tf.Tensor: id=45, shape=(10, 2), dtype=float32, numpy=\n",
       " array([[ 0.988863  , -0.778669  ],\n",
       "        [ 0.45387512, -0.623685  ],\n",
       "        [-0.4791881 ,  0.23417848],\n",
       "        [ 0.5503331 ,  0.4620713 ],\n",
       "        [-0.51244026,  0.7084891 ],\n",
       "        [-0.77041024, -0.49471846],\n",
       "        [ 0.43681848, -0.8851238 ],\n",
       "        [-1.6600039 ,  0.5864756 ],\n",
       "        [ 1.1788347 ,  0.86087   ],\n",
       "        [ 0.00949245,  0.20773652]], dtype=float32)>,\n",
       " <tf.Tensor: id=46, shape=(10,), dtype=float32, numpy=\n",
       " array([11.1072855,  8.610628 ,  0.7651397,  5.177281 ,  0.969326 ,\n",
       "         1.7328231,  8.79996  , -3.553817 ,  8.566045 ,  6.4832673],\n",
       "       dtype=float32)>)"
      ]
     },
     "execution_count": 10,
     "metadata": {},
     "output_type": "execute_result"
    }
   ],
   "source": [
    "exp_x,exp_y = next(iter(ds))\n",
    "exp_x,exp_y"
   ]
  },
  {
   "cell_type": "code",
   "execution_count": 11,
   "metadata": {},
   "outputs": [],
   "source": [
    "def model(x,w,b):\n",
    "    return tf.reduce_sum(x * w,axis=1) + b"
   ]
  },
  {
   "cell_type": "code",
   "execution_count": 12,
   "metadata": {},
   "outputs": [],
   "source": [
    "def loss(y,y_hat):\n",
    "    return tf.reduce_mean((y - y_hat) ** 2) /2"
   ]
  },
  {
   "cell_type": "code",
   "execution_count": 13,
   "metadata": {},
   "outputs": [],
   "source": [
    "def trainer(x,y,epcho=5,batch_size=10,lr=0.01):\n",
    "    steps = 1000 // batch_size\n",
    "    ds = create_ds(x,y,batch_size=batch_size)\n",
    "    w = tf.ones(shape=(1,2))\n",
    "    b = tf.zeros(shape=(1,))\n",
    "    losses = []\n",
    "    for i in range(epcho):\n",
    "        k = 0\n",
    "        for x,label in ds:\n",
    "            k += 1\n",
    "            with tf.GradientTape() as tap:\n",
    "                tap.watch([w,b])\n",
    "                y_hat = model(x,w,b)\n",
    "                l = loss(label,y_hat)\n",
    "            grads = tap.gradient(l,[w,b])\n",
    "            w = sgd(grads[0],w,lr,batch_size)\n",
    "            b = sgd(grads[1],b,lr,batch_size)\n",
    "            losses.append(l.numpy())\n",
    "            if k == steps:\n",
    "                break\n",
    "        y_hat = model(x,w,b)\n",
    "        l = loss(label,y_hat)\n",
    "        print(\"epcho:\", i+1 , \"  loss:\",l.numpy())\n",
    "    print(\"w:\",w.numpy(),\" b: \",b.numpy())\n",
    "    return losses"
   ]
  },
  {
   "cell_type": "code",
   "execution_count": 14,
   "metadata": {},
   "outputs": [],
   "source": [
    "def plt_losses(losses):\n",
    "    plt.plot(range(len(losses)),losses)"
   ]
  },
  {
   "cell_type": "code",
   "execution_count": 15,
   "metadata": {},
   "outputs": [
    {
     "name": "stdout",
     "output_type": "stream",
     "text": [
      "epcho: 1   loss: 24.516613\n",
      "epcho: 2   loss: 23.04641\n",
      "epcho: 3   loss: 26.200047\n",
      "epcho: 4   loss: 20.432673\n",
      "epcho: 5   loss: 21.125853\n",
      "epcho: 6   loss: 20.264397\n",
      "epcho: 7   loss: 20.348082\n",
      "epcho: 8   loss: 20.27572\n",
      "epcho: 9   loss: 19.149363\n",
      "epcho: 10   loss: 18.048798\n",
      "w: [[1.2849451  0.63742197]]  b:  [0.4867438]\n"
     ]
    }
   ],
   "source": [
    "## 小批量随机梯度下降\n",
    "losses = trainer(x,y,10,100,0.1)"
   ]
  },
  {
   "cell_type": "code",
   "execution_count": 16,
   "metadata": {},
   "outputs": [
    {
     "data": {
      "image/png": "[encoded data removed]",
      "text/plain": [
       "<Figure size 432x288 with 1 Axes>"
      ]
     },
     "metadata": {
      "needs_background": "light"
     },
     "output_type": "display_data"
    }
   ],
   "source": [
    "plt_losses(losses)"
   ]
  },
  {
   "cell_type": "code",
   "execution_count": 17,
   "metadata": {},
   "outputs": [
    {
     "name": "stdout",
     "output_type": "stream",
     "text": [
      "epcho: 1   loss: 0.008152484\n",
      "w: [[ 3.6934824 -2.9109106]]  b:  [4.8560476]\n"
     ]
    },
    {
     "data": {
      "image/png": "[encoded data removed]",
      "text/plain": [
       "<Figure size 432x288 with 1 Axes>"
      ]
     },
     "metadata": {
      "needs_background": "light"
     },
     "output_type": "display_data"
    }
   ],
   "source": [
    "## 随机梯度下降\n",
    "losses = trainer(x,y,1,1,0.1)\n",
    "plt_losses(losses[6:50])"
   ]
  },
  {
   "cell_type": "code",
   "execution_count": 18,
   "metadata": {},
   "outputs": [
    {
     "name": "stdout",
     "output_type": "stream",
     "text": [
      "epcho: 1   loss: 25.151657\n",
      "epcho: 2   loss: 25.126875\n",
      "epcho: 3   loss: 25.102121\n",
      "epcho: 4   loss: 25.077383\n",
      "epcho: 5   loss: 25.052677\n",
      "epcho: 6   loss: 25.027996\n",
      "epcho: 7   loss: 25.003336\n",
      "epcho: 8   loss: 24.978703\n",
      "epcho: 9   loss: 24.954098\n",
      "epcho: 10   loss: 24.929514\n",
      "w: [[1.0149375  0.98103756]]  b:  [0.02554107]\n"
     ]
    }
   ],
   "source": [
    "## 梯度下降\n",
    "losses = trainer(x,y,10,1000,0.5)"
   ]
  },
  {
   "cell_type": "code",
   "execution_count": 19,
   "metadata": {},
   "outputs": [
    {
     "data": {
      "image/png": "[encoded data removed]",
      "text/plain": [
       "<Figure size 432x288 with 1 Axes>"
      ]
     },
     "metadata": {
      "needs_background": "light"
     },
     "output_type": "display_data"
    }
   ],
   "source": [
    "plt_losses(losses)"
   ]
  },
  {
   "cell_type": "code",
   "execution_count": null,
   "metadata": {},
   "outputs": [],
   "source": []
  }
 ],
 "metadata": {
  "kernelspec": {
   "display_name": "tensorflow2.0",
   "language": "python",
   "name": "tensorflow2.0"
  },
  "language_info": {
   "codemirror_mode": {
    "name": "ipython",
    "version": 3
   },
   "file_extension": ".py",
   "mimetype": "text/x-python",
   "name": "python",
   "nbconvert_exporter": "python",
   "pygments_lexer": "ipython3",
   "version": "3.6.9"
  }
 },
 "nbformat": 4,
 "nbformat_minor": 4
}
