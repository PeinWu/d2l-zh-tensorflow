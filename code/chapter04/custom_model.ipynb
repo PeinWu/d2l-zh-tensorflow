{
 "cells": [
  {
   "cell_type": "markdown",
   "metadata": {},
   "source": [
    "### 自定义模型\n",
    "\n",
    "https://tensorflow.google.cn/beta/guide/keras/custom_layers_and_models"
   ]
  },
  {
   "cell_type": "code",
   "execution_count": 1,
   "metadata": {},
   "outputs": [
    {
     "data": {
      "text/plain": [
       "'2.0.0-rc1'"
      ]
     },
     "execution_count": 1,
     "metadata": {},
     "output_type": "execute_result"
    }
   ],
   "source": [
    "import tensorflow as tf\n",
    "tf.__version__"
   ]
  },
  {
   "cell_type": "markdown",
   "metadata": {},
   "source": [
    "#### 1.多层感知机"
   ]
  },
  {
   "cell_type": "code",
   "execution_count": 2,
   "metadata": {},
   "outputs": [],
   "source": [
    "class MLP(tf.keras.layers.Layer):\n",
    "    def __init__(self,**kwargs):\n",
    "        super(MLP,self).__init__(**kwargs)\n",
    "        self.layer1 = tf.keras.layers.Dense(512,activation=\"relu\")\n",
    "        self.layer2 = tf.keras.layers.Dense(10)\n",
    "    \n",
    "    def call(self,inputs):\n",
    "        return self.layer2(self.layer1(inputs))"
   ]
  },
  {
   "cell_type": "code",
   "execution_count": 6,
   "metadata": {},
   "outputs": [
    {
     "data": {
      "text/plain": [
       "<tf.Tensor: id=125, shape=(5, 10), dtype=float32, numpy=\n",
       "array([[ 7.83876888e-03, -1.08052760e-01, -1.20274723e-04,\n",
       "        -1.80707231e-01,  5.25910035e-03, -4.92951460e-02,\n",
       "         1.01656362e-01, -1.58705562e-02,  4.82824370e-02,\n",
       "        -1.37929916e-01],\n",
       "       [ 2.47069616e-02,  8.43866467e-02,  8.75827670e-03,\n",
       "        -1.70194581e-02,  3.20906378e-02, -4.62367237e-02,\n",
       "         1.12848513e-01,  2.22287886e-03, -2.74914317e-03,\n",
       "        -6.15079328e-03],\n",
       "       [ 1.14922315e-01,  2.92703420e-01, -1.24090314e-02,\n",
       "        -6.07170984e-02,  2.36929953e-01, -2.23907381e-01,\n",
       "         2.77480423e-01, -2.48807669e-02,  2.57573761e-02,\n",
       "        -3.62296402e-02],\n",
       "       [ 1.14844553e-03, -2.24759802e-02, -1.77966896e-03,\n",
       "        -1.01343520e-01,  7.89665990e-03, -7.01378062e-02,\n",
       "         8.25694054e-02,  2.48313770e-02, -3.71037796e-03,\n",
       "        -1.64541513e-01],\n",
       "       [-5.59377000e-02, -7.30469897e-02, -2.59499010e-02,\n",
       "        -2.03245297e-01, -9.33973864e-02, -1.56286452e-02,\n",
       "         8.23844671e-02, -2.69930139e-02,  1.68028384e-01,\n",
       "        -2.93020904e-01]], dtype=float32)>"
      ]
     },
     "execution_count": 6,
     "metadata": {},
     "output_type": "execute_result"
    }
   ],
   "source": [
    "mlp = MLP()\n",
    "inputs = tf.random.normal(shape=(5,3))\n",
    "mlp(inputs)"
   ]
  },
  {
   "cell_type": "markdown",
   "metadata": {},
   "source": [
    "### 2.序贯模型"
   ]
  },
  {
   "cell_type": "code",
   "execution_count": 7,
   "metadata": {},
   "outputs": [],
   "source": [
    "class MySequentail(tf.keras.layers.Layer):\n",
    "    def __init__(self,**kwargs):\n",
    "        super(MySequentail,self).__init__(**kwargs)\n",
    "        self._layers = []\n",
    "    def add(self,layer):\n",
    "        self._layers.append(layer)\n",
    "    def call(self,x):\n",
    "        for i in range(len(self._layers)):\n",
    "            x = self._layers[i](x)\n",
    "        return x"
   ]
  },
  {
   "cell_type": "code",
   "execution_count": 8,
   "metadata": {},
   "outputs": [
    {
     "data": {
      "text/plain": [
       "<tf.Tensor: id=212, shape=(3, 2), dtype=float32, numpy=\n",
       "array([[0.        , 1.5620372 ],\n",
       "       [0.5701231 , 0.27675113],\n",
       "       [0.        , 1.2067871 ]], dtype=float32)>"
      ]
     },
     "execution_count": 8,
     "metadata": {},
     "output_type": "execute_result"
    }
   ],
   "source": [
    "model = MySequentail()\n",
    "x = tf.random.normal(shape=(3,3))\n",
    "model.add(tf.keras.layers.Dense(8,activation=\"relu\"))\n",
    "model.add(tf.keras.layers.Dense(4,activation=\"relu\"))\n",
    "model.add(tf.keras.layers.Dense(2,activation=\"relu\"))\n",
    "model(x)"
   ]
  },
  {
   "cell_type": "markdown",
   "metadata": {},
   "source": [
    "#### 3.复杂的模型\n",
    "    使用流程控制"
   ]
  },
  {
   "cell_type": "code",
   "execution_count": 28,
   "metadata": {},
   "outputs": [],
   "source": [
    "@tf.function\n",
    "def fancy(x):\n",
    "    print(tf.norm(x))\n",
    "    while tf.norm(x).numpy()>1:\n",
    "        x /= 2\n",
    "    \n",
    "    if tf.norm(x).numpy()<0.8:\n",
    "        x *= 10\n",
    "    \n",
    "    return tf.reduce_sum(x)"
   ]
  },
  {
   "cell_type": "code",
   "execution_count": 30,
   "metadata": {},
   "outputs": [
    {
     "data": {
      "text/plain": [
       "<tf.Tensor: id=319, shape=(), dtype=float32, numpy=2.6849563>"
      ]
     },
     "execution_count": 30,
     "metadata": {},
     "output_type": "execute_result"
    }
   ],
   "source": [
    "tf.norm(x)"
   ]
  },
  {
   "cell_type": "code",
   "execution_count": 35,
   "metadata": {},
   "outputs": [],
   "source": [
    "@tf.function\n",
    "def square_if_positive(x):\n",
    "  if x > 0:\n",
    "    x = x * x\n",
    "  else:\n",
    "    x = 0\n",
    "  return x"
   ]
  },
  {
   "cell_type": "code",
   "execution_count": 37,
   "metadata": {},
   "outputs": [
    {
     "data": {
      "text/plain": [
       "<tf.Tensor: id=352, shape=(), dtype=int32, numpy=4>"
      ]
     },
     "execution_count": 37,
     "metadata": {},
     "output_type": "execute_result"
    }
   ],
   "source": [
    "square_if_positive(2)"
   ]
  },
  {
   "cell_type": "code",
   "execution_count": 66,
   "metadata": {},
   "outputs": [],
   "source": [
    "class FancyMLP(tf.keras.layers.Layer):\n",
    "    def __init__(self,units):\n",
    "        super(FancyMLP,self).__init__()\n",
    "        w_init = tf.keras.initializers.he_normal()\n",
    "        b_init = tf.keras.initializers.ones()\n",
    "#         self.weight = tf.Variable(initial_value = w_init(shape = (units,units),dtype = \"float32\"))\n",
    "        self.weight = self.add_weight(shape = (units,units),initializer=w_init)\n",
    "        self.bais = tf.Variable(initial_value = b_init(shape = (units,),dtype = \"float32\"))\n",
    "        self.dense = tf.keras.layers.Dense(units=units)\n",
    "    \n",
    "    def fancy(x):\n",
    "        print(x)\n",
    "        while tf.norm(x).numpy()>1:\n",
    "            x /= 2\n",
    "\n",
    "        if tf.norm(x).numpy()<0.8:\n",
    "            x *= 10\n",
    "\n",
    "        return tf.reduce_sum(x)\n",
    "    \n",
    "    def call(self,x):\n",
    "        x = self.dense(x)\n",
    "        x = tf.keras.activations.relu(tf.matmul(x,self.weight) + self.bais)\n",
    "        x = self.dense(x)\n",
    "        print(x)\n",
    "        while tf.norm(x).numpy()>1:\n",
    "            x /= 2\n",
    "        if tf.norm(x).numpy()<0.8:\n",
    "            x *= 10\n",
    "        return tf.reduce_sum(x)"
   ]
  },
  {
   "cell_type": "code",
   "execution_count": 67,
   "metadata": {},
   "outputs": [],
   "source": [
    "x2 = tf.random.uniform(shape=(2,20))"
   ]
  },
  {
   "cell_type": "code",
   "execution_count": 68,
   "metadata": {},
   "outputs": [
    {
     "name": "stdout",
     "output_type": "stream",
     "text": [
      "tf.Tensor(\n",
      "[[-2.340381    1.0914574   0.17550653 -0.9373035  -1.4193647  -1.4479309\n",
      "   0.8340757   0.9973731   1.8684517   0.7114239   0.8644439   0.2535656\n",
      "   1.2517823  -0.55293125 -0.2708936  -0.81915826 -0.6796769   0.11186872\n",
      "  -0.5061555  -0.7511518 ]\n",
      " [-2.8369555   1.1116349   0.7797055  -0.84308916 -1.721367   -1.8832062\n",
      "   0.26153195  1.4780743   1.6890855  -0.11013949 -0.2908042   0.28961733\n",
      "   1.7603047  -1.320871    0.02914088 -0.45108068 -0.46857625 -1.0595913\n",
      "  -0.5052365  -0.8992709 ]], shape=(2, 20), dtype=float32)\n"
     ]
    },
    {
     "data": {
      "text/plain": [
       "<tf.Tensor: id=1101, shape=(), dtype=float32, numpy=-0.8195115>"
      ]
     },
     "execution_count": 68,
     "metadata": {},
     "output_type": "execute_result"
    }
   ],
   "source": [
    "fancyMlp = FancyMLP(units=20)\n",
    "fancyMlp(x2)"
   ]
  },
  {
   "cell_type": "markdown",
   "metadata": {},
   "source": [
    "#### 4.联合调用"
   ]
  },
  {
   "cell_type": "code",
   "execution_count": 61,
   "metadata": {},
   "outputs": [],
   "source": [
    "class NestMLP(tf.keras.layers.Layer):\n",
    "    def __init__(self,**kwargs):\n",
    "        super(NestMLP,self).__init__(**kwargs)\n",
    "        \n",
    "        self.net = MySequentail()\n",
    "        self.net.add(tf.keras.layers.Dense(64,activation=\"relu\"))\n",
    "        self.net.add(tf.keras.layers.Dense(32,activation=\"relu\"))\n",
    "        self.dense = tf.keras.layers.Dense(16,activation=\"relu\")\n",
    "    def call(self,x):\n",
    "        return self.dense(self.net(x))"
   ]
  },
  {
   "cell_type": "code",
   "execution_count": 62,
   "metadata": {},
   "outputs": [
    {
     "data": {
      "text/plain": [
       "<tf.Tensor: id=918, shape=(3, 16), dtype=float32, numpy=\n",
       "array([[0.        , 0.        , 0.31013465, 0.315785  , 0.        ,\n",
       "        0.33354864, 0.        , 0.2869964 , 0.24004821, 0.07661889,\n",
       "        0.16816887, 0.16114146, 0.07677162, 0.        , 0.        ,\n",
       "        0.        ],\n",
       "       [0.        , 0.        , 0.4415934 , 0.10768186, 0.0395275 ,\n",
       "        0.        , 0.        , 0.04496279, 0.25970137, 0.        ,\n",
       "        0.01802109, 0.13638093, 0.        , 0.        , 0.        ,\n",
       "        0.        ],\n",
       "       [0.        , 0.        , 0.18038486, 0.29828128, 0.        ,\n",
       "        0.3663038 , 0.        , 0.0944141 , 0.19359283, 0.05123146,\n",
       "        0.22565955, 0.0198496 , 0.21072379, 0.        , 0.        ,\n",
       "        0.        ]], dtype=float32)>"
      ]
     },
     "execution_count": 62,
     "metadata": {},
     "output_type": "execute_result"
    }
   ],
   "source": [
    "nestMLP = NestMLP()\n",
    "nestMLP(x)"
   ]
  },
  {
   "cell_type": "code",
   "execution_count": 64,
   "metadata": {},
   "outputs": [],
   "source": [
    "model = tf.keras.Sequential()\n",
    "model.add(nestMLP)\n",
    "model.add(tf.keras.layers.Dense(20))\n",
    "model.add(fancyMlp)"
   ]
  },
  {
   "cell_type": "code",
   "execution_count": 65,
   "metadata": {},
   "outputs": [
    {
     "name": "stdout",
     "output_type": "stream",
     "text": [
      "tf.Tensor(\n",
      "[[ 0.38004476  0.7346415  -1.8990432  -0.3343426   0.73921734 -0.6828878\n",
      "   0.67070854 -0.9022436  -0.1926144  -0.47618344 -1.5466332   0.07314962\n",
      "   0.9879817  -0.37642935  0.3311301   0.7130318  -1.0437785   0.11673608\n",
      "   1.9734795  -1.4942398 ]\n",
      " [ 0.45384002  0.7804333  -1.8151624   0.15711592  0.5680583  -0.5109081\n",
      "   0.64784896 -0.9032785   0.03367949 -0.63627976 -1.6567736   0.14908725\n",
      "   1.0143178  -0.14619279  0.48874995  0.756037   -1.099119    0.25569266\n",
      "   2.055519   -1.5298482 ]\n",
      " [ 0.3626921   0.65739745 -1.9422233  -0.4229294   0.7558929  -0.66391647\n",
      "   0.7346618  -0.82061553 -0.21993777 -0.40570587 -1.5468531   0.13747853\n",
      "   1.0168769  -0.31940016  0.31438437  0.75913024 -1.0571525   0.15604538\n",
      "   1.9411086  -1.5386285 ]], shape=(3, 20), dtype=float32)\n"
     ]
    },
    {
     "data": {
      "text/plain": [
       "<tf.Tensor: id=1005, shape=(), dtype=float32, numpy=-0.658394>"
      ]
     },
     "execution_count": 65,
     "metadata": {},
     "output_type": "execute_result"
    }
   ],
   "source": [
    "model(x)"
   ]
  },
  {
   "cell_type": "code",
   "execution_count": null,
   "metadata": {},
   "outputs": [],
   "source": []
  }
 ],
 "metadata": {
  "kernelspec": {
   "display_name": "tensorflow2.0",
   "language": "python",
   "name": "tensorflow2.0"
  },
  "language_info": {
   "codemirror_mode": {
    "name": "ipython",
    "version": 3
   },
   "file_extension": ".py",
   "mimetype": "text/x-python",
   "name": "python",
   "nbconvert_exporter": "python",
   "pygments_lexer": "ipython3",
   "version": "3.6.9"
  }
 },
 "nbformat": 4,
 "nbformat_minor": 4
}
