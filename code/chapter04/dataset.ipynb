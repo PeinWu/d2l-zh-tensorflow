{
 "cells": [
  {
   "cell_type": "code",
   "execution_count": 1,
   "metadata": {},
   "outputs": [
    {
     "data": {
      "text/plain": [
       "'2.0.0-rc2'"
      ]
     },
     "execution_count": 1,
     "metadata": {},
     "output_type": "execute_result"
    }
   ],
   "source": [
    "import tensorflow as tf\n",
    "tf.__version__"
   ]
  },
  {
   "cell_type": "markdown",
   "metadata": {},
   "source": [
    "### dataset API\n",
    "\n",
    "https://blog.csdn.net/feixiang7701/article/details/81611356"
   ]
  },
  {
   "cell_type": "markdown",
   "metadata": {},
   "source": [
    "#### dataset 的属性\n",
    "\n",
    "dataset 可以通过element_spec查看形状和数据dtype"
   ]
  },
  {
   "cell_type": "code",
   "execution_count": 3,
   "metadata": {},
   "outputs": [],
   "source": [
    "dataset = tf.data.Dataset.from_tensor_slices(tf.range(0,9))"
   ]
  },
  {
   "cell_type": "code",
   "execution_count": 8,
   "metadata": {},
   "outputs": [
    {
     "data": {
      "text/plain": [
       "TensorSpec(shape=(), dtype=tf.int32, name=None)"
      ]
     },
     "execution_count": 8,
     "metadata": {},
     "output_type": "execute_result"
    }
   ],
   "source": [
    "dataset.element_spec"
   ]
  },
  {
   "cell_type": "code",
   "execution_count": 23,
   "metadata": {},
   "outputs": [],
   "source": [
    "def test_dataset_conv2d(ds,out_size,last_activation,loss):\n",
    "    model = tf.keras.Sequential([\n",
    "        \n",
    "        tf.keras.layers.Conv2D(filters = 6,kernel_size=5,activation=\"sigmoid\"),\n",
    "        tf.keras.layers.MaxPooling2D(strides = 2),\n",
    "        tf.keras.layers.Conv2D(filters = 16,kernel_size=5,activation=\"sigmoid\"),\n",
    "        tf.keras.layers.MaxPooling2D(strides = 2),\n",
    "        tf.keras.layers.Flatten(),\n",
    "        tf.keras.layers.Dense(32,activation=\"sigmoid\"),\n",
    "        tf.keras.layers.Dense(out_size,activation=last_activation)\n",
    "    ])\n",
    "    \n",
    "    model.compile(loss=loss,metrics=[\"acc\"])\n",
    "    \n",
    "    model.fit(ds,epochs=3,steps_per_epoch=10)"
   ]
  },
  {
   "cell_type": "markdown",
   "metadata": {},
   "source": [
    "#### 数据读取\n",
    "可以通过from_tensor_slices,from_tensors,from_generator"
   ]
  },
  {
   "cell_type": "code",
   "execution_count": 9,
   "metadata": {},
   "outputs": [],
   "source": [
    "(x_train, y_train), (x_test, y_test) = tf.keras.datasets.fashion_mnist.load_data()"
   ]
  },
  {
   "cell_type": "code",
   "execution_count": 32,
   "metadata": {},
   "outputs": [],
   "source": [
    "dataset_1 = tf.data.Dataset.from_tensor_slices((x_train,y_train))"
   ]
  },
  {
   "cell_type": "code",
   "execution_count": 33,
   "metadata": {},
   "outputs": [],
   "source": [
    "def map_fun(x,y):\n",
    "    x = tf.divide(x,255)\n",
    "    x = tf.expand_dims(x,axis=-1)\n",
    "    return x,y"
   ]
  },
  {
   "cell_type": "code",
   "execution_count": 34,
   "metadata": {},
   "outputs": [],
   "source": [
    "dataset_1 = dataset_1.map(map_func=map_fun).batch(256)"
   ]
  },
  {
   "cell_type": "code",
   "execution_count": 35,
   "metadata": {},
   "outputs": [
    {
     "name": "stdout",
     "output_type": "stream",
     "text": [
      "Train for 10 steps\n",
      "Epoch 1/3\n",
      "10/10 [==============================] - 1s 143ms/step - loss: 2.3272 - acc: 0.0965\n",
      "Epoch 2/3\n",
      "10/10 [==============================] - 0s 45ms/step - loss: 2.3044 - acc: 0.0918\n",
      "Epoch 3/3\n",
      "10/10 [==============================] - 0s 43ms/step - loss: 2.3053 - acc: 0.0930\n"
     ]
    }
   ],
   "source": [
    "test_dataset_conv2d(dataset_1,10,last_activation=\"softmax\",loss=tf.losses.sparse_categorical_crossentropy)"
   ]
  },
  {
   "cell_type": "code",
   "execution_count": null,
   "metadata": {},
   "outputs": [],
   "source": []
  }
 ],
 "metadata": {
  "kernelspec": {
   "display_name": "tensorflow2.0",
   "language": "python",
   "name": "tensorflow2.0"
  },
  "language_info": {
   "codemirror_mode": {
    "name": "ipython",
    "version": 3
   },
   "file_extension": ".py",
   "mimetype": "text/x-python",
   "name": "python",
   "nbconvert_exporter": "python",
   "pygments_lexer": "ipython3",
   "version": "3.6.9"
  }
 },
 "nbformat": 4,
 "nbformat_minor": 4
}
